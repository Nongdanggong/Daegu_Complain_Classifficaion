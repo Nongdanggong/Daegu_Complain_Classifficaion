{
 "cells": [
  {
   "cell_type": "markdown",
   "id": "e0a074e1",
   "metadata": {},
   "source": [
    "### 데이터 불러오기"
   ]
  },
  {
   "cell_type": "code",
   "execution_count": 261,
   "id": "eae99cac",
   "metadata": {},
   "outputs": [],
   "source": [
    "import pandas as pd\n",
    "\n",
    "path = 'https://raw.githubusercontent.com/eleron7/Daegu_Complain_Classifficaion/main/%EB%8D%B0%EC%9D%B4%ED%84%B0%20%EC%88%98%EC%A7%91/%ED%81%AC%EB%A1%A4%EB%A7%81/'\n",
    "\n",
    "Suseong = pd.read_csv(path + 'complain_Suseong.csv')\n",
    "Seogu = pd.read_csv(path + 'complain_Seogu.csv')\n",
    "NamGu = pd.read_csv(path + 'complain_NamGu.csv')\n",
    "JungGu = pd.read_csv(path + 'complain_JungGu.csv')\n",
    "DongGu = pd.read_csv(path + 'complain_DongGu.csv')\n",
    "DalSugu = pd.read_csv(path + 'complain_DalSugu.csv')\n",
    "DalSeongGun = pd.read_csv(path + 'complain_DalSeongGun.csv')\n",
    "BukGu = pd.read_csv(path + 'complain_BukGu3.csv')"
   ]
  },
  {
   "cell_type": "markdown",
   "id": "0ffb4261",
   "metadata": {},
   "source": [
    "### 결측치 제거, 불용어 제거"
   ]
  },
  {
   "cell_type": "code",
   "execution_count": 262,
   "id": "fd30fde1",
   "metadata": {},
   "outputs": [],
   "source": [
    "import re"
   ]
  },
  {
   "cell_type": "code",
   "execution_count": 263,
   "id": "c2b357a0-f26c-4259-86c5-c3d288907ddc",
   "metadata": {},
   "outputs": [],
   "source": [
    "def data_preprocessing(data):\n",
    "    #결측치 제거1\n",
    "    data = data.dropna()\n",
    "    \n",
    "    #결측치 제거2\n",
    "    data = data.loc[data['dept'] != '-']\n",
    "    \n",
    "    # 제목과 내용을 합치고 title 열 제거\n",
    "    data['content'] = data['title']  + ' ' + data['content']\n",
    "    \n",
    "    # '\\n' 제거하고 ' ' 공백으로 대체\n",
    "    data['content'] = data['content'].apply(lambda x: x.replace('\\n', ' '))\n",
    "    \n",
    "    # 정규표현식 특수문자 모두 제거\n",
    "    data['content'] = data['content'].apply(lambda x: re.sub(r\"[^\\uAC00-\\uD7A30-9a-zA-Z\\s]\", '', x))\n",
    "    return data.drop('title', axis = 1)"
   ]
  },
  {
   "cell_type": "code",
   "execution_count": 264,
   "id": "d68fe093-0f77-43d6-babf-215f3602a324",
   "metadata": {
    "scrolled": true
   },
   "outputs": [],
   "source": [
    "Suseong = data_preprocessing(Suseong)\n",
    "Seogu = data_preprocessing(Seogu)\n",
    "NamGu = data_preprocessing(NamGu)\n",
    "JungGu = data_preprocessing(JungGu)\n",
    "DongGu = data_preprocessing(DongGu)\n",
    "DalSugu = data_preprocessing(DalSugu)\n",
    "DalSeongGun = data_preprocessing(DalSeongGun)\n",
    "BukGu = data_preprocessing(BukGu)"
   ]
  },
  {
   "cell_type": "code",
   "execution_count": 265,
   "id": "8e65fe65",
   "metadata": {
    "scrolled": true
   },
   "outputs": [
    {
     "data": {
      "text/plain": [
       "'재건축 시행사의 불법 복현주공 1단지 아파트에 살고있는 주민입니다 재건축을 한다고 졶아했는데 부득이하게 조합에서 결정한 이주날을 넘기고 도 이주하지 못하고 살고있는 세대와 또한 재건축에 불만이 있에 이주하지 않고 살고있는 세대와 또한 다른 이유로 인해 이주하지 못하고 살 고있는 많은 세대들이 살고있는 아파트 단지 안에 조합과 시행사는 붉은 페인트로 벽면과 이주세대의 유리창과 계단등에 X 표시와 공가등의 표시로 온통 붉은 칠을 하여 공포심과 협오감을 느끼고 불안감으로 살게하려고 온통 벽면과 유리창에 낙서칠한것입니 다 인간은 쾌적한 환경에 아늑한 보금자리를 마련하고 단란한 가정을 이루에 행복하게 살 권리가 있읍니다 그러기에 국가가 있고 행정관서도 있고 관공서가 있으며 국민이나 주민이 부당한 대우를 받거나 행복한 삶이 부당한 대우를 받으면 국가의 공권력이 적절한 행정력을 행사하여 국민이나 주민이 피해보지 않도 록 해야하는 줄알고 있읍니다 지금 복현주공 1단지 아파트에는 행정력이 마비된 해방구 갇은 느낌이 드는 온통 빨갱이 천지갇읍니다 빠른 시일내에 지금 불안감과 공포심에 있는 이주하지 못한 세대를 위해 적절한 행정지도와 재발방지를 위해 힘써주시길 바람니다 빠른시일내로 시정조치 하지않으면 이러한 사실을 사진과함께 만천하에 공개함과 동시에 공무원님들의 잘잘못을 함께 따질것임니다 인간은 행복할 권리가 있으며 부당한 대우를 받지 않을 권리가 있읍니다'"
      ]
     },
     "execution_count": 265,
     "metadata": {},
     "output_type": "execute_result"
    }
   ],
   "source": [
    "BukGu['content'][9232]"
   ]
  },
  {
   "cell_type": "markdown",
   "id": "39a6336c",
   "metadata": {},
   "source": [
    "### 문장 분리 오픈소스 kss 설치\n",
    "* jupyter notebook 터미널을 열고\n",
    "* sudo pip install kss"
   ]
  },
  {
   "cell_type": "markdown",
   "id": "acf1db2f",
   "metadata": {},
   "source": [
    "### 맞춤법 검사를 위한 셀레니움, 드라이버 설치"
   ]
  },
  {
   "cell_type": "code",
   "execution_count": 266,
   "id": "02463a82-7537-4fdc-bc22-2f7b232e4cfd",
   "metadata": {
    "scrolled": false
   },
   "outputs": [
    {
     "name": "stdout",
     "output_type": "stream",
     "text": [
      "Requirement already satisfied: selenium in /opt/anaconda3/lib/python3.9/site-packages (4.8.2)\n",
      "Requirement already satisfied: urllib3[socks]~=1.26 in /opt/anaconda3/lib/python3.9/site-packages (from selenium) (1.26.11)\n",
      "Requirement already satisfied: trio-websocket~=0.9 in /opt/anaconda3/lib/python3.9/site-packages (from selenium) (0.9.2)\n",
      "Requirement already satisfied: certifi>=2021.10.8 in /opt/anaconda3/lib/python3.9/site-packages (from selenium) (2022.9.24)\n",
      "Requirement already satisfied: trio~=0.17 in /opt/anaconda3/lib/python3.9/site-packages (from selenium) (0.22.0)\n",
      "Requirement already satisfied: attrs>=19.2.0 in /opt/anaconda3/lib/python3.9/site-packages (from trio~=0.17->selenium) (21.4.0)\n",
      "Requirement already satisfied: sortedcontainers in /opt/anaconda3/lib/python3.9/site-packages (from trio~=0.17->selenium) (2.4.0)\n",
      "Requirement already satisfied: idna in /opt/anaconda3/lib/python3.9/site-packages (from trio~=0.17->selenium) (3.3)\n",
      "Requirement already satisfied: exceptiongroup>=1.0.0rc9 in /opt/anaconda3/lib/python3.9/site-packages (from trio~=0.17->selenium) (1.1.0)\n",
      "Requirement already satisfied: outcome in /opt/anaconda3/lib/python3.9/site-packages (from trio~=0.17->selenium) (1.2.0)\n",
      "Requirement already satisfied: async-generator>=1.9 in /opt/anaconda3/lib/python3.9/site-packages (from trio~=0.17->selenium) (1.10)\n",
      "Requirement already satisfied: sniffio in /opt/anaconda3/lib/python3.9/site-packages (from trio~=0.17->selenium) (1.2.0)\n",
      "Requirement already satisfied: wsproto>=0.14 in /opt/anaconda3/lib/python3.9/site-packages (from trio-websocket~=0.9->selenium) (1.2.0)\n",
      "Requirement already satisfied: PySocks!=1.5.7,<2.0,>=1.5.6 in /opt/anaconda3/lib/python3.9/site-packages (from urllib3[socks]~=1.26->selenium) (1.7.1)\n",
      "Requirement already satisfied: h11<1,>=0.9.0 in /opt/anaconda3/lib/python3.9/site-packages (from wsproto>=0.14->trio-websocket~=0.9->selenium) (0.14.0)\n"
     ]
    }
   ],
   "source": [
    "#셀레니움 설치\n",
    "!pip install selenium"
   ]
  },
  {
   "cell_type": "code",
   "execution_count": 267,
   "id": "5c8a6013-5d9d-4a2a-9078-09cd1dd396e3",
   "metadata": {
    "scrolled": false
   },
   "outputs": [
    {
     "name": "stdout",
     "output_type": "stream",
     "text": [
      "Requirement already satisfied: webdriver_manager in /opt/anaconda3/lib/python3.9/site-packages (3.8.6)\r\n",
      "Requirement already satisfied: requests in /opt/anaconda3/lib/python3.9/site-packages (from webdriver_manager) (2.28.1)\r\n",
      "Requirement already satisfied: packaging in /opt/anaconda3/lib/python3.9/site-packages (from webdriver_manager) (21.3)\r\n",
      "Requirement already satisfied: tqdm in /opt/anaconda3/lib/python3.9/site-packages (from webdriver_manager) (4.64.1)\r\n",
      "Requirement already satisfied: python-dotenv in /opt/anaconda3/lib/python3.9/site-packages (from webdriver_manager) (1.0.0)\r\n",
      "Requirement already satisfied: pyparsing!=3.0.5,>=2.0.2 in /opt/anaconda3/lib/python3.9/site-packages (from packaging->webdriver_manager) (3.0.9)\r\n",
      "Requirement already satisfied: certifi>=2017.4.17 in /opt/anaconda3/lib/python3.9/site-packages (from requests->webdriver_manager) (2022.9.24)\r\n",
      "Requirement already satisfied: charset-normalizer<3,>=2 in /opt/anaconda3/lib/python3.9/site-packages (from requests->webdriver_manager) (2.0.4)\r\n",
      "Requirement already satisfied: idna<4,>=2.5 in /opt/anaconda3/lib/python3.9/site-packages (from requests->webdriver_manager) (3.3)\r\n",
      "Requirement already satisfied: urllib3<1.27,>=1.21.1 in /opt/anaconda3/lib/python3.9/site-packages (from requests->webdriver_manager) (1.26.11)\r\n"
     ]
    }
   ],
   "source": [
    "# 웹드라이버매니저 설치\n",
    "!pip install webdriver_manager"
   ]
  },
  {
   "cell_type": "code",
   "execution_count": 268,
   "id": "61057b22-cb51-475c-811e-f686febdc19e",
   "metadata": {},
   "outputs": [],
   "source": [
    "# 라이브러리 불러오기\n",
    "from selenium import webdriver\n",
    "from selenium.webdriver.common.by import By\n",
    "from selenium.webdriver.common.keys import Keys\n",
    "from selenium.webdriver.common.action_chains import ActionChains\n",
    "from selenium.webdriver.support.ui import WebDriverWait\n",
    "from selenium.webdriver.support import expected_conditions as EC\n",
    "from selenium.common.exceptions import NoSuchElementException\n",
    "\n",
    "# 별도의 크롬 드라이버 설치 없이 크롬을 실행하는 방법\n",
    "from webdriver_manager.chrome import ChromeDriverManager\n",
    "from selenium.webdriver.chrome.options import Options"
   ]
  },
  {
   "cell_type": "markdown",
   "id": "46754a50",
   "metadata": {},
   "source": [
    "### 맞춤법 검사(네이버 맞춤법 검사기)"
   ]
  },
  {
   "cell_type": "code",
   "execution_count": 269,
   "id": "04b61d7f",
   "metadata": {},
   "outputs": [],
   "source": [
    "import kss"
   ]
  },
  {
   "cell_type": "code",
   "execution_count": 270,
   "id": "7dc583a0-5c43-4e29-90ca-1af1c6a806b9",
   "metadata": {},
   "outputs": [],
   "source": [
    "# 네이버 맞춤법 검사 url\n",
    "url = 'https://search.naver.com/search.naver?where=nexearch&sm=top_hty&fbm=0&ie=utf8&query=%EB%A7%9E%EC%B6%A4%EB%B2%95+%EA%B2%80%EC%82%AC%EA%B8%B0'\n",
    "\n",
    "# 크롬 옵션 설정\n",
    "options = Options()\n",
    "options.add_experimental_option('detach', True) # 브라우저 바로 닫힘 방지\n",
    "options.add_experimental_option('excludeSwitches', ['enable-logging']) # 불필요한 메시지 제거\n",
    "\n",
    "# 크롬 드라이버 객체 생성 후 크롬으로 해당 url 오픈\n",
    "driver = webdriver.Chrome(options=options)\n",
    "driver.get(url)\n",
    "\n",
    "# 텍스트 입력 영역\n",
    "input_selector = '#grammar_checker > div > div.api_cs_wrap > div.check_box > div.text_box._original > div > div.text_area > textarea'\n",
    "input_area = driver.find_element(By.CSS_SELECTOR, input_selector)"
   ]
  },
  {
   "cell_type": "code",
   "execution_count": 271,
   "id": "812901c9-8986-4f39-ba4a-69646e4eadfe",
   "metadata": {
    "scrolled": true
   },
   "outputs": [],
   "source": [
    "# 문의 내용을 문장 단위로 분리 후 맞춤법 검사를 진행하고 검사가 끝난 문장을 다시 조합하여 반환\n",
    "def spell_check(text):\n",
    "    # 문장 단위 분리\n",
    "    sentences = kss.split_sentences(text)\n",
    "    \n",
    "    result = []\n",
    "    \n",
    "    # 문장 수 만큼 반복\n",
    "    for sentence in sentences:\n",
    "        # 문장 입력\n",
    "        input_area.send_keys(sentence)\n",
    "        \n",
    "        # '검사하기' 버튼 클릭\n",
    "        driver.find_element(By.CLASS_NAME, \"btn_check\").click()\n",
    "                \n",
    "        # 텍스트 출력 영역\n",
    "        output_selector = '#grammar_checker > div > div.api_cs_wrap > div.check_box > div.text_box.right._result.result > div > div.text_area > p'\n",
    "        \n",
    "        # 텍스트가 출력될 때(검사 완료)까지 대기\n",
    "        wait = WebDriverWait(driver, 10)\n",
    "        element = wait.until(EC.presence_of_element_located((By.CSS_SELECTOR, output_selector)))\n",
    "        output_area = driver.find_element(By.CSS_SELECTOR, output_selector)\n",
    "        \n",
    "        # 검사한 텍스트 합치기\n",
    "        result.append(output_area.text)\n",
    "        \n",
    "        # 입력창 비우기   \n",
    "        driver.find_element(By.CSS_SELECTOR, '#grammar_checker > div > div.api_cs_wrap > div.check_box > div.text_box._original > div > div.check_info > span > span > button').click()\n",
    "    \n",
    "    # 검사내용 반환\n",
    "    return ' '.join(result)"
   ]
  },
  {
   "cell_type": "code",
   "execution_count": 272,
   "id": "36845b10",
   "metadata": {},
   "outputs": [],
   "source": [
    "# 샘플 10개만 검사\n",
    "# sample = Suseong.copy()[:5]"
   ]
  },
  {
   "cell_type": "code",
   "execution_count": null,
   "id": "c68e349f-a979-44e3-9a7a-8e183accf384",
   "metadata": {},
   "outputs": [],
   "source": [
    "# content 열에 모두 적용\n",
    "# sample['content_sc'] = sample['content'].apply(lambda x: spell_check(x))\n",
    "Suseong['content_sc'] = Suseong['content'].apply(lambda x: spell_check(x))\n",
    "Seogu['content_sc'] = Seogu['content'].apply(lambda x: spell_check(x))\n",
    "NamGu['content_sc'] = NamGu['content'].apply(lambda x: spell_check(x))\n",
    "JungGu['content_sc'] = JungGu['content'].apply(lambda x: spell_check(x))\n",
    "DongGu['content_sc'] = DongGu['content'].apply(lambda x: spell_check(x))\n",
    "DalSugu['content_sc'] = DalSugu['content'].apply(lambda x: spell_check(x))\n",
    "DalSeongGun['content_sc'] = DalSeongGun['content'].apply(lambda x: spell_check(x))"
   ]
  },
  {
   "cell_type": "code",
   "execution_count": 254,
   "id": "f2d2fe15",
   "metadata": {},
   "outputs": [
    {
     "data": {
      "text/html": [
       "<div>\n",
       "<style scoped>\n",
       "    .dataframe tbody tr th:only-of-type {\n",
       "        vertical-align: middle;\n",
       "    }\n",
       "\n",
       "    .dataframe tbody tr th {\n",
       "        vertical-align: top;\n",
       "    }\n",
       "\n",
       "    .dataframe thead th {\n",
       "        text-align: right;\n",
       "    }\n",
       "</style>\n",
       "<table border=\"1\" class=\"dataframe\">\n",
       "  <thead>\n",
       "    <tr style=\"text-align: right;\">\n",
       "      <th></th>\n",
       "      <th>content</th>\n",
       "      <th>dept</th>\n",
       "      <th>content_sc</th>\n",
       "    </tr>\n",
       "  </thead>\n",
       "  <tbody>\n",
       "    <tr>\n",
       "      <th>0</th>\n",
       "      <td>범어 우방 1 2차 공사장 도로 시설물 점검 요청 청구푸른마을에 거주하는 시민입니다...</td>\n",
       "      <td>도시국 건설과</td>\n",
       "      <td>범어 우방 1 2차 공사장 도로 시설물 점검 요청 청구 푸른 마을에 거주하는 시민입...</td>\n",
       "    </tr>\n",
       "    <tr>\n",
       "      <th>1</th>\n",
       "      <td>쓰레기 불법 투기자를 신고합니다 만촌동주택가 맞은편 앞집에서 주기적으로 쓰레기 배출...</td>\n",
       "      <td>복지국 자원순환과</td>\n",
       "      <td>쓰레기 불법 투기자를 신고합니다 만촌동 주택가 맞은편 앞집에서 주기적으로 쓰레기 배...</td>\n",
       "    </tr>\n",
       "    <tr>\n",
       "      <th>2</th>\n",
       "      <td>우방 12차 재건축공사 관련 도로 점유 및 주민 통행 방해에 대한 진정 구정에 노고...</td>\n",
       "      <td>도시국 건설과</td>\n",
       "      <td>우방 12차 재건축 공사 관련 도로 점유 및 주민 통행 방해에 대한 진정 구정에 노...</td>\n",
       "    </tr>\n",
       "    <tr>\n",
       "      <th>3</th>\n",
       "      <td>파동 KCC건설현장앞 이중주차 파동kcc건설현장 앞 이중주차로 인한 불편사항 접수합...</td>\n",
       "      <td>도시국 교통과</td>\n",
       "      <td>파동 KCC건설 현장 앞 이중주차 파동 kcc건설 현장 앞 이중주차로 인한 불편사항...</td>\n",
       "    </tr>\n",
       "    <tr>\n",
       "      <th>4</th>\n",
       "      <td>지범로 52길 56 더트루웰수성아파트 주변 주정차 단속 저는 해당 주소 3층에 거주...</td>\n",
       "      <td>도시국 교통과</td>\n",
       "      <td>지범로 52길 56 더 트루엘 수성 아파트 주변 주정차 단속 저는 해당 주소 3층에...</td>\n",
       "    </tr>\n",
       "  </tbody>\n",
       "</table>\n",
       "</div>"
      ],
      "text/plain": [
       "                                             content       dept  \\\n",
       "0  범어 우방 1 2차 공사장 도로 시설물 점검 요청 청구푸른마을에 거주하는 시민입니다...    도시국 건설과   \n",
       "1  쓰레기 불법 투기자를 신고합니다 만촌동주택가 맞은편 앞집에서 주기적으로 쓰레기 배출...  복지국 자원순환과   \n",
       "2  우방 12차 재건축공사 관련 도로 점유 및 주민 통행 방해에 대한 진정 구정에 노고...    도시국 건설과   \n",
       "3  파동 KCC건설현장앞 이중주차 파동kcc건설현장 앞 이중주차로 인한 불편사항 접수합...    도시국 교통과   \n",
       "4  지범로 52길 56 더트루웰수성아파트 주변 주정차 단속 저는 해당 주소 3층에 거주...    도시국 교통과   \n",
       "\n",
       "                                          content_sc  \n",
       "0  범어 우방 1 2차 공사장 도로 시설물 점검 요청 청구 푸른 마을에 거주하는 시민입...  \n",
       "1  쓰레기 불법 투기자를 신고합니다 만촌동 주택가 맞은편 앞집에서 주기적으로 쓰레기 배...  \n",
       "2  우방 12차 재건축 공사 관련 도로 점유 및 주민 통행 방해에 대한 진정 구정에 노...  \n",
       "3  파동 KCC건설 현장 앞 이중주차 파동 kcc건설 현장 앞 이중주차로 인한 불편사항...  \n",
       "4  지범로 52길 56 더 트루엘 수성 아파트 주변 주정차 단속 저는 해당 주소 3층에...  "
      ]
     },
     "execution_count": 254,
     "metadata": {},
     "output_type": "execute_result"
    }
   ],
   "source": [
    "# sample"
   ]
  },
  {
   "cell_type": "markdown",
   "id": "68a4f2ba",
   "metadata": {},
   "source": [
    "### 텍스트 증강(파파고 역변역)"
   ]
  },
  {
   "cell_type": "code",
   "execution_count": null,
   "id": "3c87aad7",
   "metadata": {},
   "outputs": [],
   "source": [
    "# 파파고 url\n",
    "url = 'https://papago.naver.com/'\n",
    "\n",
    "# 크롬 옵션 설정\n",
    "options = Options()\n",
    "options.add_experimental_option('detach', True) # 브라우저 바로 닫힘 방지\n",
    "options.add_experimental_option('excludeSwitches', ['enable-logging']) # 불필요한 메시지 제거\n",
    "\n",
    "# 크롬 드라이버 객체 생성 후 크롬으로 해당 url 오픈\n",
    "driver = webdriver.Chrome(options=options)\n",
    "driver.get(url)\n",
    "\n",
    "# 텍스트 입력창이 나타날 때까지 대기\n",
    "wait = WebDriverWait(driver, 10)\n",
    "element = wait.until(EC.presence_of_element_located((By.CSS_SELECTOR, '#txtSource')))\n",
    "\n",
    "# 텍스트 입력 영역\n",
    "input_area = driver.find_element(By.CSS_SELECTOR, '#txtSource')"
   ]
  },
  {
   "cell_type": "code",
   "execution_count": null,
   "id": "b7c37b79",
   "metadata": {},
   "outputs": [],
   "source": [
    "# 문의 내용을 문장 단위로 분리 후 맞춤법 검사를 진행하고 검사가 끝난 문장을 다시 조합하여 반환\n",
    "def reverse_translate(text):\n",
    "    # 문장 단위 분리\n",
    "    sentences = kss.split_sentences(text)\n",
    "    \n",
    "    result = []\n",
    "    \n",
    "    # 문장 수 만큼 반복\n",
    "    for sentence in sentences: \n",
    "        #정번역 (ko to en)\n",
    "        # 문장 입력\n",
    "        input_area.send_keys(sentence)\n",
    "        #번역버튼\n",
    "        driver.find_element(By.CSS_SELECTOR, '#btnTranslate').click()\n",
    "        # 텍스트가 출력될 때(번역 완료)까지 대기\n",
    "        wait = WebDriverWait(driver, 10)\n",
    "        element = wait.until(EC.presence_of_element_located((By.CSS_SELECTOR, '#root > div > div.wrap___1rX6i.rwd.rwd___3Qe-c.banner_active___3MQbf > section > div > div.rwd_layout___2qH8c > div:nth-child(3) > div > ul > li:nth-child(1) > p')))\n",
    "        # 텍스트 출력 영역        \n",
    "        output_area = driver.find_element(By.CSS_SELECTOR, '#txtTarget > span')\n",
    "        # 변수에 저장\n",
    "        ko_to_en = output_area.text\n",
    "        # 입력창 비우기   \n",
    "        driver.find_element(By.CSS_SELECTOR, '#sourceEditArea > button').click()\n",
    "        \n",
    "        #역번역 (en to ko)\n",
    "        # 문장 입력\n",
    "        input_area.send_keys(ko_to_en)\n",
    "        #번역버튼\n",
    "        driver.find_element(By.CSS_SELECTOR, '#btnTranslate').click()\n",
    "        # 텍스트가 출력될 때(번역 완료)까지 대기\n",
    "        wait = WebDriverWait(driver, 10)\n",
    "        element = wait.until(EC.presence_of_element_located((By.CSS_SELECTOR, '#root > div > div.wrap___1rX6i.rwd.rwd___3Qe-c.banner_active___3MQbf > section > div > div.rwd_layout___2qH8c > div:nth-child(3) > div > ul > li:nth-child(1) > p')))\n",
    "        # 텍스트 출력 영역        \n",
    "        output_area = driver.find_element(By.CSS_SELECTOR, '#txtTarget > span')\n",
    "        # 변수에 저장\n",
    "        en_to_ko = output_area.text\n",
    "        # 입력창 비우기   \n",
    "        driver.find_element(By.CSS_SELECTOR, '#sourceEditArea > button').click()\n",
    "        \n",
    "        # 번역한 텍스트 합치기\n",
    "        result.append(en_to_ko)\n",
    "    \n",
    "    # 검사내용 반환\n",
    "    return ' '.join(result)"
   ]
  },
  {
   "cell_type": "code",
   "execution_count": null,
   "id": "ac2d9e76",
   "metadata": {},
   "outputs": [],
   "source": [
    "# sample['re_translate'] = sample['content_sc'].apply(lambda x: reverse_translate(x))"
   ]
  },
  {
   "cell_type": "code",
   "execution_count": null,
   "id": "74c177f2",
   "metadata": {},
   "outputs": [],
   "source": [
    "Suseong['re_translate'] = Suseong['content_sc'].apply(lambda x: reverse_translate(x))\n",
    "Seogu['re_translate'] = Seogu['content_sc'].apply(lambda x: reverse_translate(x))\n",
    "NamGu['re_translate'] = NamGu['content_sc'].apply(lambda x: reverse_translate(x))\n",
    "JungGu['re_translate'] = JungGu['content_sc'].apply(lambda x: reverse_translate(x))\n",
    "DongGu['re_translate'] = DongGu['content_sc'].apply(lambda x: reverse_translate(x))\n",
    "DalSugu['re_translate'] = DalSugu['content_sc'].apply(lambda x: reverse_translate(x))\n",
    "DalSeongGun['re_translate'] = DalSeongGun['content_sc'].apply(lambda x: reverse_translate(x))\n",
    "BukGu['re_translate'] = BukGu['content_sc'].apply(lambda x: reverse_translate(x))"
   ]
  },
  {
   "cell_type": "code",
   "execution_count": 259,
   "id": "b6100257",
   "metadata": {},
   "outputs": [
    {
     "data": {
      "text/plain": [
       "'쓰레기 불법 투기자를 신고합니다 만촌동 주택가 맞은편 앞집에서 주기적으로 쓰레기 배출을 타인의 주택 앞에 침범하여 불법투기하고 있습니다 당연하다는 듯 자신의 집에서 나온 쓰레기들을 타인의 집 앞에 배출하는 경범죄 범법자 여부를 확인 후 징역 1년 이하 100만 원 이하의 벌금 과태료 부과를 건의합니다 해당 쓰레기의 내용물 중 대륜고등학교 신입생 안내문으로 07년생 자녀를 가지고 자기가 버리는데 뭐가 문제냐는 의사를 밝힌 바가 있는 인간입니다 첨부파일 2jpg 1jpg 3jpg'"
      ]
     },
     "execution_count": 259,
     "metadata": {},
     "output_type": "execute_result"
    }
   ],
   "source": [
    "# sample['content_sc'][1]"
   ]
  },
  {
   "cell_type": "code",
   "execution_count": 260,
   "id": "5af2ca37",
   "metadata": {},
   "outputs": [
    {
     "data": {
      "text/plain": [
       "'불법 쓰레기 쓰레기 쓰레기 매립지를 보고 있습니다. 만촌동지역 주민 집 앞에서 쓰레기통에 따르면 쓰레기를 정기적으로 위반하고 불법 버려지고 불법 버려지고 불법 버린다. 타인의 집 앞에서 쓰레기를 당연한 것처럼 방류하는 경범죄인이 있는지 확인한 뒤 1년 이하의 징역에 100만원 이하의 벌금을 부과할 것을 제안합니다 쓰레기 내용물 중 2007년생 아이를 버리겠다는 뜻을 대륜고 신입생 모집 공고를 통해 밝힌 바 있습니다 Attachment 2jpg1jpg3jpg'"
      ]
     },
     "execution_count": 260,
     "metadata": {},
     "output_type": "execute_result"
    }
   ],
   "source": [
    "# sample['re_translate'][1]"
   ]
  },
  {
   "cell_type": "code",
   "execution_count": null,
   "id": "0a6db79b",
   "metadata": {},
   "outputs": [],
   "source": []
  }
 ],
 "metadata": {
  "kernelspec": {
   "display_name": "Python 3 (ipykernel)",
   "language": "python",
   "name": "python3"
  },
  "language_info": {
   "codemirror_mode": {
    "name": "ipython",
    "version": 3
   },
   "file_extension": ".py",
   "mimetype": "text/x-python",
   "name": "python",
   "nbconvert_exporter": "python",
   "pygments_lexer": "ipython3",
   "version": "3.9.13"
  }
 },
 "nbformat": 4,
 "nbformat_minor": 5
}
