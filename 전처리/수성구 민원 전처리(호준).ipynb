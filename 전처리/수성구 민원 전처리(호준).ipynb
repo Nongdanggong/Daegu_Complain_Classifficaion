{
 "cells": [
  {
   "cell_type": "code",
   "execution_count": 1,
   "id": "545d10af-742a-42fb-bcae-d7a3cf11313a",
   "metadata": {},
   "outputs": [],
   "source": [
    "from IPython.core.interactiveshell import InteractiveShell\n",
    "InteractiveShell.ast_node_interactivity = \"all\"\n",
    "import pandas as pd\n",
    "import numpy as np\n",
    "pd.options.display.max_rows = 500\n",
    "import matplotlib.pyplot as plt\n",
    "import seaborn as sns\n",
    "import warnings\n",
    "warnings.filterwarnings(action='ignore')\n"
   ]
  },
  {
   "cell_type": "code",
   "execution_count": 38,
   "id": "53f018c4",
   "metadata": {},
   "outputs": [],
   "source": [
    "df=pd.read_csv('complain_Suseong.csv')"
   ]
  },
  {
   "cell_type": "code",
   "execution_count": 39,
   "id": "0ffd851a",
   "metadata": {},
   "outputs": [
    {
     "data": {
      "text/plain": [
       "array(['도시국 건설과', '복지국 자원순환과', '도시국 교통과', '도시국 건축과', '문화교육국 체육진흥과',\n",
       "       '복지국 녹색환경과', '도시국 공원녹지과', '고산3동', '행정국 정보통신과', '문화교육국 교육지원과',\n",
       "       '기획재정국 일자리경제과', '파동', '황금1동', '도시국 도시디자인과', '두산동', '범어1동', '지산1동',\n",
       "       '보건소 감염병관리과', '고산1동', '보건소 건강증진과', '중동', '복지국 복지정책과', '청렴감사실',\n",
       "       '보건소 식품위생과', '행정국 행정지원과', '보건소 보건행정과', '도시국 안전총괄과', '만촌3동',\n",
       "       '보건소 고산건강생활지원센터', '행정국 홍보소통과', '고산2동', '문화교육국 청년여성가족과',\n",
       "       '복지국 생활보장과', '문화교육국 문화예술과', '복지국 행복나눔과', '행정국 민원여권과', '상동',\n",
       "       '기획재정국 토지정보과', '기획재정국 세무1과', '범어2동', '범어4동', '범어3동', '만촌1동',\n",
       "       '미래경쟁력본부 평생교육과', '복지국 경제환경과', '도시국 토지정보과', '만촌2동', '행정국 문화체육과',\n",
       "       '홍보소통실', '수성1가동', '교육문화국 문화체육과', '복지국 복지과', '행정국 세무2과', '기획조정실',\n",
       "       '교육문화국 관광과', '교육문화국 평생교육과', '범물2동', '행정국 세무1과', '황금2동', '지산2동',\n",
       "       '복지국 생활지원과', '수성2.3가동', '범물1동', '일자리투자사업단', '수성4가동', '복지국 희망복지지원단',\n",
       "       '의회 의회사무국', '총무국 총무과', '총무국 세무과', '총무국 정보통신팀', '수성아트피아',\n",
       "       '주민생활지원국 주민생활지원과', '주민생활지원국 산업환경팀', '도시국 재난안전관리팀',\n",
       "       '주민생활지원국 희망스타트팀', '총무국 자치행정과', '주민생활지원국 위생과', '주민생활지원국 문화체육과',\n",
       "       '주민생활지원국 산업경제과', '총무국 정보통신과'], dtype=object)"
      ]
     },
     "execution_count": 39,
     "metadata": {},
     "output_type": "execute_result"
    }
   ],
   "source": [
    "df['dept'].unique()"
   ]
  },
  {
   "cell_type": "code",
   "execution_count": 40,
   "id": "95522958-de3b-43b9-9b15-6a6b08321d36",
   "metadata": {},
   "outputs": [
    {
     "data": {
      "text/plain": [
       "도시국 건축과            2348\n",
       "도시국 교통과            1163\n",
       "도시국 건설과             903\n",
       "복지국 녹색환경과           633\n",
       "도시국 공원녹지과           590\n",
       "복지국 경제환경과           453\n",
       "복지국 자원순환과           271\n",
       "교육문화국 문화체육과         190\n",
       "도시국 도시디자인과          159\n",
       "복지국 복지과              96\n",
       "보건소 보건행정과            75\n",
       "행정국 문화체육과            57\n",
       "행정국 행정지원과            47\n",
       "보건소 식품위생과            47\n",
       "총무국 총무과              44\n",
       "보건소 감염병관리과           40\n",
       "청렴감사실                29\n",
       "보건소 건강증진과            26\n",
       "도시국 안전총괄과            25\n",
       "도시국 토지정보과            24\n",
       "행정국 민원여권과            23\n",
       "교육문화국 평생교육과          23\n",
       "복지국 복지정책과            22\n",
       "총무국 세무과              20\n",
       "행정국 홍보소통과            20\n",
       "문화교육국 체육진흥과          19\n",
       "총무국 정보통신팀            17\n",
       "보건소 고산건강생활지원센터       11\n",
       "지산1동                 11\n",
       "범어2동                 10\n",
       "문화교육국 문화예술과           9\n",
       "복지국 생활지원과             9\n",
       "만촌2동                  9\n",
       "황금2동                  8\n",
       "행정국 세무1과              8\n",
       "고산2동                  8\n",
       "기획재정국 일자리경제과          7\n",
       "주민생활지원국 주민생활지원과       7\n",
       "기획조정실                 7\n",
       "총무국 자치행정과             7\n",
       "행정국 정보통신과             7\n",
       "고산3동                  7\n",
       "지산2동                  6\n",
       "일자리투자사업단              6\n",
       "범어4동                  6\n",
       "고산1동                  6\n",
       "범어1동                  6\n",
       "상동                    6\n",
       "문화교육국 교육지원과           5\n",
       "행정국 세무2과              5\n",
       "황금1동                  5\n",
       "만촌1동                  5\n",
       "범물2동                  5\n",
       "기획재정국 토지정보과           5\n",
       "파동                    4\n",
       "복지국 행복나눔과             4\n",
       "기획재정국 세무1과            4\n",
       "중동                    4\n",
       "수성1가동                 4\n",
       "복지국 생활보장과             3\n",
       "문화교육국 청년여성가족과         3\n",
       "수성아트피아                3\n",
       "수성2.3가동               3\n",
       "주민생활지원국 산업경제과         3\n",
       "범어3동                  3\n",
       "주민생활지원국 위생과           3\n",
       "두산동                   3\n",
       "범물1동                  2\n",
       "의회 의회사무국              2\n",
       "수성4가동                 2\n",
       "만촌3동                  2\n",
       "주민생활지원국 희망스타트팀        1\n",
       "주민생활지원국 문화체육과         1\n",
       "미래경쟁력본부 평생교육과         1\n",
       "도시국 재난안전관리팀           1\n",
       "주민생활지원국 산업환경팀         1\n",
       "복지국 희망복지지원단           1\n",
       "교육문화국 관광과             1\n",
       "홍보소통실                 1\n",
       "총무국 정보통신과             1\n",
       "Name: dept, dtype: int64"
      ]
     },
     "execution_count": 40,
     "metadata": {},
     "output_type": "execute_result"
    }
   ],
   "source": [
    "df['dept'].value_counts()"
   ]
  },
  {
   "cell_type": "code",
   "execution_count": 41,
   "id": "99924d62-4759-410b-b0ef-c34d39ee38f4",
   "metadata": {},
   "outputs": [],
   "source": [
    "#중분류 생성\n",
    "df['middle category']=df['dept'].copy()"
   ]
  },
  {
   "cell_type": "code",
   "execution_count": 42,
   "id": "33fbbbd1-0b12-4ea5-b5e7-26d72575c3d5",
   "metadata": {},
   "outputs": [],
   "source": [
    "for i in range(0,len(df['middle category'])):\n",
    "    if '국' in df['middle category'][i]:\n",
    "        num=df['middle category'][i].find('국')\n",
    "        df['middle category'][i]=df['middle category'][i][:num+1]\n",
    "        \n",
    "    elif '보건소' in df['middle category'][i]:\n",
    "        df['middle category'][i]='보건소'\n",
    "        \n",
    "    elif df['middle category'][i][-1]=='동':\n",
    "        df['middle category'][i]='동사무소'"
   ]
  },
  {
   "cell_type": "code",
   "execution_count": 43,
   "id": "ca60dae5-b5b0-441a-9151-3ab72cd0836b",
   "metadata": {},
   "outputs": [
    {
     "data": {
      "text/plain": [
       "도시국              5213\n",
       "복지국              1492\n",
       "교육문화국             214\n",
       "보건소               199\n",
       "행정국               167\n",
       "동사무소              125\n",
       "총무국                89\n",
       "문화교육국              36\n",
       "청렴감사실              29\n",
       "주민생활지원국            16\n",
       "기획재정국              16\n",
       "기획조정실               7\n",
       "일자리투자사업단            6\n",
       "수성아트피아              3\n",
       "의회 의회사무국            2\n",
       "홍보소통실               1\n",
       "미래경쟁력본부 평생교육과       1\n",
       "Name: middle category, dtype: int64"
      ]
     },
     "execution_count": 43,
     "metadata": {},
     "output_type": "execute_result"
    }
   ],
   "source": [
    "df['middle category'].value_counts()"
   ]
  },
  {
   "cell_type": "code",
   "execution_count": 44,
   "id": "774e64a2-6217-4ac8-a9da-dd24ceadb383",
   "metadata": {},
   "outputs": [],
   "source": [
    "#민원내용 길이\n",
    "df['len_content']=0\n",
    "for i in range(0,len(df['len_content'])):\n",
    "    df['len_content'][i]=len(df['content'][i])"
   ]
  },
  {
   "cell_type": "code",
   "execution_count": 45,
   "id": "061a4399-6efb-4c81-8201-ac4b8c35154e",
   "metadata": {},
   "outputs": [
    {
     "data": {
      "text/html": [
       "<div>\n",
       "<style scoped>\n",
       "    .dataframe tbody tr th:only-of-type {\n",
       "        vertical-align: middle;\n",
       "    }\n",
       "\n",
       "    .dataframe tbody tr th {\n",
       "        vertical-align: top;\n",
       "    }\n",
       "\n",
       "    .dataframe thead th {\n",
       "        text-align: right;\n",
       "    }\n",
       "</style>\n",
       "<table border=\"1\" class=\"dataframe\">\n",
       "  <thead>\n",
       "    <tr style=\"text-align: right;\">\n",
       "      <th></th>\n",
       "      <th>len_content</th>\n",
       "    </tr>\n",
       "  </thead>\n",
       "  <tbody>\n",
       "    <tr>\n",
       "      <th>count</th>\n",
       "      <td>7616.000000</td>\n",
       "    </tr>\n",
       "    <tr>\n",
       "      <th>mean</th>\n",
       "      <td>479.403361</td>\n",
       "    </tr>\n",
       "    <tr>\n",
       "      <th>std</th>\n",
       "      <td>514.759417</td>\n",
       "    </tr>\n",
       "    <tr>\n",
       "      <th>min</th>\n",
       "      <td>1.000000</td>\n",
       "    </tr>\n",
       "    <tr>\n",
       "      <th>25%</th>\n",
       "      <td>204.000000</td>\n",
       "    </tr>\n",
       "    <tr>\n",
       "      <th>50%</th>\n",
       "      <td>354.000000</td>\n",
       "    </tr>\n",
       "    <tr>\n",
       "      <th>75%</th>\n",
       "      <td>606.000000</td>\n",
       "    </tr>\n",
       "    <tr>\n",
       "      <th>max</th>\n",
       "      <td>22716.000000</td>\n",
       "    </tr>\n",
       "  </tbody>\n",
       "</table>\n",
       "</div>"
      ],
      "text/plain": [
       "        len_content\n",
       "count   7616.000000\n",
       "mean     479.403361\n",
       "std      514.759417\n",
       "min        1.000000\n",
       "25%      204.000000\n",
       "50%      354.000000\n",
       "75%      606.000000\n",
       "max    22716.000000"
      ]
     },
     "execution_count": 45,
     "metadata": {},
     "output_type": "execute_result"
    }
   ],
   "source": [
    "df[['len_content']].describe()"
   ]
  },
  {
   "cell_type": "code",
   "execution_count": 46,
   "id": "1cfb7309-9231-4c76-8c92-e1a5ecdea202",
   "metadata": {},
   "outputs": [
    {
     "data": {
      "text/html": [
       "<div>\n",
       "<style scoped>\n",
       "    .dataframe tbody tr th:only-of-type {\n",
       "        vertical-align: middle;\n",
       "    }\n",
       "\n",
       "    .dataframe tbody tr th {\n",
       "        vertical-align: top;\n",
       "    }\n",
       "\n",
       "    .dataframe thead th {\n",
       "        text-align: right;\n",
       "    }\n",
       "</style>\n",
       "<table border=\"1\" class=\"dataframe\">\n",
       "  <thead>\n",
       "    <tr style=\"text-align: right;\">\n",
       "      <th></th>\n",
       "      <th>title</th>\n",
       "      <th>content</th>\n",
       "      <th>dept</th>\n",
       "      <th>middle category</th>\n",
       "      <th>len_content</th>\n",
       "    </tr>\n",
       "  </thead>\n",
       "  <tbody>\n",
       "    <tr>\n",
       "      <th>608</th>\n",
       "      <td>자가격리 통지서 발급 부탁드립니다</td>\n",
       "      <td>자가 격리 통지서 발급부탁드립니다.</td>\n",
       "      <td>보건소 감염병관리과</td>\n",
       "      <td>보건소</td>\n",
       "      <td>19</td>\n",
       "    </tr>\n",
       "    <tr>\n",
       "      <th>629</th>\n",
       "      <td>자가격리 통지서 발급 요청합니다.</td>\n",
       "      <td>격리 통지서가 필요하여 요청드립니다.</td>\n",
       "      <td>보건소 고산건강생활지원센터</td>\n",
       "      <td>보건소</td>\n",
       "      <td>20</td>\n",
       "    </tr>\n",
       "    <tr>\n",
       "      <th>1855</th>\n",
       "      <td>수성못 상화공원쪽 잔디에는 텐트 금지인가요?</td>\n",
       "      <td>제목 그대로 여쭤보고 싶네요</td>\n",
       "      <td>도시국 공원녹지과</td>\n",
       "      <td>도시국</td>\n",
       "      <td>15</td>\n",
       "    </tr>\n",
       "    <tr>\n",
       "      <th>5243</th>\n",
       "      <td>&lt;목록번호6185번&gt;즉시 처리해 주셔서 감사합니다(이하 내용無)</td>\n",
       "      <td>.</td>\n",
       "      <td>도시국 건설과</td>\n",
       "      <td>도시국</td>\n",
       "      <td>1</td>\n",
       "    </tr>\n",
       "    <tr>\n",
       "      <th>6106</th>\n",
       "      <td>범어네거리 전광판~~에 Wolcome이라고 뜨네요.welcome이 맞지않나요ㅡ.ㅡ;...</td>\n",
       "      <td>냉무</td>\n",
       "      <td>도시국 도시디자인과</td>\n",
       "      <td>도시국</td>\n",
       "      <td>2</td>\n",
       "    </tr>\n",
       "    <tr>\n",
       "      <th>7016</th>\n",
       "      <td>준공승인결사반대</td>\n",
       "      <td>수성태영데시앙 준공승인결사반대합니다</td>\n",
       "      <td>도시국 건축과</td>\n",
       "      <td>도시국</td>\n",
       "      <td>19</td>\n",
       "    </tr>\n",
       "  </tbody>\n",
       "</table>\n",
       "</div>"
      ],
      "text/plain": [
       "                                                  title               content  \\\n",
       "608                                  자가격리 통지서 발급 부탁드립니다   자가 격리 통지서 발급부탁드립니다.   \n",
       "629                                  자가격리 통지서 발급 요청합니다.  격리 통지서가 필요하여 요청드립니다.   \n",
       "1855                           수성못 상화공원쪽 잔디에는 텐트 금지인가요?       제목 그대로 여쭤보고 싶네요   \n",
       "5243                <목록번호6185번>즉시 처리해 주셔서 감사합니다(이하 내용無)                     .   \n",
       "6106  범어네거리 전광판~~에 Wolcome이라고 뜨네요.welcome이 맞지않나요ㅡ.ㅡ;...                    냉무   \n",
       "7016                                           준공승인결사반대   수성태영데시앙 준공승인결사반대합니다   \n",
       "\n",
       "                dept middle category  len_content  \n",
       "608       보건소 감염병관리과             보건소           19  \n",
       "629   보건소 고산건강생활지원센터             보건소           20  \n",
       "1855       도시국 공원녹지과             도시국           15  \n",
       "5243         도시국 건설과             도시국            1  \n",
       "6106      도시국 도시디자인과             도시국            2  \n",
       "7016         도시국 건축과             도시국           19  "
      ]
     },
     "execution_count": 46,
     "metadata": {},
     "output_type": "execute_result"
    }
   ],
   "source": [
    "#이상치 확인\n",
    "df[df['len_content']<=20]"
   ]
  },
  {
   "cell_type": "code",
   "execution_count": 47,
   "id": "6cbc2a99-bfce-4aa3-94df-e615593c89fe",
   "metadata": {},
   "outputs": [],
   "source": [
    "#이상치로 판단하기 보단 제목과 내용을 통합하는게 나을 듯!\n",
    "df['text']=df['title']+\" \"+df['content']"
   ]
  },
  {
   "cell_type": "code",
   "execution_count": 48,
   "id": "9b18925a-d0be-40a3-a98c-5cf231923314",
   "metadata": {},
   "outputs": [
    {
     "data": {
      "text/html": [
       "<div>\n",
       "<style scoped>\n",
       "    .dataframe tbody tr th:only-of-type {\n",
       "        vertical-align: middle;\n",
       "    }\n",
       "\n",
       "    .dataframe tbody tr th {\n",
       "        vertical-align: top;\n",
       "    }\n",
       "\n",
       "    .dataframe thead th {\n",
       "        text-align: right;\n",
       "    }\n",
       "</style>\n",
       "<table border=\"1\" class=\"dataframe\">\n",
       "  <thead>\n",
       "    <tr style=\"text-align: right;\">\n",
       "      <th></th>\n",
       "      <th>title</th>\n",
       "      <th>content</th>\n",
       "      <th>dept</th>\n",
       "      <th>middle category</th>\n",
       "      <th>len_content</th>\n",
       "      <th>text</th>\n",
       "    </tr>\n",
       "  </thead>\n",
       "  <tbody>\n",
       "    <tr>\n",
       "      <th>0</th>\n",
       "      <td>범어 우방 1, 2차 공사장 도로 시설물 점검 요청</td>\n",
       "      <td>청구푸른마을에 거주하는 시민입니다.\\n\\n어제 아이 통학을 위해 우방 1, 2차 공...</td>\n",
       "      <td>도시국 건설과</td>\n",
       "      <td>도시국</td>\n",
       "      <td>411</td>\n",
       "      <td>범어 우방 1, 2차 공사장 도로 시설물 점검 요청 청구푸른마을에 거주하는 시민입니...</td>\n",
       "    </tr>\n",
       "    <tr>\n",
       "      <th>1</th>\n",
       "      <td>쓰레기 불법 투기자를 신고합니다</td>\n",
       "      <td>만촌동주택가 맞은편 앞집에서 주기적으로 쓰레기 배출을 타인의 주택앞에 침범하여\\n불...</td>\n",
       "      <td>복지국 자원순환과</td>\n",
       "      <td>복지국</td>\n",
       "      <td>249</td>\n",
       "      <td>쓰레기 불법 투기자를 신고합니다 만촌동주택가 맞은편 앞집에서 주기적으로 쓰레기 배출...</td>\n",
       "    </tr>\n",
       "    <tr>\n",
       "      <th>2</th>\n",
       "      <td>우방 1,2차 재건축공사 관련 도로 점유 및 주민 통행 방해에 대한 진정</td>\n",
       "      <td>구정에 노고가 많으십니다.\\n\\n범어 우방 1, 2차 재개발 공사와 관련해 일전에 ...</td>\n",
       "      <td>도시국 건설과</td>\n",
       "      <td>도시국</td>\n",
       "      <td>895</td>\n",
       "      <td>우방 1,2차 재건축공사 관련 도로 점유 및 주민 통행 방해에 대한 진정 구정에 노...</td>\n",
       "    </tr>\n",
       "    <tr>\n",
       "      <th>3</th>\n",
       "      <td>파동 KCC건설현장앞 이중주차</td>\n",
       "      <td>파동kcc건설현장 앞 이중주차로 인한\\n불편사항 접수합니다\\n\\n민원을 몇차례 넣었...</td>\n",
       "      <td>도시국 교통과</td>\n",
       "      <td>도시국</td>\n",
       "      <td>285</td>\n",
       "      <td>파동 KCC건설현장앞 이중주차 파동kcc건설현장 앞 이중주차로 인한\\n불편사항 접수...</td>\n",
       "    </tr>\n",
       "    <tr>\n",
       "      <th>4</th>\n",
       "      <td>지범로 52길 5-6 더트루웰수성아파트 주변 주정차 단속</td>\n",
       "      <td>저는 해당 주소 3층에 거주하고 있는 박신호라고 합니다. 본 건물은 20년 이전 부...</td>\n",
       "      <td>도시국 교통과</td>\n",
       "      <td>도시국</td>\n",
       "      <td>678</td>\n",
       "      <td>지범로 52길 5-6 더트루웰수성아파트 주변 주정차 단속 저는 해당 주소 3층에 거...</td>\n",
       "    </tr>\n",
       "    <tr>\n",
       "      <th>5</th>\n",
       "      <td>범어 우방 1,2차 공사 관련 민원 및 민원 답변에 대한 의견 개진</td>\n",
       "      <td>구정에 노고가 많으십니다.\\n\\n저는 3월 29일 민원 제기한 범어청구푸른마을에 거...</td>\n",
       "      <td>도시국 건축과</td>\n",
       "      <td>도시국</td>\n",
       "      <td>1285</td>\n",
       "      <td>범어 우방 1,2차 공사 관련 민원 및 민원 답변에 대한 의견 개진 구정에 노고가 ...</td>\n",
       "    </tr>\n",
       "    <tr>\n",
       "      <th>6</th>\n",
       "      <td>(체육진흥과) 수성패밀리파크 풋살장 전등 교체 요청</td>\n",
       "      <td>수성패밀리파크 풋살장 전등 일부가 나오지 않아서\\n야간 운동 시 사고 위험이 있습니...</td>\n",
       "      <td>문화교육국 체육진흥과</td>\n",
       "      <td>문화교육국</td>\n",
       "      <td>64</td>\n",
       "      <td>(체육진흥과) 수성패밀리파크 풋살장 전등 교체 요청 수성패밀리파크 풋살장 전등 일부...</td>\n",
       "    </tr>\n",
       "    <tr>\n",
       "      <th>7</th>\n",
       "      <td>입주자대표회장이 선거관리위원회 업무를 방해하고 있습니다.</td>\n",
       "      <td>2023년 4월 1일 선거관리위원 임기가 시작하여 관리주체에 총 7명의 선관위원 중...</td>\n",
       "      <td>도시국 건축과</td>\n",
       "      <td>도시국</td>\n",
       "      <td>417</td>\n",
       "      <td>입주자대표회장이 선거관리위원회 업무를 방해하고 있습니다. 2023년 4월 1일 선거...</td>\n",
       "    </tr>\n",
       "    <tr>\n",
       "      <th>8</th>\n",
       "      <td>하수구 악취 확인 및 처리 요청 건</td>\n",
       "      <td>수고하십니다\\n\\n하수구 악취가 심합니다\\n작년, 재 작년 지속 악취가 났었고, 날...</td>\n",
       "      <td>도시국 건설과</td>\n",
       "      <td>도시국</td>\n",
       "      <td>220</td>\n",
       "      <td>하수구 악취 확인 및 처리 요청 건 수고하십니다\\n\\n하수구 악취가 심합니다\\n작년...</td>\n",
       "    </tr>\n",
       "    <tr>\n",
       "      <th>9</th>\n",
       "      <td>범어우방 1, 2차 공사 관련 민원(소음 및 초등학생 통학로 개선 요청)</td>\n",
       "      <td>구정에 노고가 많으십니다.\\n\\n일전에 민원을 제기한 청구푸른마을에 거주하고 있는 ...</td>\n",
       "      <td>복지국 녹색환경과</td>\n",
       "      <td>복지국</td>\n",
       "      <td>1097</td>\n",
       "      <td>범어우방 1, 2차 공사 관련 민원(소음 및 초등학생 통학로 개선 요청) 구정에 노...</td>\n",
       "    </tr>\n",
       "  </tbody>\n",
       "</table>\n",
       "</div>"
      ],
      "text/plain": [
       "                                      title  \\\n",
       "0              범어 우방 1, 2차 공사장 도로 시설물 점검 요청   \n",
       "1                         쓰레기 불법 투기자를 신고합니다   \n",
       "2  우방 1,2차 재건축공사 관련 도로 점유 및 주민 통행 방해에 대한 진정   \n",
       "3                          파동 KCC건설현장앞 이중주차   \n",
       "4           지범로 52길 5-6 더트루웰수성아파트 주변 주정차 단속   \n",
       "5     범어 우방 1,2차 공사 관련 민원 및 민원 답변에 대한 의견 개진   \n",
       "6              (체육진흥과) 수성패밀리파크 풋살장 전등 교체 요청   \n",
       "7           입주자대표회장이 선거관리위원회 업무를 방해하고 있습니다.   \n",
       "8                       하수구 악취 확인 및 처리 요청 건   \n",
       "9  범어우방 1, 2차 공사 관련 민원(소음 및 초등학생 통학로 개선 요청)   \n",
       "\n",
       "                                             content         dept  \\\n",
       "0  청구푸른마을에 거주하는 시민입니다.\\n\\n어제 아이 통학을 위해 우방 1, 2차 공...      도시국 건설과   \n",
       "1  만촌동주택가 맞은편 앞집에서 주기적으로 쓰레기 배출을 타인의 주택앞에 침범하여\\n불...    복지국 자원순환과   \n",
       "2  구정에 노고가 많으십니다.\\n\\n범어 우방 1, 2차 재개발 공사와 관련해 일전에 ...      도시국 건설과   \n",
       "3  파동kcc건설현장 앞 이중주차로 인한\\n불편사항 접수합니다\\n\\n민원을 몇차례 넣었...      도시국 교통과   \n",
       "4  저는 해당 주소 3층에 거주하고 있는 박신호라고 합니다. 본 건물은 20년 이전 부...      도시국 교통과   \n",
       "5  구정에 노고가 많으십니다.\\n\\n저는 3월 29일 민원 제기한 범어청구푸른마을에 거...      도시국 건축과   \n",
       "6  수성패밀리파크 풋살장 전등 일부가 나오지 않아서\\n야간 운동 시 사고 위험이 있습니...  문화교육국 체육진흥과   \n",
       "7  2023년 4월 1일 선거관리위원 임기가 시작하여 관리주체에 총 7명의 선관위원 중...      도시국 건축과   \n",
       "8  수고하십니다\\n\\n하수구 악취가 심합니다\\n작년, 재 작년 지속 악취가 났었고, 날...      도시국 건설과   \n",
       "9  구정에 노고가 많으십니다.\\n\\n일전에 민원을 제기한 청구푸른마을에 거주하고 있는 ...    복지국 녹색환경과   \n",
       "\n",
       "  middle category  len_content  \\\n",
       "0             도시국          411   \n",
       "1             복지국          249   \n",
       "2             도시국          895   \n",
       "3             도시국          285   \n",
       "4             도시국          678   \n",
       "5             도시국         1285   \n",
       "6           문화교육국           64   \n",
       "7             도시국          417   \n",
       "8             도시국          220   \n",
       "9             복지국         1097   \n",
       "\n",
       "                                                text  \n",
       "0  범어 우방 1, 2차 공사장 도로 시설물 점검 요청 청구푸른마을에 거주하는 시민입니...  \n",
       "1  쓰레기 불법 투기자를 신고합니다 만촌동주택가 맞은편 앞집에서 주기적으로 쓰레기 배출...  \n",
       "2  우방 1,2차 재건축공사 관련 도로 점유 및 주민 통행 방해에 대한 진정 구정에 노...  \n",
       "3  파동 KCC건설현장앞 이중주차 파동kcc건설현장 앞 이중주차로 인한\\n불편사항 접수...  \n",
       "4  지범로 52길 5-6 더트루웰수성아파트 주변 주정차 단속 저는 해당 주소 3층에 거...  \n",
       "5  범어 우방 1,2차 공사 관련 민원 및 민원 답변에 대한 의견 개진 구정에 노고가 ...  \n",
       "6  (체육진흥과) 수성패밀리파크 풋살장 전등 교체 요청 수성패밀리파크 풋살장 전등 일부...  \n",
       "7  입주자대표회장이 선거관리위원회 업무를 방해하고 있습니다. 2023년 4월 1일 선거...  \n",
       "8  하수구 악취 확인 및 처리 요청 건 수고하십니다\\n\\n하수구 악취가 심합니다\\n작년...  \n",
       "9  범어우방 1, 2차 공사 관련 민원(소음 및 초등학생 통학로 개선 요청) 구정에 노...  "
      ]
     },
     "execution_count": 48,
     "metadata": {},
     "output_type": "execute_result"
    }
   ],
   "source": [
    "df.head(10)"
   ]
  },
  {
   "cell_type": "code",
   "execution_count": 49,
   "id": "4fe0a175-7117-449a-8c19-91ac4e1456bd",
   "metadata": {},
   "outputs": [],
   "source": [
    "#데이터 프레임 정리\n",
    "df=df[['text','len_content','middle category','dept']]"
   ]
  },
  {
   "cell_type": "code",
   "execution_count": 50,
   "id": "4779c3e7-da2b-4ca4-9bc9-59b8bc53ce77",
   "metadata": {},
   "outputs": [
    {
     "data": {
      "text/html": [
       "<div>\n",
       "<style scoped>\n",
       "    .dataframe tbody tr th:only-of-type {\n",
       "        vertical-align: middle;\n",
       "    }\n",
       "\n",
       "    .dataframe tbody tr th {\n",
       "        vertical-align: top;\n",
       "    }\n",
       "\n",
       "    .dataframe thead th {\n",
       "        text-align: right;\n",
       "    }\n",
       "</style>\n",
       "<table border=\"1\" class=\"dataframe\">\n",
       "  <thead>\n",
       "    <tr style=\"text-align: right;\">\n",
       "      <th></th>\n",
       "      <th>text</th>\n",
       "      <th>len_content</th>\n",
       "      <th>middle category</th>\n",
       "      <th>dept</th>\n",
       "    </tr>\n",
       "  </thead>\n",
       "  <tbody>\n",
       "    <tr>\n",
       "      <th>0</th>\n",
       "      <td>범어 우방 1, 2차 공사장 도로 시설물 점검 요청 청구푸른마을에 거주하는 시민입니...</td>\n",
       "      <td>411</td>\n",
       "      <td>도시국</td>\n",
       "      <td>도시국 건설과</td>\n",
       "    </tr>\n",
       "    <tr>\n",
       "      <th>1</th>\n",
       "      <td>쓰레기 불법 투기자를 신고합니다 만촌동주택가 맞은편 앞집에서 주기적으로 쓰레기 배출...</td>\n",
       "      <td>249</td>\n",
       "      <td>복지국</td>\n",
       "      <td>복지국 자원순환과</td>\n",
       "    </tr>\n",
       "    <tr>\n",
       "      <th>2</th>\n",
       "      <td>우방 1,2차 재건축공사 관련 도로 점유 및 주민 통행 방해에 대한 진정 구정에 노...</td>\n",
       "      <td>895</td>\n",
       "      <td>도시국</td>\n",
       "      <td>도시국 건설과</td>\n",
       "    </tr>\n",
       "    <tr>\n",
       "      <th>3</th>\n",
       "      <td>파동 KCC건설현장앞 이중주차 파동kcc건설현장 앞 이중주차로 인한\\n불편사항 접수...</td>\n",
       "      <td>285</td>\n",
       "      <td>도시국</td>\n",
       "      <td>도시국 교통과</td>\n",
       "    </tr>\n",
       "    <tr>\n",
       "      <th>4</th>\n",
       "      <td>지범로 52길 5-6 더트루웰수성아파트 주변 주정차 단속 저는 해당 주소 3층에 거...</td>\n",
       "      <td>678</td>\n",
       "      <td>도시국</td>\n",
       "      <td>도시국 교통과</td>\n",
       "    </tr>\n",
       "    <tr>\n",
       "      <th>5</th>\n",
       "      <td>범어 우방 1,2차 공사 관련 민원 및 민원 답변에 대한 의견 개진 구정에 노고가 ...</td>\n",
       "      <td>1285</td>\n",
       "      <td>도시국</td>\n",
       "      <td>도시국 건축과</td>\n",
       "    </tr>\n",
       "    <tr>\n",
       "      <th>6</th>\n",
       "      <td>(체육진흥과) 수성패밀리파크 풋살장 전등 교체 요청 수성패밀리파크 풋살장 전등 일부...</td>\n",
       "      <td>64</td>\n",
       "      <td>문화교육국</td>\n",
       "      <td>문화교육국 체육진흥과</td>\n",
       "    </tr>\n",
       "    <tr>\n",
       "      <th>7</th>\n",
       "      <td>입주자대표회장이 선거관리위원회 업무를 방해하고 있습니다. 2023년 4월 1일 선거...</td>\n",
       "      <td>417</td>\n",
       "      <td>도시국</td>\n",
       "      <td>도시국 건축과</td>\n",
       "    </tr>\n",
       "    <tr>\n",
       "      <th>8</th>\n",
       "      <td>하수구 악취 확인 및 처리 요청 건 수고하십니다\\n\\n하수구 악취가 심합니다\\n작년...</td>\n",
       "      <td>220</td>\n",
       "      <td>도시국</td>\n",
       "      <td>도시국 건설과</td>\n",
       "    </tr>\n",
       "    <tr>\n",
       "      <th>9</th>\n",
       "      <td>범어우방 1, 2차 공사 관련 민원(소음 및 초등학생 통학로 개선 요청) 구정에 노...</td>\n",
       "      <td>1097</td>\n",
       "      <td>복지국</td>\n",
       "      <td>복지국 녹색환경과</td>\n",
       "    </tr>\n",
       "  </tbody>\n",
       "</table>\n",
       "</div>"
      ],
      "text/plain": [
       "                                                text  len_content  \\\n",
       "0  범어 우방 1, 2차 공사장 도로 시설물 점검 요청 청구푸른마을에 거주하는 시민입니...          411   \n",
       "1  쓰레기 불법 투기자를 신고합니다 만촌동주택가 맞은편 앞집에서 주기적으로 쓰레기 배출...          249   \n",
       "2  우방 1,2차 재건축공사 관련 도로 점유 및 주민 통행 방해에 대한 진정 구정에 노...          895   \n",
       "3  파동 KCC건설현장앞 이중주차 파동kcc건설현장 앞 이중주차로 인한\\n불편사항 접수...          285   \n",
       "4  지범로 52길 5-6 더트루웰수성아파트 주변 주정차 단속 저는 해당 주소 3층에 거...          678   \n",
       "5  범어 우방 1,2차 공사 관련 민원 및 민원 답변에 대한 의견 개진 구정에 노고가 ...         1285   \n",
       "6  (체육진흥과) 수성패밀리파크 풋살장 전등 교체 요청 수성패밀리파크 풋살장 전등 일부...           64   \n",
       "7  입주자대표회장이 선거관리위원회 업무를 방해하고 있습니다. 2023년 4월 1일 선거...          417   \n",
       "8  하수구 악취 확인 및 처리 요청 건 수고하십니다\\n\\n하수구 악취가 심합니다\\n작년...          220   \n",
       "9  범어우방 1, 2차 공사 관련 민원(소음 및 초등학생 통학로 개선 요청) 구정에 노...         1097   \n",
       "\n",
       "  middle category         dept  \n",
       "0             도시국      도시국 건설과  \n",
       "1             복지국    복지국 자원순환과  \n",
       "2             도시국      도시국 건설과  \n",
       "3             도시국      도시국 교통과  \n",
       "4             도시국      도시국 교통과  \n",
       "5             도시국      도시국 건축과  \n",
       "6           문화교육국  문화교육국 체육진흥과  \n",
       "7             도시국      도시국 건축과  \n",
       "8             도시국      도시국 건설과  \n",
       "9             복지국    복지국 녹색환경과  "
      ]
     },
     "execution_count": 50,
     "metadata": {},
     "output_type": "execute_result"
    }
   ],
   "source": [
    "df.head(10)"
   ]
  },
  {
   "cell_type": "code",
   "execution_count": 51,
   "id": "cdb531d9-c32e-4df2-a0c8-b6b635598ed9",
   "metadata": {},
   "outputs": [
    {
     "data": {
      "text/plain": [
       "text               0\n",
       "len_content        0\n",
       "middle category    0\n",
       "dept               0\n",
       "dtype: int64"
      ]
     },
     "execution_count": 51,
     "metadata": {},
     "output_type": "execute_result"
    }
   ],
   "source": [
    "#결측치 확인\n",
    "df.isnull().sum()"
   ]
  },
  {
   "cell_type": "code",
   "execution_count": 52,
   "id": "28e4d2b7-b5c3-448e-9c44-1fc37876f75b",
   "metadata": {},
   "outputs": [
    {
     "data": {
      "text/plain": [
       "<AxesSubplot:xlabel='middle category', ylabel='len_content'>"
      ]
     },
     "execution_count": 52,
     "metadata": {},
     "output_type": "execute_result"
    },
    {
     "data": {
      "image/png": "[encoded data removed]",
      "text/plain": [
       "<Figure size 640x480 with 1 Axes>"
      ]
     },
     "metadata": {},
     "output_type": "display_data"
    }
   ],
   "source": [
    "#혹시 부서별로 민원 길이가 다르려나?\n",
    "sns.barplot(data=df,x='middle category',y='len_content')\n",
    "plt.show()\n",
    "#아 폰트 깨짐..... 그래도 유의미해 보이지는 않는다!"
   ]
  },
  {
   "cell_type": "code",
   "execution_count": 53,
   "id": "8cf17556-4d98-4609-8a73-d103e66631a8",
   "metadata": {},
   "outputs": [],
   "source": [
    "#중복텍스트 제거\n",
    "tmp_list=[]\n",
    "for i in range(0,len(df['text'])):\n",
    "    if df['text'][i] in tmp_list:\n",
    "        df['text'][i]=None\n",
    "    else:\n",
    "        tmp_list.append(df['text'][i])"
   ]
  },
  {
   "cell_type": "code",
   "execution_count": 54,
   "id": "79df3048-8851-46af-8fca-1b03cd1ef58b",
   "metadata": {},
   "outputs": [
    {
     "data": {
      "text/plain": [
       "text               390\n",
       "len_content          0\n",
       "middle category      0\n",
       "dept                 0\n",
       "dtype: int64"
      ]
     },
     "execution_count": 54,
     "metadata": {},
     "output_type": "execute_result"
    }
   ],
   "source": [
    "df.isnull().sum()"
   ]
  },
  {
   "cell_type": "code",
   "execution_count": 55,
   "id": "c82d7617-41f7-40d6-a55a-a0363257f1ed",
   "metadata": {},
   "outputs": [],
   "source": [
    "df=df.dropna()"
   ]
  },
  {
   "cell_type": "code",
   "execution_count": 56,
   "id": "017f2a75-41f8-42b9-9330-ffb7e4993dec",
   "metadata": {},
   "outputs": [
    {
     "data": {
      "text/plain": [
       "text               0\n",
       "len_content        0\n",
       "middle category    0\n",
       "dept               0\n",
       "dtype: int64"
      ]
     },
     "execution_count": 56,
     "metadata": {},
     "output_type": "execute_result"
    }
   ],
   "source": [
    "df.isnull().sum()"
   ]
  },
  {
   "cell_type": "code",
   "execution_count": 59,
   "id": "edaf6bc8-5a49-4fa0-a002-eddf9ee14047",
   "metadata": {},
   "outputs": [
    {
     "name": "stderr",
     "output_type": "stream",
     "text": [
      "[nltk_data] Downloading package punkt to\n",
      "[nltk_data]     C:\\Users\\User\\AppData\\Roaming\\nltk_data...\n",
      "[nltk_data]   Package punkt is already up-to-date!\n"
     ]
    },
    {
     "data": {
      "text/plain": [
       "True"
      ]
     },
     "execution_count": 59,
     "metadata": {},
     "output_type": "execute_result"
    },
    {
     "ename": "KeyboardInterrupt",
     "evalue": "",
     "output_type": "error",
     "traceback": [
      "\u001b[1;31m---------------------------------------------------------------------------\u001b[0m",
      "\u001b[1;31mKeyError\u001b[0m                                  Traceback (most recent call last)",
      "File \u001b[1;32m~\\anaconda3\\lib\\site-packages\\pandas\\core\\indexes\\base.py:3629\u001b[0m, in \u001b[0;36mIndex.get_loc\u001b[1;34m(self, key, method, tolerance)\u001b[0m\n\u001b[0;32m   3628\u001b[0m \u001b[38;5;28;01mtry\u001b[39;00m:\n\u001b[1;32m-> 3629\u001b[0m     \u001b[38;5;28;01mreturn\u001b[39;00m \u001b[38;5;28;43mself\u001b[39;49m\u001b[38;5;241;43m.\u001b[39;49m\u001b[43m_engine\u001b[49m\u001b[38;5;241;43m.\u001b[39;49m\u001b[43mget_loc\u001b[49m\u001b[43m(\u001b[49m\u001b[43mcasted_key\u001b[49m\u001b[43m)\u001b[49m\n\u001b[0;32m   3630\u001b[0m \u001b[38;5;28;01mexcept\u001b[39;00m \u001b[38;5;167;01mKeyError\u001b[39;00m \u001b[38;5;28;01mas\u001b[39;00m err:\n",
      "File \u001b[1;32m~\\anaconda3\\lib\\site-packages\\pandas\\_libs\\index.pyx:136\u001b[0m, in \u001b[0;36mpandas._libs.index.IndexEngine.get_loc\u001b[1;34m()\u001b[0m\n",
      "File \u001b[1;32m~\\anaconda3\\lib\\site-packages\\pandas\\_libs\\index.pyx:163\u001b[0m, in \u001b[0;36mpandas._libs.index.IndexEngine.get_loc\u001b[1;34m()\u001b[0m\n",
      "File \u001b[1;32mpandas\\_libs\\hashtable_class_helper.pxi:2131\u001b[0m, in \u001b[0;36mpandas._libs.hashtable.Int64HashTable.get_item\u001b[1;34m()\u001b[0m\n",
      "File \u001b[1;32mpandas\\_libs\\hashtable_class_helper.pxi:2140\u001b[0m, in \u001b[0;36mpandas._libs.hashtable.Int64HashTable.get_item\u001b[1;34m()\u001b[0m\n",
      "\u001b[1;31mKeyError\u001b[0m: 1434",
      "\nThe above exception was the direct cause of the following exception:\n",
      "\u001b[1;31mKeyError\u001b[0m                                  Traceback (most recent call last)",
      "File \u001b[1;32m~\\anaconda3\\lib\\site-packages\\pandas\\core\\series.py:1085\u001b[0m, in \u001b[0;36mSeries.__setitem__\u001b[1;34m(self, key, value)\u001b[0m\n\u001b[0;32m   1084\u001b[0m \u001b[38;5;28;01mtry\u001b[39;00m:\n\u001b[1;32m-> 1085\u001b[0m     \u001b[38;5;28;43mself\u001b[39;49m\u001b[38;5;241;43m.\u001b[39;49m\u001b[43m_set_with_engine\u001b[49m\u001b[43m(\u001b[49m\u001b[43mkey\u001b[49m\u001b[43m,\u001b[49m\u001b[43m \u001b[49m\u001b[43mvalue\u001b[49m\u001b[43m)\u001b[49m\n\u001b[0;32m   1086\u001b[0m \u001b[38;5;28;01mexcept\u001b[39;00m (\u001b[38;5;167;01mKeyError\u001b[39;00m, \u001b[38;5;167;01mValueError\u001b[39;00m):\n",
      "File \u001b[1;32m~\\anaconda3\\lib\\site-packages\\pandas\\core\\series.py:1146\u001b[0m, in \u001b[0;36mSeries._set_with_engine\u001b[1;34m(self, key, value)\u001b[0m\n\u001b[0;32m   1145\u001b[0m \u001b[38;5;28;01mdef\u001b[39;00m \u001b[38;5;21m_set_with_engine\u001b[39m(\u001b[38;5;28mself\u001b[39m, key, value) \u001b[38;5;241m-\u001b[39m\u001b[38;5;241m>\u001b[39m \u001b[38;5;28;01mNone\u001b[39;00m:\n\u001b[1;32m-> 1146\u001b[0m     loc \u001b[38;5;241m=\u001b[39m \u001b[38;5;28;43mself\u001b[39;49m\u001b[38;5;241;43m.\u001b[39;49m\u001b[43mindex\u001b[49m\u001b[38;5;241;43m.\u001b[39;49m\u001b[43mget_loc\u001b[49m\u001b[43m(\u001b[49m\u001b[43mkey\u001b[49m\u001b[43m)\u001b[49m\n\u001b[0;32m   1148\u001b[0m     \u001b[38;5;66;03m# this is equivalent to self._values[key] = value\u001b[39;00m\n",
      "File \u001b[1;32m~\\anaconda3\\lib\\site-packages\\pandas\\core\\indexes\\base.py:3631\u001b[0m, in \u001b[0;36mIndex.get_loc\u001b[1;34m(self, key, method, tolerance)\u001b[0m\n\u001b[0;32m   3630\u001b[0m \u001b[38;5;28;01mexcept\u001b[39;00m \u001b[38;5;167;01mKeyError\u001b[39;00m \u001b[38;5;28;01mas\u001b[39;00m err:\n\u001b[1;32m-> 3631\u001b[0m     \u001b[38;5;28;01mraise\u001b[39;00m \u001b[38;5;167;01mKeyError\u001b[39;00m(key) \u001b[38;5;28;01mfrom\u001b[39;00m \u001b[38;5;21;01merr\u001b[39;00m\n\u001b[0;32m   3632\u001b[0m \u001b[38;5;28;01mexcept\u001b[39;00m \u001b[38;5;167;01mTypeError\u001b[39;00m:\n\u001b[0;32m   3633\u001b[0m     \u001b[38;5;66;03m# If we have a listlike key, _check_indexing_error will raise\u001b[39;00m\n\u001b[0;32m   3634\u001b[0m     \u001b[38;5;66;03m#  InvalidIndexError. Otherwise we fall through and re-raise\u001b[39;00m\n\u001b[0;32m   3635\u001b[0m     \u001b[38;5;66;03m#  the TypeError.\u001b[39;00m\n",
      "\u001b[1;31mKeyError\u001b[0m: 1434",
      "\nDuring handling of the above exception, another exception occurred:\n",
      "\u001b[1;31mKeyboardInterrupt\u001b[0m                         Traceback (most recent call last)",
      "Cell \u001b[1;32mIn[59], line 17\u001b[0m\n\u001b[0;32m     15\u001b[0m \u001b[38;5;28;01mif\u001b[39;00m w \u001b[38;5;129;01mnot\u001b[39;00m \u001b[38;5;129;01min\u001b[39;00m stop_words: \n\u001b[0;32m     16\u001b[0m     result\u001b[38;5;241m.\u001b[39mappend(w) \n\u001b[1;32m---> 17\u001b[0m \u001b[43mdf\u001b[49m\u001b[43m[\u001b[49m\u001b[38;5;124;43m'\u001b[39;49m\u001b[38;5;124;43mtext\u001b[39;49m\u001b[38;5;124;43m'\u001b[39;49m\u001b[43m]\u001b[49m\u001b[43m[\u001b[49m\u001b[43midx\u001b[49m\u001b[43m]\u001b[49m \u001b[38;5;241m=\u001b[39m \u001b[38;5;124m\"\u001b[39m\u001b[38;5;124m \u001b[39m\u001b[38;5;124m\"\u001b[39m\u001b[38;5;241m.\u001b[39mjoin(result)  \n",
      "File \u001b[1;32m~\\anaconda3\\lib\\site-packages\\pandas\\core\\series.py:1104\u001b[0m, in \u001b[0;36mSeries.__setitem__\u001b[1;34m(self, key, value)\u001b[0m\n\u001b[0;32m   1101\u001b[0m         \u001b[38;5;28mself\u001b[39m\u001b[38;5;241m.\u001b[39m_mgr\u001b[38;5;241m.\u001b[39msetitem_inplace(key, value)\n\u001b[0;32m   1102\u001b[0m     \u001b[38;5;28;01melse\u001b[39;00m:\n\u001b[0;32m   1103\u001b[0m         \u001b[38;5;66;03m# GH#12862 adding a new key to the Series\u001b[39;00m\n\u001b[1;32m-> 1104\u001b[0m         \u001b[38;5;28;43mself\u001b[39;49m\u001b[38;5;241;43m.\u001b[39;49m\u001b[43mloc\u001b[49m\u001b[43m[\u001b[49m\u001b[43mkey\u001b[49m\u001b[43m]\u001b[49m \u001b[38;5;241m=\u001b[39m value\n\u001b[0;32m   1106\u001b[0m \u001b[38;5;28;01mexcept\u001b[39;00m (InvalidIndexError, \u001b[38;5;167;01mTypeError\u001b[39;00m) \u001b[38;5;28;01mas\u001b[39;00m err:\n\u001b[0;32m   1107\u001b[0m     \u001b[38;5;28;01mif\u001b[39;00m \u001b[38;5;28misinstance\u001b[39m(key, \u001b[38;5;28mtuple\u001b[39m) \u001b[38;5;129;01mand\u001b[39;00m \u001b[38;5;129;01mnot\u001b[39;00m \u001b[38;5;28misinstance\u001b[39m(\u001b[38;5;28mself\u001b[39m\u001b[38;5;241m.\u001b[39mindex, MultiIndex):\n\u001b[0;32m   1108\u001b[0m         \u001b[38;5;66;03m# cases with MultiIndex don't get here bc they raise KeyError\u001b[39;00m\n",
      "File \u001b[1;32m~\\anaconda3\\lib\\site-packages\\pandas\\core\\indexing.py:716\u001b[0m, in \u001b[0;36m_LocationIndexer.__setitem__\u001b[1;34m(self, key, value)\u001b[0m\n\u001b[0;32m    713\u001b[0m \u001b[38;5;28mself\u001b[39m\u001b[38;5;241m.\u001b[39m_has_valid_setitem_indexer(key)\n\u001b[0;32m    715\u001b[0m iloc \u001b[38;5;241m=\u001b[39m \u001b[38;5;28mself\u001b[39m \u001b[38;5;28;01mif\u001b[39;00m \u001b[38;5;28mself\u001b[39m\u001b[38;5;241m.\u001b[39mname \u001b[38;5;241m==\u001b[39m \u001b[38;5;124m\"\u001b[39m\u001b[38;5;124miloc\u001b[39m\u001b[38;5;124m\"\u001b[39m \u001b[38;5;28;01melse\u001b[39;00m \u001b[38;5;28mself\u001b[39m\u001b[38;5;241m.\u001b[39mobj\u001b[38;5;241m.\u001b[39miloc\n\u001b[1;32m--> 716\u001b[0m \u001b[43miloc\u001b[49m\u001b[38;5;241;43m.\u001b[39;49m\u001b[43m_setitem_with_indexer\u001b[49m\u001b[43m(\u001b[49m\u001b[43mindexer\u001b[49m\u001b[43m,\u001b[49m\u001b[43m \u001b[49m\u001b[43mvalue\u001b[49m\u001b[43m,\u001b[49m\u001b[43m \u001b[49m\u001b[38;5;28;43mself\u001b[39;49m\u001b[38;5;241;43m.\u001b[39;49m\u001b[43mname\u001b[49m\u001b[43m)\u001b[49m\n",
      "File \u001b[1;32m~\\anaconda3\\lib\\site-packages\\pandas\\core\\indexing.py:1685\u001b[0m, in \u001b[0;36m_iLocIndexer._setitem_with_indexer\u001b[1;34m(self, indexer, value, name)\u001b[0m\n\u001b[0;32m   1682\u001b[0m     indexer, missing \u001b[38;5;241m=\u001b[39m convert_missing_indexer(indexer)\n\u001b[0;32m   1684\u001b[0m     \u001b[38;5;28;01mif\u001b[39;00m missing:\n\u001b[1;32m-> 1685\u001b[0m         \u001b[38;5;28;43mself\u001b[39;49m\u001b[38;5;241;43m.\u001b[39;49m\u001b[43m_setitem_with_indexer_missing\u001b[49m\u001b[43m(\u001b[49m\u001b[43mindexer\u001b[49m\u001b[43m,\u001b[49m\u001b[43m \u001b[49m\u001b[43mvalue\u001b[49m\u001b[43m)\u001b[49m\n\u001b[0;32m   1686\u001b[0m         \u001b[38;5;28;01mreturn\u001b[39;00m\n\u001b[0;32m   1688\u001b[0m \u001b[38;5;66;03m# align and set the values\u001b[39;00m\n",
      "File \u001b[1;32m~\\anaconda3\\lib\\site-packages\\pandas\\core\\indexing.py:1956\u001b[0m, in \u001b[0;36m_iLocIndexer._setitem_with_indexer_missing\u001b[1;34m(self, indexer, value)\u001b[0m\n\u001b[0;32m   1954\u001b[0m \u001b[38;5;28;01mif\u001b[39;00m \u001b[38;5;28mself\u001b[39m\u001b[38;5;241m.\u001b[39mndim \u001b[38;5;241m==\u001b[39m \u001b[38;5;241m1\u001b[39m:\n\u001b[0;32m   1955\u001b[0m     index \u001b[38;5;241m=\u001b[39m \u001b[38;5;28mself\u001b[39m\u001b[38;5;241m.\u001b[39mobj\u001b[38;5;241m.\u001b[39mindex\n\u001b[1;32m-> 1956\u001b[0m     new_index \u001b[38;5;241m=\u001b[39m \u001b[43mindex\u001b[49m\u001b[38;5;241;43m.\u001b[39;49m\u001b[43minsert\u001b[49m\u001b[43m(\u001b[49m\u001b[38;5;28;43mlen\u001b[39;49m\u001b[43m(\u001b[49m\u001b[43mindex\u001b[49m\u001b[43m)\u001b[49m\u001b[43m,\u001b[49m\u001b[43m \u001b[49m\u001b[43mindexer\u001b[49m\u001b[43m)\u001b[49m\n\u001b[0;32m   1958\u001b[0m     \u001b[38;5;66;03m# we have a coerced indexer, e.g. a float\u001b[39;00m\n\u001b[0;32m   1959\u001b[0m     \u001b[38;5;66;03m# that matches in an Int64Index, so\u001b[39;00m\n\u001b[0;32m   1960\u001b[0m     \u001b[38;5;66;03m# we will not create a duplicate index, rather\u001b[39;00m\n\u001b[0;32m   1961\u001b[0m     \u001b[38;5;66;03m# index to that element\u001b[39;00m\n\u001b[0;32m   1962\u001b[0m     \u001b[38;5;66;03m# e.g. 0.0 -> 0\u001b[39;00m\n\u001b[0;32m   1963\u001b[0m     \u001b[38;5;66;03m# GH#12246\u001b[39;00m\n\u001b[0;32m   1964\u001b[0m     \u001b[38;5;28;01mif\u001b[39;00m index\u001b[38;5;241m.\u001b[39mis_unique:\n\u001b[0;32m   1965\u001b[0m         \u001b[38;5;66;03m# pass new_index[-1:] instead if [new_index[-1]]\u001b[39;00m\n\u001b[0;32m   1966\u001b[0m         \u001b[38;5;66;03m#  so that we retain dtype\u001b[39;00m\n",
      "File \u001b[1;32m~\\anaconda3\\lib\\site-packages\\pandas\\core\\indexes\\base.py:6616\u001b[0m, in \u001b[0;36mIndex.insert\u001b[1;34m(self, loc, item)\u001b[0m\n\u001b[0;32m   6609\u001b[0m \u001b[38;5;28;01mif\u001b[39;00m arr\u001b[38;5;241m.\u001b[39mdtype \u001b[38;5;241m!=\u001b[39m \u001b[38;5;28mobject\u001b[39m \u001b[38;5;129;01mor\u001b[39;00m \u001b[38;5;129;01mnot\u001b[39;00m \u001b[38;5;28misinstance\u001b[39m(\n\u001b[0;32m   6610\u001b[0m     item, (\u001b[38;5;28mtuple\u001b[39m, np\u001b[38;5;241m.\u001b[39mdatetime64, np\u001b[38;5;241m.\u001b[39mtimedelta64)\n\u001b[0;32m   6611\u001b[0m ):\n\u001b[0;32m   6612\u001b[0m     \u001b[38;5;66;03m# with object-dtype we need to worry about numpy incorrectly casting\u001b[39;00m\n\u001b[0;32m   6613\u001b[0m     \u001b[38;5;66;03m# dt64/td64 to integer, also about treating tuples as sequences\u001b[39;00m\n\u001b[0;32m   6614\u001b[0m     \u001b[38;5;66;03m# special-casing dt64/td64 https://github.com/numpy/numpy/issues/12550\u001b[39;00m\n\u001b[0;32m   6615\u001b[0m     casted \u001b[38;5;241m=\u001b[39m arr\u001b[38;5;241m.\u001b[39mdtype\u001b[38;5;241m.\u001b[39mtype(item)\n\u001b[1;32m-> 6616\u001b[0m     new_values \u001b[38;5;241m=\u001b[39m \u001b[43mnp\u001b[49m\u001b[38;5;241;43m.\u001b[39;49m\u001b[43minsert\u001b[49m\u001b[43m(\u001b[49m\u001b[43marr\u001b[49m\u001b[43m,\u001b[49m\u001b[43m \u001b[49m\u001b[43mloc\u001b[49m\u001b[43m,\u001b[49m\u001b[43m \u001b[49m\u001b[43mcasted\u001b[49m\u001b[43m)\u001b[49m\n\u001b[0;32m   6618\u001b[0m \u001b[38;5;28;01melse\u001b[39;00m:\n\u001b[0;32m   6619\u001b[0m     \u001b[38;5;66;03m# No overload variant of \"insert\" matches argument types\u001b[39;00m\n\u001b[0;32m   6620\u001b[0m     \u001b[38;5;66;03m# \"ndarray[Any, Any]\", \"int\", \"None\"  [call-overload]\u001b[39;00m\n\u001b[0;32m   6621\u001b[0m     new_values \u001b[38;5;241m=\u001b[39m np\u001b[38;5;241m.\u001b[39minsert(arr, loc, \u001b[38;5;28;01mNone\u001b[39;00m)  \u001b[38;5;66;03m# type: ignore[call-overload]\u001b[39;00m\n",
      "File \u001b[1;32m<__array_function__ internals>:5\u001b[0m, in \u001b[0;36minsert\u001b[1;34m(*args, **kwargs)\u001b[0m\n",
      "File \u001b[1;32m~\\anaconda3\\lib\\site-packages\\numpy\\lib\\function_base.py:4722\u001b[0m, in \u001b[0;36minsert\u001b[1;34m(arr, obj, values, axis)\u001b[0m\n\u001b[0;32m   4720\u001b[0m new \u001b[38;5;241m=\u001b[39m empty(newshape, arr\u001b[38;5;241m.\u001b[39mdtype, arrorder)\n\u001b[0;32m   4721\u001b[0m slobj[axis] \u001b[38;5;241m=\u001b[39m \u001b[38;5;28mslice\u001b[39m(\u001b[38;5;28;01mNone\u001b[39;00m, index)\n\u001b[1;32m-> 4722\u001b[0m \u001b[43mnew\u001b[49m\u001b[43m[\u001b[49m\u001b[38;5;28;43mtuple\u001b[39;49m\u001b[43m(\u001b[49m\u001b[43mslobj\u001b[49m\u001b[43m)\u001b[49m\u001b[43m]\u001b[49m \u001b[38;5;241m=\u001b[39m arr[\u001b[38;5;28mtuple\u001b[39m(slobj)]\n\u001b[0;32m   4723\u001b[0m slobj[axis] \u001b[38;5;241m=\u001b[39m \u001b[38;5;28mslice\u001b[39m(index, index\u001b[38;5;241m+\u001b[39mnumnew)\n\u001b[0;32m   4724\u001b[0m new[\u001b[38;5;28mtuple\u001b[39m(slobj)] \u001b[38;5;241m=\u001b[39m values\n",
      "\u001b[1;31mKeyboardInterrupt\u001b[0m: "
     ]
    }
   ],
   "source": [
    "#맞춤법 검사전 개행문자,이모티콘,특수기호,숫자 제거\n",
    "#불용어 사전\n",
    "stop_words='''1 2 3 4 5 6 7 8 9 ! ? . / ~ @ # $ % ^ & * _ \\n ㅡㅡ ㅜㅜ ^^  ㅋ ㅋㅋ  ㅋㅋㅋ ㅋㅋㅋㅋ ㅋㅋㅋㅋㅋ ㅋㅋㅋㅋㅋㅋㅋ '''\n",
    "stop_words=stop_words.split(' ')\n",
    "\n",
    "#불용어 제거\n",
    "import nltk\n",
    "nltk.download('punkt')\n",
    "from nltk.tokenize import word_tokenize \n",
    "\n",
    "for idx, sentence in enumerate(df['text']) :\n",
    "  word_tokens = word_tokenize(sentence)\n",
    "  result=[]\n",
    "  for w in word_tokens: \n",
    "    if w not in stop_words: \n",
    "        result.append(w) \n",
    "    df['text'][idx] = \" \".join(result)  "
   ]
  },
  {
   "cell_type": "code",
   "execution_count": 3,
   "id": "b9ef21b5-a1cb-46e0-9e60-9f67ebc8ad04",
   "metadata": {},
   "outputs": [],
   "source": [
    "df=pd.read_csv('C:/Users/User/Desktop/suseong_remove.csv')"
   ]
  },
  {
   "cell_type": "code",
   "execution_count": 4,
   "id": "0f9b4c98-347f-41fb-89b9-825ea28c8e79",
   "metadata": {},
   "outputs": [
    {
     "name": "stdout",
     "output_type": "stream",
     "text": [
      "Requirement already satisfied: py-hanspell in c:\\users\\user\\anaconda3\\lib\\site-packages (1.1)\n",
      "Requirement already satisfied: requests in c:\\users\\user\\anaconda3\\lib\\site-packages (from py-hanspell) (2.28.1)\n",
      "Requirement already satisfied: certifi>=2017.4.17 in c:\\users\\user\\anaconda3\\lib\\site-packages (from requests->py-hanspell) (2022.9.14)\n",
      "Requirement already satisfied: charset-normalizer<3,>=2 in c:\\users\\user\\anaconda3\\lib\\site-packages (from requests->py-hanspell) (2.0.4)\n",
      "Requirement already satisfied: urllib3<1.27,>=1.21.1 in c:\\users\\user\\anaconda3\\lib\\site-packages (from requests->py-hanspell) (1.26.11)\n",
      "Requirement already satisfied: idna<4,>=2.5 in c:\\users\\user\\anaconda3\\lib\\site-packages (from requests->py-hanspell) (3.3)\n"
     ]
    }
   ],
   "source": [
    "#맞춤법 교정\n",
    "!pip install py-hanspell"
   ]
  },
  {
   "cell_type": "code",
   "execution_count": 5,
   "id": "9936d912-f683-432f-bf3c-c8a60dc18b4d",
   "metadata": {},
   "outputs": [],
   "source": [
    "from hanspell import spell_checker\n",
    "import requests"
   ]
  },
  {
   "cell_type": "code",
   "execution_count": 6,
   "id": "6edefd60-1406-45b5-8e35-6462e1c432a2",
   "metadata": {},
   "outputs": [
    {
     "data": {
      "text/plain": [
       "Checked(result=True, original='안녕 하세요. 저는 한국인 입니다. 이문장은 한글로 작성됬습니다.', checked='안녕하세요. 저는 한국인입니다. 이 문장은 한글로 작성됐습니다.', errors=4, words=OrderedDict([('안녕하세요.', 2), ('저는', 0), ('한국인입니다.', 2), ('이', 2), ('문장은', 2), ('한글로', 0), ('작성됐습니다.', 1)]), time=0.12649941444396973)"
      ]
     },
     "execution_count": 6,
     "metadata": {},
     "output_type": "execute_result"
    }
   ],
   "source": [
    "result = spell_checker.check(u'안녕 하세요. 저는 한국인 입니다. 이문장은 한글로 작성됬습니다.')\n",
    "result"
   ]
  },
  {
   "cell_type": "code",
   "execution_count": 8,
   "id": "f005afdd-6717-4a8b-b665-aa065c6ea4f2",
   "metadata": {},
   "outputs": [
    {
     "data": {
      "text/plain": [
       "'안녕하세요. 저는 한국인입니다. 이 문장은 한글로 작성됐습니다.'"
      ]
     },
     "execution_count": 8,
     "metadata": {},
     "output_type": "execute_result"
    }
   ],
   "source": [
    "result.as_dict()['checked']"
   ]
  },
  {
   "cell_type": "code",
   "execution_count": 9,
   "id": "f5a61b9e-caac-4095-a34f-502eb7855f8b",
   "metadata": {},
   "outputs": [
    {
     "data": {
      "text/plain": [
       "'안녕하세요. 저는 한국인입니다. 이 문장은 한글로 작성됐습니다.'"
      ]
     },
     "execution_count": 9,
     "metadata": {},
     "output_type": "execute_result"
    }
   ],
   "source": [
    "result[2]"
   ]
  },
  {
   "cell_type": "code",
   "execution_count": 10,
   "id": "c751fc29-58a2-47cb-b376-30c6bfde9652",
   "metadata": {},
   "outputs": [],
   "source": [
    "error_list=[]\n",
    "for i in range(0,len(df['text'])):\n",
    "    try:\n",
    "        df['text'][i]=spell_checker.check(df['text'][i]).as_dict()['checked']\n",
    "    except:\n",
    "        error_list.append(i)\n",
    "        continue"
   ]
  },
  {
   "cell_type": "code",
   "execution_count": 11,
   "id": "29d4c4d7-12c1-45eb-93cb-70233c447011",
   "metadata": {},
   "outputs": [
    {
     "data": {
      "text/plain": [
       "[]"
      ]
     },
     "execution_count": 11,
     "metadata": {},
     "output_type": "execute_result"
    }
   ],
   "source": [
    "error_list"
   ]
  },
  {
   "cell_type": "code",
   "execution_count": 12,
   "id": "12b6c1bb-57be-4e29-a175-85360fb4cf53",
   "metadata": {},
   "outputs": [
    {
     "data": {
      "text/html": [
       "<div>\n",
       "<style scoped>\n",
       "    .dataframe tbody tr th:only-of-type {\n",
       "        vertical-align: middle;\n",
       "    }\n",
       "\n",
       "    .dataframe tbody tr th {\n",
       "        vertical-align: top;\n",
       "    }\n",
       "\n",
       "    .dataframe thead th {\n",
       "        text-align: right;\n",
       "    }\n",
       "</style>\n",
       "<table border=\"1\" class=\"dataframe\">\n",
       "  <thead>\n",
       "    <tr style=\"text-align: right;\">\n",
       "      <th></th>\n",
       "      <th>Unnamed: 0</th>\n",
       "      <th>text</th>\n",
       "      <th>len_content</th>\n",
       "      <th>middle category</th>\n",
       "      <th>dept</th>\n",
       "    </tr>\n",
       "  </thead>\n",
       "  <tbody>\n",
       "  </tbody>\n",
       "</table>\n",
       "</div>"
      ],
      "text/plain": [
       "Empty DataFrame\n",
       "Columns: [Unnamed: 0, text, len_content, middle category, dept]\n",
       "Index: []"
      ]
     },
     "execution_count": 12,
     "metadata": {},
     "output_type": "execute_result"
    }
   ],
   "source": [
    "df.iloc[error_list]"
   ]
  },
  {
   "cell_type": "code",
   "execution_count": 15,
   "id": "643f5d44-5920-4940-a15e-5cb2349120f0",
   "metadata": {},
   "outputs": [],
   "source": [
    "df.drop('Unnamed: 0',axis=1,inplace=True)"
   ]
  },
  {
   "cell_type": "code",
   "execution_count": 16,
   "id": "9ab66b0a-3c22-4275-9fb9-cedf7e7e7962",
   "metadata": {},
   "outputs": [
    {
     "data": {
      "text/html": [
       "<div>\n",
       "<style scoped>\n",
       "    .dataframe tbody tr th:only-of-type {\n",
       "        vertical-align: middle;\n",
       "    }\n",
       "\n",
       "    .dataframe tbody tr th {\n",
       "        vertical-align: top;\n",
       "    }\n",
       "\n",
       "    .dataframe thead th {\n",
       "        text-align: right;\n",
       "    }\n",
       "</style>\n",
       "<table border=\"1\" class=\"dataframe\">\n",
       "  <thead>\n",
       "    <tr style=\"text-align: right;\">\n",
       "      <th></th>\n",
       "      <th>text</th>\n",
       "      <th>len_content</th>\n",
       "      <th>middle category</th>\n",
       "      <th>dept</th>\n",
       "    </tr>\n",
       "  </thead>\n",
       "  <tbody>\n",
       "    <tr>\n",
       "      <th>0</th>\n",
       "      <td>범어 우방, 2차 공사장 도로 시설물 점검 요청 청구 푸른 마을에 거주하는 시민입니...</td>\n",
       "      <td>411</td>\n",
       "      <td>도시국</td>\n",
       "      <td>도시국 건설과</td>\n",
       "    </tr>\n",
       "    <tr>\n",
       "      <th>1</th>\n",
       "      <td>쓰레기 불법 투기자를 신고합니다 만촌동 주택가 맞은편 앞집에서 주기적으로 쓰레기 배...</td>\n",
       "      <td>249</td>\n",
       "      <td>복지국</td>\n",
       "      <td>복지국 자원순환과</td>\n",
       "    </tr>\n",
       "    <tr>\n",
       "      <th>2</th>\n",
       "      <td></td>\n",
       "      <td>895</td>\n",
       "      <td>도시국</td>\n",
       "      <td>도시국 건설과</td>\n",
       "    </tr>\n",
       "    <tr>\n",
       "      <th>3</th>\n",
       "      <td>파동 KCC건설 현장 앞 이중주차 파동 kcc건설 현장 앞 이중주차로 인한 불편사항...</td>\n",
       "      <td>285</td>\n",
       "      <td>도시국</td>\n",
       "      <td>도시국 교통과</td>\n",
       "    </tr>\n",
       "    <tr>\n",
       "      <th>4</th>\n",
       "      <td></td>\n",
       "      <td>678</td>\n",
       "      <td>도시국</td>\n",
       "      <td>도시국 교통과</td>\n",
       "    </tr>\n",
       "    <tr>\n",
       "      <th>5</th>\n",
       "      <td></td>\n",
       "      <td>1285</td>\n",
       "      <td>도시국</td>\n",
       "      <td>도시국 건축과</td>\n",
       "    </tr>\n",
       "    <tr>\n",
       "      <th>6</th>\n",
       "      <td>( 체육 진흥과 ) 수 성 패밀리파크 풋살장 전등 교체 요청 수 성 패밀리파크 풋살...</td>\n",
       "      <td>64</td>\n",
       "      <td>문화교육국</td>\n",
       "      <td>문화교육국 체육진흥과</td>\n",
       "    </tr>\n",
       "    <tr>\n",
       "      <th>7</th>\n",
       "      <td>입주자 대표회장이 선거관리위원회 업무를 방해하고 있습니다 2023년 4월 1일 선거...</td>\n",
       "      <td>417</td>\n",
       "      <td>도시국</td>\n",
       "      <td>도시국 건축과</td>\n",
       "    </tr>\n",
       "    <tr>\n",
       "      <th>8</th>\n",
       "      <td>하수구 악취 확인 및 처리 요청 건 수고하십니다 하수구 악취가 심합니다 작년, 재 ...</td>\n",
       "      <td>220</td>\n",
       "      <td>도시국</td>\n",
       "      <td>도시국 건설과</td>\n",
       "    </tr>\n",
       "    <tr>\n",
       "      <th>9</th>\n",
       "      <td></td>\n",
       "      <td>1097</td>\n",
       "      <td>복지국</td>\n",
       "      <td>복지국 녹색환경과</td>\n",
       "    </tr>\n",
       "  </tbody>\n",
       "</table>\n",
       "</div>"
      ],
      "text/plain": [
       "                                                text  len_content  \\\n",
       "0  범어 우방, 2차 공사장 도로 시설물 점검 요청 청구 푸른 마을에 거주하는 시민입니...          411   \n",
       "1  쓰레기 불법 투기자를 신고합니다 만촌동 주택가 맞은편 앞집에서 주기적으로 쓰레기 배...          249   \n",
       "2                                                             895   \n",
       "3  파동 KCC건설 현장 앞 이중주차 파동 kcc건설 현장 앞 이중주차로 인한 불편사항...          285   \n",
       "4                                                             678   \n",
       "5                                                            1285   \n",
       "6  ( 체육 진흥과 ) 수 성 패밀리파크 풋살장 전등 교체 요청 수 성 패밀리파크 풋살...           64   \n",
       "7  입주자 대표회장이 선거관리위원회 업무를 방해하고 있습니다 2023년 4월 1일 선거...          417   \n",
       "8  하수구 악취 확인 및 처리 요청 건 수고하십니다 하수구 악취가 심합니다 작년, 재 ...          220   \n",
       "9                                                            1097   \n",
       "\n",
       "  middle category         dept  \n",
       "0             도시국      도시국 건설과  \n",
       "1             복지국    복지국 자원순환과  \n",
       "2             도시국      도시국 건설과  \n",
       "3             도시국      도시국 교통과  \n",
       "4             도시국      도시국 교통과  \n",
       "5             도시국      도시국 건축과  \n",
       "6           문화교육국  문화교육국 체육진흥과  \n",
       "7             도시국      도시국 건축과  \n",
       "8             도시국      도시국 건설과  \n",
       "9             복지국    복지국 녹색환경과  "
      ]
     },
     "execution_count": 16,
     "metadata": {},
     "output_type": "execute_result"
    }
   ],
   "source": [
    "df.head(10)"
   ]
  },
  {
   "cell_type": "code",
   "execution_count": 33,
   "id": "04f1ba27-8ff5-40ae-9cb6-24d72105fb3a",
   "metadata": {},
   "outputs": [],
   "source": [
    "df.drop('Unnamed: 0',axis=1,inplace=True)"
   ]
  },
  {
   "cell_type": "code",
   "execution_count": 34,
   "id": "af8f9518-65ad-475a-8b97-9b5adf2e89c0",
   "metadata": {},
   "outputs": [],
   "source": [
    "df.to_csv('C:/Users/User/Desktop/suseong_remove_Spelling.csv', index=False)"
   ]
  },
  {
   "cell_type": "code",
   "execution_count": 35,
   "id": "0f91df5f-6740-4afc-9609-6e561e404ba6",
   "metadata": {},
   "outputs": [],
   "source": [
    "df=pd.read_csv('C:/Users/User/Desktop/suseong_remove_Spelling.csv')"
   ]
  },
  {
   "cell_type": "code",
   "execution_count": 36,
   "id": "8e2528bd-1e00-4759-9e9a-d26065f628b5",
   "metadata": {},
   "outputs": [
    {
     "data": {
      "text/html": [
       "<div>\n",
       "<style scoped>\n",
       "    .dataframe tbody tr th:only-of-type {\n",
       "        vertical-align: middle;\n",
       "    }\n",
       "\n",
       "    .dataframe tbody tr th {\n",
       "        vertical-align: top;\n",
       "    }\n",
       "\n",
       "    .dataframe thead th {\n",
       "        text-align: right;\n",
       "    }\n",
       "</style>\n",
       "<table border=\"1\" class=\"dataframe\">\n",
       "  <thead>\n",
       "    <tr style=\"text-align: right;\">\n",
       "      <th></th>\n",
       "      <th>text</th>\n",
       "      <th>len_content</th>\n",
       "      <th>middle category</th>\n",
       "      <th>dept</th>\n",
       "    </tr>\n",
       "  </thead>\n",
       "  <tbody>\n",
       "    <tr>\n",
       "      <th>0</th>\n",
       "      <td>범어 우방, 2차 공사장 도로 시설물 점검 요청 청구 푸른 마을에 거주하는 시민입니...</td>\n",
       "      <td>411</td>\n",
       "      <td>도시국</td>\n",
       "      <td>도시국 건설과</td>\n",
       "    </tr>\n",
       "    <tr>\n",
       "      <th>1</th>\n",
       "      <td>쓰레기 불법 투기자를 신고합니다 만촌동 주택가 맞은편 앞집에서 주기적으로 쓰레기 배...</td>\n",
       "      <td>249</td>\n",
       "      <td>복지국</td>\n",
       "      <td>복지국 자원순환과</td>\n",
       "    </tr>\n",
       "    <tr>\n",
       "      <th>2</th>\n",
       "      <td>NaN</td>\n",
       "      <td>895</td>\n",
       "      <td>도시국</td>\n",
       "      <td>도시국 건설과</td>\n",
       "    </tr>\n",
       "    <tr>\n",
       "      <th>3</th>\n",
       "      <td>파동 KCC건설 현장 앞 이중주차 파동 kcc건설 현장 앞 이중주차로 인한 불편사항...</td>\n",
       "      <td>285</td>\n",
       "      <td>도시국</td>\n",
       "      <td>도시국 교통과</td>\n",
       "    </tr>\n",
       "    <tr>\n",
       "      <th>4</th>\n",
       "      <td>NaN</td>\n",
       "      <td>678</td>\n",
       "      <td>도시국</td>\n",
       "      <td>도시국 교통과</td>\n",
       "    </tr>\n",
       "    <tr>\n",
       "      <th>5</th>\n",
       "      <td>NaN</td>\n",
       "      <td>1285</td>\n",
       "      <td>도시국</td>\n",
       "      <td>도시국 건축과</td>\n",
       "    </tr>\n",
       "    <tr>\n",
       "      <th>6</th>\n",
       "      <td>( 체육 진흥과 ) 수 성 패밀리파크 풋살장 전등 교체 요청 수 성 패밀리파크 풋살...</td>\n",
       "      <td>64</td>\n",
       "      <td>문화교육국</td>\n",
       "      <td>문화교육국 체육진흥과</td>\n",
       "    </tr>\n",
       "    <tr>\n",
       "      <th>7</th>\n",
       "      <td>입주자 대표회장이 선거관리위원회 업무를 방해하고 있습니다 2023년 4월 1일 선거...</td>\n",
       "      <td>417</td>\n",
       "      <td>도시국</td>\n",
       "      <td>도시국 건축과</td>\n",
       "    </tr>\n",
       "    <tr>\n",
       "      <th>8</th>\n",
       "      <td>하수구 악취 확인 및 처리 요청 건 수고하십니다 하수구 악취가 심합니다 작년, 재 ...</td>\n",
       "      <td>220</td>\n",
       "      <td>도시국</td>\n",
       "      <td>도시국 건설과</td>\n",
       "    </tr>\n",
       "    <tr>\n",
       "      <th>9</th>\n",
       "      <td>NaN</td>\n",
       "      <td>1097</td>\n",
       "      <td>복지국</td>\n",
       "      <td>복지국 녹색환경과</td>\n",
       "    </tr>\n",
       "  </tbody>\n",
       "</table>\n",
       "</div>"
      ],
      "text/plain": [
       "                                                text  len_content  \\\n",
       "0  범어 우방, 2차 공사장 도로 시설물 점검 요청 청구 푸른 마을에 거주하는 시민입니...          411   \n",
       "1  쓰레기 불법 투기자를 신고합니다 만촌동 주택가 맞은편 앞집에서 주기적으로 쓰레기 배...          249   \n",
       "2                                                NaN          895   \n",
       "3  파동 KCC건설 현장 앞 이중주차 파동 kcc건설 현장 앞 이중주차로 인한 불편사항...          285   \n",
       "4                                                NaN          678   \n",
       "5                                                NaN         1285   \n",
       "6  ( 체육 진흥과 ) 수 성 패밀리파크 풋살장 전등 교체 요청 수 성 패밀리파크 풋살...           64   \n",
       "7  입주자 대표회장이 선거관리위원회 업무를 방해하고 있습니다 2023년 4월 1일 선거...          417   \n",
       "8  하수구 악취 확인 및 처리 요청 건 수고하십니다 하수구 악취가 심합니다 작년, 재 ...          220   \n",
       "9                                                NaN         1097   \n",
       "\n",
       "  middle category         dept  \n",
       "0             도시국      도시국 건설과  \n",
       "1             복지국    복지국 자원순환과  \n",
       "2             도시국      도시국 건설과  \n",
       "3             도시국      도시국 교통과  \n",
       "4             도시국      도시국 교통과  \n",
       "5             도시국      도시국 건축과  \n",
       "6           문화교육국  문화교육국 체육진흥과  \n",
       "7             도시국      도시국 건축과  \n",
       "8             도시국      도시국 건설과  \n",
       "9             복지국    복지국 녹색환경과  "
      ]
     },
     "execution_count": 36,
     "metadata": {},
     "output_type": "execute_result"
    }
   ],
   "source": [
    "df.head(10)"
   ]
  },
  {
   "cell_type": "code",
   "execution_count": null,
   "id": "b1d6cca1-9f65-4cdd-b13d-68e5c85e1398",
   "metadata": {},
   "outputs": [],
   "source": []
  }
 ],
 "metadata": {
  "kernelspec": {
   "display_name": "Python 3 (ipykernel)",
   "language": "python",
   "name": "python3"
  },
  "language_info": {
   "codemirror_mode": {
    "name": "ipython",
    "version": 3
   },
   "file_extension": ".py",
   "mimetype": "text/x-python",
   "name": "python",
   "nbconvert_exporter": "python",
   "pygments_lexer": "ipython3",
   "version": "3.9.13"
  }
 },
 "nbformat": 4,
 "nbformat_minor": 5
}
