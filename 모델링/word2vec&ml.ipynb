{
  "nbformat": 4,
  "nbformat_minor": 0,
  "metadata": {
    "colab": {
      "provenance": []
    },
    "kernelspec": {
      "name": "python3",
      "display_name": "Python 3"
    },
    "language_info": {
      "name": "python"
    }
  },
  "cells": [
    {
      "cell_type": "markdown",
      "source": [
        "### 드라이브 마운트"
      ],
      "metadata": {
        "id": "H54VMA2nEUeq"
      }
    },
    {
      "cell_type": "code",
      "source": [
        "from google.colab import drive\n",
        "\n",
        "drive.mount('/content/drive')"
      ],
      "metadata": {
        "colab": {
          "base_uri": "https://localhost:8080/"
        },
        "id": "z9dVo1AuCxBL",
        "outputId": "35af5cef-bb7b-495f-f891-110351f9dc8b"
      },
      "execution_count": 62,
      "outputs": [
        {
          "output_type": "stream",
          "name": "stdout",
          "text": [
            "Drive already mounted at /content/drive; to attempt to forcibly remount, call drive.mount(\"/content/drive\", force_remount=True).\n"
          ]
        }
      ]
    },
    {
      "cell_type": "code",
      "source": [
        "path = '/content/drive/MyDrive/valueup/'"
      ],
      "metadata": {
        "id": "GxvKHHN5C7s5"
      },
      "execution_count": 63,
      "outputs": []
    },
    {
      "cell_type": "markdown",
      "source": [
        "### 데이터 불러오기"
      ],
      "metadata": {
        "id": "aTKcKdLAEZYS"
      }
    },
    {
      "cell_type": "code",
      "execution_count": 99,
      "metadata": {
        "id": "qWcLgYwc5kFW"
      },
      "outputs": [],
      "source": [
        "import pandas as pd\n",
        "import numpy as np\n",
        "import matplotlib.pyplot as plt\n",
        "\n",
        "BukGu= pd.read_csv(path + 'BukGu' + '.csv')\n",
        "BukGu= pd.read_csv(path + 'BukGu' + '.csv')\n",
        "BukGu= pd.read_csv(path + 'BukGu' + '.csv')\n",
        "BukGu= pd.read_csv(path + 'BukGu' + '.csv')\n",
        "BukGu= pd.read_csv(path + 'BukGu' + '.csv')"
      ]
    },
    {
      "cell_type": "code",
      "source": [
        "BukGu"
      ],
      "metadata": {
        "colab": {
          "base_uri": "https://localhost:8080/",
          "height": 424
        },
        "id": "2ZNsx1e5Cr-Z",
        "outputId": "c8c561e5-b3d4-4be5-8215-6d74991a82ca"
      },
      "execution_count": 65,
      "outputs": [
        {
          "output_type": "execute_result",
          "data": {
            "text/plain": [
              "                                                content           dept\n",
              "0     매천동 청구 장미아파트 삼우 그린 입구 불합리 위치 매천동 청구 장미아파트 삼우 그...        도시국 건설과\n",
              "1     처리 중 언제까지 어린이보호구역 불법주차 불법적 재 신고한 지가 언제인데 아직 처리...      도시국 도시행정과\n",
              "2     도로 개설 본인은 대구시 북구 태전동 번지 토지 소유자입니다 현재 상기 토지에서 농...        도시국 건설과\n",
              "3     북구청장 감사실은 뭐 하는 곳입니까 묻습니다 불법에 대한 최고의 북구 전문가 북구청...            감사실\n",
              "4     대구시장 북구청장 감사실은 뭐 하는 부서입니까 감사실 폐쇄하셔요 미관지구 대구시장 ...            감사실\n",
              "...                                                 ...            ...\n",
              "6831  같은 건물 같은 층에 있는 헬스클럽 소음 규제 방법은요 산격동 번지 층입니다 대현 ...  주민생활지원국 환경관리과\n",
              "6832  가로등 수리 검단동 가로등 수리 좀 해 주세요 곰 레미콘에서 민들레 아파트까지 수고하세요        도시국 건설과\n",
              "6833  견인하는 곳에서는 카드 결제가 안 되나요 안녕하세요 우선 견인된 장소에서 차를 찾으...        도시국 교통과\n",
              "6834  재건축 시행사의 불법 복현주공 단지 아파트에 살고 있는 주민입니다 재건축을 한다고 ...      도시국 건축주택과\n",
              "6835  분양승인 후 청약접수 일정 연기에 관한 문의 기존 주택법상 공동주택의 경우 모집공고...      도시국 건축주택과\n",
              "\n",
              "[6836 rows x 2 columns]"
            ],
            "text/html": [
              "\n",
              "  <div id=\"df-af6c0dc2-436c-4347-8368-1119c0808672\">\n",
              "    <div class=\"colab-df-container\">\n",
              "      <div>\n",
              "<style scoped>\n",
              "    .dataframe tbody tr th:only-of-type {\n",
              "        vertical-align: middle;\n",
              "    }\n",
              "\n",
              "    .dataframe tbody tr th {\n",
              "        vertical-align: top;\n",
              "    }\n",
              "\n",
              "    .dataframe thead th {\n",
              "        text-align: right;\n",
              "    }\n",
              "</style>\n",
              "<table border=\"1\" class=\"dataframe\">\n",
              "  <thead>\n",
              "    <tr style=\"text-align: right;\">\n",
              "      <th></th>\n",
              "      <th>content</th>\n",
              "      <th>dept</th>\n",
              "    </tr>\n",
              "  </thead>\n",
              "  <tbody>\n",
              "    <tr>\n",
              "      <th>0</th>\n",
              "      <td>매천동 청구 장미아파트 삼우 그린 입구 불합리 위치 매천동 청구 장미아파트 삼우 그...</td>\n",
              "      <td>도시국 건설과</td>\n",
              "    </tr>\n",
              "    <tr>\n",
              "      <th>1</th>\n",
              "      <td>처리 중 언제까지 어린이보호구역 불법주차 불법적 재 신고한 지가 언제인데 아직 처리...</td>\n",
              "      <td>도시국 도시행정과</td>\n",
              "    </tr>\n",
              "    <tr>\n",
              "      <th>2</th>\n",
              "      <td>도로 개설 본인은 대구시 북구 태전동 번지 토지 소유자입니다 현재 상기 토지에서 농...</td>\n",
              "      <td>도시국 건설과</td>\n",
              "    </tr>\n",
              "    <tr>\n",
              "      <th>3</th>\n",
              "      <td>북구청장 감사실은 뭐 하는 곳입니까 묻습니다 불법에 대한 최고의 북구 전문가 북구청...</td>\n",
              "      <td>감사실</td>\n",
              "    </tr>\n",
              "    <tr>\n",
              "      <th>4</th>\n",
              "      <td>대구시장 북구청장 감사실은 뭐 하는 부서입니까 감사실 폐쇄하셔요 미관지구 대구시장 ...</td>\n",
              "      <td>감사실</td>\n",
              "    </tr>\n",
              "    <tr>\n",
              "      <th>...</th>\n",
              "      <td>...</td>\n",
              "      <td>...</td>\n",
              "    </tr>\n",
              "    <tr>\n",
              "      <th>6831</th>\n",
              "      <td>같은 건물 같은 층에 있는 헬스클럽 소음 규제 방법은요 산격동 번지 층입니다 대현 ...</td>\n",
              "      <td>주민생활지원국 환경관리과</td>\n",
              "    </tr>\n",
              "    <tr>\n",
              "      <th>6832</th>\n",
              "      <td>가로등 수리 검단동 가로등 수리 좀 해 주세요 곰 레미콘에서 민들레 아파트까지 수고하세요</td>\n",
              "      <td>도시국 건설과</td>\n",
              "    </tr>\n",
              "    <tr>\n",
              "      <th>6833</th>\n",
              "      <td>견인하는 곳에서는 카드 결제가 안 되나요 안녕하세요 우선 견인된 장소에서 차를 찾으...</td>\n",
              "      <td>도시국 교통과</td>\n",
              "    </tr>\n",
              "    <tr>\n",
              "      <th>6834</th>\n",
              "      <td>재건축 시행사의 불법 복현주공 단지 아파트에 살고 있는 주민입니다 재건축을 한다고 ...</td>\n",
              "      <td>도시국 건축주택과</td>\n",
              "    </tr>\n",
              "    <tr>\n",
              "      <th>6835</th>\n",
              "      <td>분양승인 후 청약접수 일정 연기에 관한 문의 기존 주택법상 공동주택의 경우 모집공고...</td>\n",
              "      <td>도시국 건축주택과</td>\n",
              "    </tr>\n",
              "  </tbody>\n",
              "</table>\n",
              "<p>6836 rows × 2 columns</p>\n",
              "</div>\n",
              "      <button class=\"colab-df-convert\" onclick=\"convertToInteractive('df-af6c0dc2-436c-4347-8368-1119c0808672')\"\n",
              "              title=\"Convert this dataframe to an interactive table.\"\n",
              "              style=\"display:none;\">\n",
              "        \n",
              "  <svg xmlns=\"http://www.w3.org/2000/svg\" height=\"24px\"viewBox=\"0 0 24 24\"\n",
              "       width=\"24px\">\n",
              "    <path d=\"M0 0h24v24H0V0z\" fill=\"none\"/>\n",
              "    <path d=\"M18.56 5.44l.94 2.06.94-2.06 2.06-.94-2.06-.94-.94-2.06-.94 2.06-2.06.94zm-11 1L8.5 8.5l.94-2.06 2.06-.94-2.06-.94L8.5 2.5l-.94 2.06-2.06.94zm10 10l.94 2.06.94-2.06 2.06-.94-2.06-.94-.94-2.06-.94 2.06-2.06.94z\"/><path d=\"M17.41 7.96l-1.37-1.37c-.4-.4-.92-.59-1.43-.59-.52 0-1.04.2-1.43.59L10.3 9.45l-7.72 7.72c-.78.78-.78 2.05 0 2.83L4 21.41c.39.39.9.59 1.41.59.51 0 1.02-.2 1.41-.59l7.78-7.78 2.81-2.81c.8-.78.8-2.07 0-2.86zM5.41 20L4 18.59l7.72-7.72 1.47 1.35L5.41 20z\"/>\n",
              "  </svg>\n",
              "      </button>\n",
              "      \n",
              "  <style>\n",
              "    .colab-df-container {\n",
              "      display:flex;\n",
              "      flex-wrap:wrap;\n",
              "      gap: 12px;\n",
              "    }\n",
              "\n",
              "    .colab-df-convert {\n",
              "      background-color: #E8F0FE;\n",
              "      border: none;\n",
              "      border-radius: 50%;\n",
              "      cursor: pointer;\n",
              "      display: none;\n",
              "      fill: #1967D2;\n",
              "      height: 32px;\n",
              "      padding: 0 0 0 0;\n",
              "      width: 32px;\n",
              "    }\n",
              "\n",
              "    .colab-df-convert:hover {\n",
              "      background-color: #E2EBFA;\n",
              "      box-shadow: 0px 1px 2px rgba(60, 64, 67, 0.3), 0px 1px 3px 1px rgba(60, 64, 67, 0.15);\n",
              "      fill: #174EA6;\n",
              "    }\n",
              "\n",
              "    [theme=dark] .colab-df-convert {\n",
              "      background-color: #3B4455;\n",
              "      fill: #D2E3FC;\n",
              "    }\n",
              "\n",
              "    [theme=dark] .colab-df-convert:hover {\n",
              "      background-color: #434B5C;\n",
              "      box-shadow: 0px 1px 3px 1px rgba(0, 0, 0, 0.15);\n",
              "      filter: drop-shadow(0px 1px 2px rgba(0, 0, 0, 0.3));\n",
              "      fill: #FFFFFF;\n",
              "    }\n",
              "  </style>\n",
              "\n",
              "      <script>\n",
              "        const buttonEl =\n",
              "          document.querySelector('#df-af6c0dc2-436c-4347-8368-1119c0808672 button.colab-df-convert');\n",
              "        buttonEl.style.display =\n",
              "          google.colab.kernel.accessAllowed ? 'block' : 'none';\n",
              "\n",
              "        async function convertToInteractive(key) {\n",
              "          const element = document.querySelector('#df-af6c0dc2-436c-4347-8368-1119c0808672');\n",
              "          const dataTable =\n",
              "            await google.colab.kernel.invokeFunction('convertToInteractive',\n",
              "                                                     [key], {});\n",
              "          if (!dataTable) return;\n",
              "\n",
              "          const docLinkHtml = 'Like what you see? Visit the ' +\n",
              "            '<a target=\"_blank\" href=https://colab.research.google.com/notebooks/data_table.ipynb>data table notebook</a>'\n",
              "            + ' to learn more about interactive tables.';\n",
              "          element.innerHTML = '';\n",
              "          dataTable['output_type'] = 'display_data';\n",
              "          await google.colab.output.renderOutput(dataTable, element);\n",
              "          const docLink = document.createElement('div');\n",
              "          docLink.innerHTML = docLinkHtml;\n",
              "          element.appendChild(docLink);\n",
              "        }\n",
              "      </script>\n",
              "    </div>\n",
              "  </div>\n",
              "  "
            ]
          },
          "metadata": {},
          "execution_count": 65
        }
      ]
    },
    {
      "cell_type": "code",
      "source": [
        "BukGu['dept'].value_counts()"
      ],
      "metadata": {
        "colab": {
          "base_uri": "https://localhost:8080/"
        },
        "id": "i3UheU0YD8qw",
        "outputId": "d74fa891-c08b-4c88-978e-8fc054c52520"
      },
      "execution_count": 66,
      "outputs": [
        {
          "output_type": "execute_result",
          "data": {
            "text/plain": [
              "감사실              1425\n",
              "도시국 건축주택과        1153\n",
              "도시국 교통과          1118\n",
              "도시국 건설과          1029\n",
              "주민생활지원국 환경관리과     437\n",
              "도시국 도시관리과         391\n",
              "도시국 재난안전과         364\n",
              "복지환경국 환경관리과       324\n",
              "문화녹지국 공원녹지과       223\n",
              "복지환경국 자원순환과       183\n",
              "읍/면/동사무소           98\n",
              "도시국 도시행정과          91\n",
              "Name: dept, dtype: int64"
            ]
          },
          "metadata": {},
          "execution_count": 66
        }
      ]
    },
    {
      "cell_type": "markdown",
      "source": [
        "### 학습/평가 데이터 분리"
      ],
      "metadata": {
        "id": "Kfel1BqYEyZC"
      }
    },
    {
      "cell_type": "code",
      "source": [
        "from sklearn.model_selection import train_test_split\n",
        "\n",
        "X = BukGu['content']\n",
        "y = BukGu['dept']\n",
        "\n",
        "train_x, test_x, train_y, test_y = train_test_split(X, y, test_size = 0.2, stratify = y)"
      ],
      "metadata": {
        "id": "txRE1hujE1k1"
      },
      "execution_count": 67,
      "outputs": []
    },
    {
      "cell_type": "code",
      "source": [
        "train_x.shape, test_x.shape, train_y.shape, test_y.shape"
      ],
      "metadata": {
        "colab": {
          "base_uri": "https://localhost:8080/"
        },
        "id": "JefukJKnFuP_",
        "outputId": "ee03ad89-1337-472f-d6b8-c02ed71c231e"
      },
      "execution_count": 68,
      "outputs": [
        {
          "output_type": "execute_result",
          "data": {
            "text/plain": [
              "((5468,), (1368,), (5468,), (1368,))"
            ]
          },
          "metadata": {},
          "execution_count": 68
        }
      ]
    },
    {
      "cell_type": "markdown",
      "source": [
        "### 라이브러리 설치"
      ],
      "metadata": {
        "id": "59Jamsq1GCVj"
      }
    },
    {
      "cell_type": "code",
      "source": [
        "# mecab 설치를 위한 관련 패키지 설치\n",
        "!apt-get install curl git\n",
        "!apt-get install build-essential\n",
        "!apt-get install cmake\n",
        "!apt-get install g++\n",
        "!apt-get install flex\n",
        "!apt-get install bison\n",
        "!apt-get install python-dev\n",
        "!pip install cython\n",
        "!pip install mecab-python"
      ],
      "metadata": {
        "colab": {
          "base_uri": "https://localhost:8080/"
        },
        "id": "OpN0drPDFyII",
        "outputId": "4476960c-aa4a-4dba-eab6-528261154c30"
      },
      "execution_count": 69,
      "outputs": [
        {
          "output_type": "stream",
          "name": "stdout",
          "text": [
            "Reading package lists... Done\n",
            "Building dependency tree       \n",
            "Reading state information... Done\n",
            "curl is already the newest version (7.68.0-1ubuntu2.18).\n",
            "git is already the newest version (1:2.25.1-1ubuntu3.10).\n",
            "0 upgraded, 0 newly installed, 0 to remove and 24 not upgraded.\n",
            "Reading package lists... Done\n",
            "Building dependency tree       \n",
            "Reading state information... Done\n",
            "build-essential is already the newest version (12.8ubuntu1.1).\n",
            "0 upgraded, 0 newly installed, 0 to remove and 24 not upgraded.\n",
            "Reading package lists... Done\n",
            "Building dependency tree       \n",
            "Reading state information... Done\n",
            "cmake is already the newest version (3.16.3-1ubuntu1.20.04.1).\n",
            "0 upgraded, 0 newly installed, 0 to remove and 24 not upgraded.\n",
            "Reading package lists... Done\n",
            "Building dependency tree       \n",
            "Reading state information... Done\n",
            "g++ is already the newest version (4:9.3.0-1ubuntu2).\n",
            "0 upgraded, 0 newly installed, 0 to remove and 24 not upgraded.\n",
            "Reading package lists... Done\n",
            "Building dependency tree       \n",
            "Reading state information... Done\n",
            "flex is already the newest version (2.6.4-6.2).\n",
            "0 upgraded, 0 newly installed, 0 to remove and 24 not upgraded.\n",
            "Reading package lists... Done\n",
            "Building dependency tree       \n",
            "Reading state information... Done\n",
            "bison is already the newest version (2:3.5.1+dfsg-1).\n",
            "0 upgraded, 0 newly installed, 0 to remove and 24 not upgraded.\n",
            "Reading package lists... Done\n",
            "Building dependency tree       \n",
            "Reading state information... Done\n",
            "Note, selecting 'python-dev-is-python2' instead of 'python-dev'\n",
            "python-dev-is-python2 is already the newest version (2.7.17-4).\n",
            "0 upgraded, 0 newly installed, 0 to remove and 24 not upgraded.\n",
            "Looking in indexes: https://pypi.org/simple, https://us-python.pkg.dev/colab-wheels/public/simple/\n",
            "Requirement already satisfied: cython in /usr/local/lib/python3.10/dist-packages (0.29.34)\n",
            "Looking in indexes: https://pypi.org/simple, https://us-python.pkg.dev/colab-wheels/public/simple/\n",
            "Requirement already satisfied: mecab-python in /usr/local/lib/python3.10/dist-packages (1.0.0)\n",
            "Requirement already satisfied: mecab-python3 in /usr/local/lib/python3.10/dist-packages (from mecab-python) (1.0.6)\n"
          ]
        }
      ]
    },
    {
      "cell_type": "code",
      "source": [
        "!python3 -m pip install konlpy\n",
        "!bash <(curl -s https://raw.githubusercontent.com/konlpy/konlpy/master/scripts/mecab.sh)"
      ],
      "metadata": {
        "colab": {
          "base_uri": "https://localhost:8080/"
        },
        "id": "QmnBszqJGTyO",
        "outputId": "f94a98d9-a0fc-4a61-9af3-795d547057b3"
      },
      "execution_count": 70,
      "outputs": [
        {
          "output_type": "stream",
          "name": "stdout",
          "text": [
            "Looking in indexes: https://pypi.org/simple, https://us-python.pkg.dev/colab-wheels/public/simple/\n",
            "Requirement already satisfied: konlpy in /usr/local/lib/python3.10/dist-packages (0.6.0)\n",
            "Requirement already satisfied: numpy>=1.6 in /usr/local/lib/python3.10/dist-packages (from konlpy) (1.22.4)\n",
            "Requirement already satisfied: JPype1>=0.7.0 in /usr/local/lib/python3.10/dist-packages (from konlpy) (1.4.1)\n",
            "Requirement already satisfied: lxml>=4.1.0 in /usr/local/lib/python3.10/dist-packages (from konlpy) (4.9.2)\n",
            "Requirement already satisfied: packaging in /usr/local/lib/python3.10/dist-packages (from JPype1>=0.7.0->konlpy) (23.1)\n",
            "mecab-ko is already installed\n",
            "mecab-ko-dic is already installed\n",
            "mecab-python is already installed\n",
            "Done.\n"
          ]
        }
      ]
    },
    {
      "cell_type": "code",
      "source": [
        "!pip uninstall gensim\n",
        "!pip install gensim==3.8.3 --no-cache-dir"
      ],
      "metadata": {
        "colab": {
          "base_uri": "https://localhost:8080/"
        },
        "id": "lwgFvNBmGR9L",
        "outputId": "05ba2561-71e2-4d52-e668-f58565897797"
      },
      "execution_count": 71,
      "outputs": [
        {
          "output_type": "stream",
          "name": "stdout",
          "text": [
            "\u001b[33mWARNING: Skipping gensim as it is not installed.\u001b[0m\u001b[33m\n",
            "\u001b[0mLooking in indexes: https://pypi.org/simple, https://us-python.pkg.dev/colab-wheels/public/simple/\n",
            "Collecting gensim==3.8.3\n",
            "  Downloading gensim-3.8.3.tar.gz (23.4 MB)\n",
            "\u001b[2K     \u001b[90m━━━━━━━━━━━━━━━━━━━━━━━━━━━━━━━━━━━━━━━\u001b[0m \u001b[32m23.4/23.4 MB\u001b[0m \u001b[31m222.2 MB/s\u001b[0m eta \u001b[36m0:00:00\u001b[0m\n",
            "\u001b[?25h  Preparing metadata (setup.py) ... \u001b[?25l\u001b[?25hdone\n",
            "Requirement already satisfied: numpy>=1.11.3 in /usr/local/lib/python3.10/dist-packages (from gensim==3.8.3) (1.22.4)\n",
            "Requirement already satisfied: scipy>=0.18.1 in /usr/local/lib/python3.10/dist-packages (from gensim==3.8.3) (1.10.1)\n",
            "Requirement already satisfied: six>=1.5.0 in /usr/local/lib/python3.10/dist-packages (from gensim==3.8.3) (1.16.0)\n",
            "Requirement already satisfied: smart_open>=1.8.1 in /usr/local/lib/python3.10/dist-packages (from gensim==3.8.3) (6.3.0)\n",
            "Building wheels for collected packages: gensim\n",
            "  \u001b[1;31merror\u001b[0m: \u001b[1msubprocess-exited-with-error\u001b[0m\n",
            "  \n",
            "  \u001b[31m×\u001b[0m \u001b[32mpython setup.py bdist_wheel\u001b[0m did not run successfully.\n",
            "  \u001b[31m│\u001b[0m exit code: \u001b[1;36m1\u001b[0m\n",
            "  \u001b[31m╰─>\u001b[0m See above for output.\n",
            "  \n",
            "  \u001b[1;35mnote\u001b[0m: This error originates from a subprocess, and is likely not a problem with pip.\n",
            "  Building wheel for gensim (setup.py) ... \u001b[?25lerror\n",
            "\u001b[31m  ERROR: Failed building wheel for gensim\u001b[0m\u001b[31m\n",
            "\u001b[0m\u001b[?25h  Running setup.py clean for gensim\n",
            "Failed to build gensim\n",
            "Installing collected packages: gensim\n",
            "  \u001b[1;31merror\u001b[0m: \u001b[1msubprocess-exited-with-error\u001b[0m\n",
            "  \n",
            "  \u001b[31m×\u001b[0m \u001b[32mRunning setup.py install for gensim\u001b[0m did not run successfully.\n",
            "  \u001b[31m│\u001b[0m exit code: \u001b[1;36m1\u001b[0m\n",
            "  \u001b[31m╰─>\u001b[0m See above for output.\n",
            "  \n",
            "  \u001b[1;35mnote\u001b[0m: This error originates from a subprocess, and is likely not a problem with pip.\n",
            "  Running setup.py install for gensim ... \u001b[?25l\u001b[?25herror\n",
            "\u001b[1;31merror\u001b[0m: \u001b[1mlegacy-install-failure\u001b[0m\n",
            "\n",
            "\u001b[31m×\u001b[0m Encountered error while trying to install package.\n",
            "\u001b[31m╰─>\u001b[0m gensim\n",
            "\n",
            "\u001b[1;35mnote\u001b[0m: This is an issue with the package mentioned above, not pip.\n",
            "\u001b[1;36mhint\u001b[0m: See above for output from the failure.\n"
          ]
        }
      ]
    },
    {
      "cell_type": "code",
      "source": [
        "import gensim\n",
        "print(gensim.__version__)"
      ],
      "metadata": {
        "colab": {
          "base_uri": "https://localhost:8080/"
        },
        "id": "q4mprtsRvlOq",
        "outputId": "a6014591-a0d2-4f18-c26f-2512737fecc0"
      },
      "execution_count": 72,
      "outputs": [
        {
          "output_type": "stream",
          "name": "stdout",
          "text": [
            "4.3.1\n"
          ]
        }
      ]
    },
    {
      "cell_type": "markdown",
      "source": [
        "### Word2Vec"
      ],
      "metadata": {
        "id": "zBwLmkGGIfUQ"
      }
    },
    {
      "cell_type": "code",
      "source": [
        "from konlpy.tag import Mecab\n",
        "import re"
      ],
      "metadata": {
        "id": "-zXLDm59RPNZ"
      },
      "execution_count": 73,
      "outputs": []
    },
    {
      "cell_type": "code",
      "source": [
        "train_sentences = train_x.tolist()\n",
        "test_sentences = test_x.tolist()"
      ],
      "metadata": {
        "id": "xNz-zXLHR6Ig"
      },
      "execution_count": 74,
      "outputs": []
    },
    {
      "cell_type": "code",
      "source": [
        "def sentenceWordList(sentences):\n",
        "    cleaned_sentence = []\n",
        "    for sentence in sentences:\n",
        "        sentence = re.sub('[^가-힣ㄱ-ㅎㅏ-ㅣa-zA-Z0-9]', ' ', sentence)\n",
        "        words = Mecab().morphs(sentence)\n",
        "        cleaned_sentence.append(words)\n",
        "    return cleaned_sentence"
      ],
      "metadata": {
        "id": "zbPtZk9_Sr_1"
      },
      "execution_count": 75,
      "outputs": []
    },
    {
      "cell_type": "code",
      "source": [
        "train_token = sentenceWordList(train_sentences)\n",
        "test_token = sentenceWordList(test_sentences)"
      ],
      "metadata": {
        "id": "kh9UCLfPSyD5"
      },
      "execution_count": 76,
      "outputs": []
    },
    {
      "cell_type": "code",
      "source": [
        "from gensim.models import Word2Vec\n",
        "\n",
        "# Word2Vec 모델 생성\n",
        "wv_model = Word2Vec(sentences=train_token, vector_size= 1000, window= 5, min_count= 5, workers = 4, sg = 1)"
      ],
      "metadata": {
        "id": "qtwRkt2qH8ai"
      },
      "execution_count": 79,
      "outputs": []
    },
    {
      "cell_type": "code",
      "source": [
        "Word2Vec"
      ],
      "metadata": {
        "colab": {
          "base_uri": "https://localhost:8080/"
        },
        "id": "k3cz2raEfRwa",
        "outputId": "cfc030f9-1872-4177-c652-6b97e4e3ad2a"
      },
      "execution_count": 80,
      "outputs": [
        {
          "output_type": "execute_result",
          "data": {
            "text/plain": [
              "gensim.models.word2vec.Word2Vec"
            ]
          },
          "metadata": {},
          "execution_count": 80
        }
      ]
    },
    {
      "cell_type": "code",
      "source": [
        "# Word2Vec 모델로부터 하나의 문장을 벡터화 시키는 함수\n",
        "def get_sent_embedding(model, embedding_size, tokenized_words):\n",
        "    # 임베딩 벡터를 0으로 초기화\n",
        "    feature_vec = np.zeros((embedding_size,), dtype='float32')\n",
        "    # 단어 개수 초기화\n",
        "    n_words = 0\n",
        "    # 모델 단어 집합 생성\n",
        "    index2word_set = set(model.wv.index_to_key)\n",
        "    # 문장의 단어들을 하나씩 반복\n",
        "    for word in tokenized_words:\n",
        "        # 모델 단어 집합에 해당하는 단어일 경우에만\n",
        "        if word in index2word_set:\n",
        "            # 단어 개수 1 증가\n",
        "            n_words += 1\n",
        "            # 임베딩 벡터에 해당 단어의 벡터를 더함\n",
        "            feature_vec = np.add(feature_vec, model[word])\n",
        "    # 단어 개수가 0보다 큰 경우 벡터를 단어 개수로 나눠줌 (평균 임베딩 벡터 계산)\n",
        "    if (n_words > 0):\n",
        "        feature_vec = np.divide(feature_vec, n_words)\n",
        "    return feature_vec"
      ],
      "metadata": {
        "id": "CGEM7YslhSQ5"
      },
      "execution_count": 81,
      "outputs": []
    },
    {
      "cell_type": "code",
      "source": [
        "def get_sent_embedding(model, embedding_size, tokenized_words):\n",
        "    feature_vec = np.zeros((embedding_size,), dtype=\"float32\")\n",
        "    n_words = 0\n",
        "    for word in tokenized_words:\n",
        "        if word in model.wv.key_to_index:\n",
        "            n_words += 1\n",
        "            # 임베딩 벡터에 해당 단어의 벡터를 더함\n",
        "            feature_vec = np.add(feature_vec, model.wv[word])\n",
        "    # 단어 개수가 0보다 큰 경우 벡터를 단어 개수로 나눠줌 (평균 임베딩 벡터 계산)\n",
        "    if (n_words > 0):\n",
        "        feature_vec = np.divide(feature_vec, n_words)\n",
        "    return feature_vec\n"
      ],
      "metadata": {
        "id": "wg2WgwgtpRdj"
      },
      "execution_count": 84,
      "outputs": []
    },
    {
      "cell_type": "code",
      "source": [
        "train_data_vecs = get_dataset(train_token, wv_model, 1000)"
      ],
      "metadata": {
        "id": "9_QmTZN5pSMo"
      },
      "execution_count": 85,
      "outputs": []
    },
    {
      "cell_type": "code",
      "source": [
        "test_data_vecs = get_dataset(test_token, wv_model, 1000)"
      ],
      "metadata": {
        "id": "d145tnx3xXEU"
      },
      "execution_count": 86,
      "outputs": []
    },
    {
      "cell_type": "markdown",
      "source": [
        "### Modeling && scoreing"
      ],
      "metadata": {
        "id": "t0KidQIvIBDA"
      }
    },
    {
      "cell_type": "code",
      "source": [
        "from lightgbm import LGBMClassifier\n",
        "from sklearn.ensemble import RandomForestClassifier\n",
        "from sklearn.discriminant_analysis import LinearDiscriminantAnalysis\n",
        "from sklearn.metrics import f1_score, accuracy_score\n",
        "from sklearn.metrics import classification_report"
      ],
      "metadata": {
        "id": "0AEikvFf3O2D"
      },
      "execution_count": 88,
      "outputs": []
    },
    {
      "cell_type": "code",
      "source": [
        "#머신러닝 모델을 학습시키고 val과 test에 대한 f1, acc를 구해주는 함수\n",
        "def model_scoreing(model, train_x, test_x, train_y, test_y):\n",
        "    selected_model = model()\n",
        "    selected_model.fit(train_x, train_y)\n",
        "    test_pred = selected_model.predict(test_x)\n",
        "\n",
        "    test_f1 = f1_score(test_y, test_pred, average = \"macro\")\n",
        "    test_acc = accuracy_score(test_y, test_pred)\n",
        "\n",
        "    return selected_model, test_f1, test_acc"
      ],
      "metadata": {
        "id": "b3sSrTrt3YIW"
      },
      "execution_count": 91,
      "outputs": []
    },
    {
      "cell_type": "code",
      "source": [
        "models = [RandomForestClassifier, LGBMClassifier, LinearDiscriminantAnalysis]\n",
        "\n",
        "#학습된 모델, val, test 에대한 f1, acc을 담는 배열\n",
        "fited_models = []\n",
        "test_f1 = []\n",
        "test_acc = []\n",
        "\n",
        "for i in range(len(models)):\n",
        "    tmp = model_scoreing(models[i], train_data_vecs, test_data_vecs, train_y, test_y)\n",
        "    \n",
        "    fited_models.append(tmp[0])\n",
        "    test_f1.append(tmp[1])\n",
        "    test_acc.append(tmp[2])"
      ],
      "metadata": {
        "id": "NNcXx_Cf3cya"
      },
      "execution_count": 95,
      "outputs": []
    },
    {
      "cell_type": "code",
      "source": [
        "#모델 성능을 그려주는 plot\n",
        "model_name = ['rf', 'LGBM', 'LDA']\n",
        "\n",
        "plt.figure(figsize = (10, 10))\n",
        "\n",
        "plt.subplot(2, 1, 1)\n",
        "plt.bar(model_name, test_f1)\n",
        "for i, v in enumerate(model_name):\n",
        "    plt.text(v, test_f1[i], test_f1[i],\n",
        "             fontsize = 9, \n",
        "             color='blue',\n",
        "             horizontalalignment='center',\n",
        "             verticalalignment='bottom')\n",
        "plt.title('test_f1')\n",
        "\n",
        "plt.subplot(2, 1, 2)\n",
        "plt.bar(model_name, test_acc)\n",
        "for i, v in enumerate(model_name):\n",
        "    plt.text(v, test_acc[i], test_acc[i],\n",
        "             fontsize = 9, \n",
        "             color='blue',\n",
        "             horizontalalignment='center',\n",
        "             verticalalignment='bottom')\n",
        "plt.title('test_acc')\n",
        "\n",
        "plt.show()"
      ],
      "metadata": {
        "colab": {
          "base_uri": "https://localhost:8080/",
          "height": 853
        },
        "id": "syA3gdao3eLF",
        "outputId": "9c27938e-97a4-4b17-c0e6-0975a94a80ec"
      },
      "execution_count": 98,
      "outputs": [
        {
          "output_type": "display_data",
          "data": {
            "text/plain": [
              "<Figure size 1000x1000 with 2 Axes>"
            ],
            "image/png": "[encoded data removed]"
          },
          "metadata": {}
        }
      ]
    },
    {
      "cell_type": "code",
      "source": [],
      "metadata": {
        "id": "OaJJzx7-3gDS"
      },
      "execution_count": null,
      "outputs": []
    }
  ]
}