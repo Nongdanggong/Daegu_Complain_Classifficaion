{
 "cells": [
  {
   "cell_type": "markdown",
   "id": "2c637081-cc13-4b8f-8a54-12847c4eae2c",
   "metadata": {},
   "source": [
    "**‼처음부터 실행하지 말고, 각 파트 끝에 데이터를 저장하고, 다음 파트 담당자는 해당 데이터를 불러와서 작업할 것**\n",
    "- 각 load, save 함수 사용"
   ]
  },
  {
   "cell_type": "code",
   "execution_count": 29,
   "id": "12335550-5683-4e26-8594-6de57ef4f2ef",
   "metadata": {},
   "outputs": [],
   "source": [
    "name_list = ['BukGu', 'DalseongGun', 'DalsuGu', 'DongGu', 'JungGu', 'NamGu', 'SeoGu', 'Suseonggu']\n",
    "complain_list = []"
   ]
  },
  {
   "cell_type": "code",
   "execution_count": 30,
   "id": "25e0e143-6ecc-4c6b-8089-0ce81c8d3084",
   "metadata": {},
   "outputs": [],
   "source": [
    "def save():\n",
    "    for i, v in enumerate(name_list):\n",
    "        complain_list[i].to_csv(v + '.csv',index=False)"
   ]
  },
  {
   "cell_type": "code",
   "execution_count": 31,
   "id": "67103d8a-2413-47fb-963a-cdcc50b50c39",
   "metadata": {},
   "outputs": [],
   "source": [
    "def load():\n",
    "    for i, v in enumerate(name_list):\n",
    "        complain_list.append(pd.read_csv(v + '.csv'))"
   ]
  },
  {
   "cell_type": "code",
   "execution_count": 32,
   "id": "0ce09432-8a50-48aa-a9f7-5f2a9f7ce636",
   "metadata": {},
   "outputs": [],
   "source": [
    "load()"
   ]
  },
  {
   "cell_type": "markdown",
   "id": "0d399d8e-316f-4dc9-a40f-aac9de74b2b4",
   "metadata": {},
   "source": [
    "# 0. 라이브러리, row data 불러오기"
   ]
  },
  {
   "cell_type": "code",
   "execution_count": 33,
   "id": "58edd421-2f34-4376-8cbb-298cbf51eff8",
   "metadata": {},
   "outputs": [],
   "source": [
    "import numpy as np\n",
    "import pandas as pd"
   ]
  },
  {
   "cell_type": "markdown",
   "id": "590b0cc2-038f-4189-a32d-adddfda7ae1f",
   "metadata": {},
   "source": [
    "----"
   ]
  },
  {
   "cell_type": "code",
   "execution_count": 5,
   "id": "df0991d1-6e34-461c-9741-129d5380faf9",
   "metadata": {},
   "outputs": [],
   "source": [
    "# row data\n",
    "for i in name_list: \n",
    "    complain_list.append(pd.read_csv('../데이터 수집/크롤링/complain_' + i + '.csv'))"
   ]
  },
  {
   "cell_type": "code",
   "execution_count": 6,
   "id": "3f646989-c4fc-4950-8e71-d0f13ecab2d1",
   "metadata": {},
   "outputs": [
    {
     "name": "stdout",
     "output_type": "stream",
     "text": [
      "BukGu\n"
     ]
    },
    {
     "data": {
      "text/html": [
       "<div>\n",
       "<style scoped>\n",
       "    .dataframe tbody tr th:only-of-type {\n",
       "        vertical-align: middle;\n",
       "    }\n",
       "\n",
       "    .dataframe tbody tr th {\n",
       "        vertical-align: top;\n",
       "    }\n",
       "\n",
       "    .dataframe thead th {\n",
       "        text-align: right;\n",
       "    }\n",
       "</style>\n",
       "<table border=\"1\" class=\"dataframe\">\n",
       "  <thead>\n",
       "    <tr style=\"text-align: right;\">\n",
       "      <th></th>\n",
       "      <th>title</th>\n",
       "      <th>content</th>\n",
       "      <th>dept</th>\n",
       "    </tr>\n",
       "  </thead>\n",
       "  <tbody>\n",
       "    <tr>\n",
       "      <th>0</th>\n",
       "      <td>매천동 청구장미아파트,삼우그린 입구 불합리</td>\n",
       "      <td>위치 : 매천동 청구장미아파트,삼우그린아파트 들어가는 입구 (매천생활용품 바로 옆 ...</td>\n",
       "      <td>도시국 건설과</td>\n",
       "    </tr>\n",
       "    <tr>\n",
       "      <th>1</th>\n",
       "      <td>처리중..언제까지</td>\n",
       "      <td>어린이보호구역 불법주차 불법적재 신고한지가 언제인데 아직 처리중...\\r\\n적재물도...</td>\n",
       "      <td>도시국 도시행정과</td>\n",
       "    </tr>\n",
       "    <tr>\n",
       "      <th>2</th>\n",
       "      <td>도로개설</td>\n",
       "      <td>본인은 대구시 북구 태전동 81-1, 74, 75번지 토지 소유자 입니다.\\r\\n현...</td>\n",
       "      <td>도시국 건설과</td>\n",
       "    </tr>\n",
       "    <tr>\n",
       "      <th>3</th>\n",
       "      <td>북구청장감사실은 뭐 하는 곳 입니까? 묻습니다. 불법에 대한 최고의 북구 전문가</td>\n",
       "      <td>북구청장\\r\\n\\r\\n감사실은 뭐 하는 곳 입니까? 묻습니다. 불법에 대한 최고의 ...</td>\n",
       "      <td>감사실</td>\n",
       "    </tr>\n",
       "    <tr>\n",
       "      <th>4</th>\n",
       "      <td>대구시장 북구청장 감사실은 뭐 하는 부서 입니까? 감사실 폐쇄하셔요? 미관지구</td>\n",
       "      <td>대구시장 북구청장\\r\\n\\r\\n감사실은 뭐 하는 부서 입니까? 감사실 폐쇄하셔요?\\...</td>\n",
       "      <td>감사실</td>\n",
       "    </tr>\n",
       "  </tbody>\n",
       "</table>\n",
       "</div>"
      ],
      "text/plain": [
       "                                          title  \\\n",
       "0                       매천동 청구장미아파트,삼우그린 입구 불합리   \n",
       "1                                     처리중..언제까지   \n",
       "2                                          도로개설   \n",
       "3  북구청장감사실은 뭐 하는 곳 입니까? 묻습니다. 불법에 대한 최고의 북구 전문가   \n",
       "4   대구시장 북구청장 감사실은 뭐 하는 부서 입니까? 감사실 폐쇄하셔요? 미관지구   \n",
       "\n",
       "                                             content       dept  \n",
       "0  위치 : 매천동 청구장미아파트,삼우그린아파트 들어가는 입구 (매천생활용품 바로 옆 ...    도시국 건설과  \n",
       "1  어린이보호구역 불법주차 불법적재 신고한지가 언제인데 아직 처리중...\\r\\n적재물도...  도시국 도시행정과  \n",
       "2  본인은 대구시 북구 태전동 81-1, 74, 75번지 토지 소유자 입니다.\\r\\n현...    도시국 건설과  \n",
       "3  북구청장\\r\\n\\r\\n감사실은 뭐 하는 곳 입니까? 묻습니다. 불법에 대한 최고의 ...        감사실  \n",
       "4  대구시장 북구청장\\r\\n\\r\\n감사실은 뭐 하는 부서 입니까? 감사실 폐쇄하셔요?\\...        감사실  "
      ]
     },
     "execution_count": 6,
     "metadata": {},
     "output_type": "execute_result"
    }
   ],
   "source": [
    "print(name_list[0])\n",
    "complain_list[0].head()"
   ]
  },
  {
   "cell_type": "code",
   "execution_count": 11,
   "id": "797c896e-d1e2-45bf-8bc6-ecc21a49fab3",
   "metadata": {},
   "outputs": [
    {
     "data": {
      "text/plain": [
       "'위치 : 매천동 청구장미아파트,삼우그린아파트 들어가는 입구 (매천생활용품 바로 옆 진입로)\\r\\n내용: 사람들이 자주 이용하는 횡단보도가 있고 아파트로 들어가는 차량들이 많이 다님에도 불구하고 새벽에 매천생활용품점과 자동차수리점이 문을 닫는 시간이 되면 거리가 너무 어두컴컴해서 보행자를 칠 우려가 있음.(자동차 우측 사각지대 + 늦은밤 어두컴컴한 거리) 꼭! 매천생활용품점과 자동차수리점이 문을 닫는 시간 대 거리에 조명시설 확인 후 조치해야할 것입니다. 사진도 첨부합니다.\\r\\n\\r\\n※ 첨부파일 :\\r\\nIMG_2181.jpeg\\r\\nIMG_2182.jpeg'"
      ]
     },
     "execution_count": 11,
     "metadata": {},
     "output_type": "execute_result"
    }
   ],
   "source": [
    "complain_list[0].iloc[0]['content']"
   ]
  },
  {
   "cell_type": "code",
   "execution_count": 13,
   "id": "cdfa00d3-a53a-46c4-af21-bf0652bb739c",
   "metadata": {},
   "outputs": [
    {
     "name": "stdout",
     "output_type": "stream",
     "text": [
      "BukGu (9237, 3)\n",
      "DalseongGun (2764, 3)\n",
      "DalsuGu (5862, 3)\n",
      "DongGu (4894, 3)\n",
      "JungGu (3026, 3)\n",
      "NamGu (2782, 3)\n",
      "SeoGu (2663, 3)\n",
      "Suseonggu (7616, 3)\n"
     ]
    }
   ],
   "source": [
    "for i, v in enumerate(name_list):\n",
    "    print(v, complain_list[i].shape)"
   ]
  },
  {
   "cell_type": "code",
   "execution_count": 12,
   "id": "aae2e9ce-5238-4c78-9c15-552cfb749a6b",
   "metadata": {
    "scrolled": true,
    "tags": []
   },
   "outputs": [
    {
     "name": "stdout",
     "output_type": "stream",
     "text": [
      "BukGu\n",
      "감사실              2235\n",
      "도시국 건축주택과        1186\n",
      "도시국 교통과          1121\n",
      "도시국 건설과          1038\n",
      "주민생활지원국 환경관리과     437\n",
      "                 ... \n",
      "전략사업팀               1\n",
      "의회사무국               1\n",
      "보건소 강북보건지소          1\n",
      "-                   1\n",
      "대현2동                1\n",
      "Name: dept, Length: 93, dtype: int64\n",
      "\n",
      "DalseongGun\n",
      "건설도시국 건축과       536\n",
      "경제환경국 교통과       480\n",
      "건설도시국 건설과       404\n",
      "경제환경국 환경과       212\n",
      "문화관광국 공원녹지과     189\n",
      "건설도시국 안전총괄과     113\n",
      "건설도시국 교통과        99\n",
      "건설도시국 도시정비과      88\n",
      "건설도시국 도시계획과      70\n",
      "경제환경국 청소위생과      64\n",
      "문화관광국 문화예술과      59\n",
      "화원읍              48\n",
      "다사읍              37\n",
      "교육복지국 교육정책과      36\n",
      "경제환경국 농업정책과      34\n",
      "자치행정국 종합민원과      31\n",
      "보건소 보건과          29\n",
      "주민복지국 복지정책과      24\n",
      "가창면              22\n",
      "정책관광국 관광과        20\n",
      "경제환경국 일자리경제과     15\n",
      "논공읍              15\n",
      "자치행정국 자치행정과      14\n",
      "주민복지국 희망지원과      12\n",
      "옥포읍              12\n",
      "정책추진단            10\n",
      "보건소 건강증진과         9\n",
      "유가읍               9\n",
      "구지면               8\n",
      "자치행정국 회계과         7\n",
      "자치행정국 정보통신과       7\n",
      "기획예산실             6\n",
      "현풍읍               5\n",
      "농업기술센터 농촌지도과      4\n",
      "법무감사실             4\n",
      "의회사무국             3\n",
      "주민복지국 사회복지과       3\n",
      "건설도시국 토지정보과       3\n",
      "문화관광국 체육진흥과       3\n",
      "유가면               3\n",
      "자치행정국 세무과         2\n",
      "자치행정국 토지정보과       2\n",
      "하빈면               2\n",
      "정책사업단 관광과         2\n",
      "현풍면               2\n",
      "문화관광국 관광과         2\n",
      "교육복지국 복지정책과       1\n",
      "기획감사실             1\n",
      "교육복지국 생활보장과       1\n",
      "교육복지국 희망지원과       1\n",
      "정책사업단 정책사업과       1\n",
      "Name: dept, dtype: int64\n",
      "\n",
      "DalsuGu\n",
      "경제환경국 주차관리과    1203\n",
      "도시창조국 건축과       626\n",
      "도시창조국 건설과       552\n",
      "도시건설국 도시관리과     507\n",
      "경제환경국 청소과       435\n",
      "               ... \n",
      "보건소 성서보건지소        2\n",
      "도시건설국 안전도시과       2\n",
      "자치행정국 홍보전산과       1\n",
      "죽전동               1\n",
      "성당1동              1\n",
      "Name: dept, Length: 68, dtype: int64\n",
      "\n",
      "DongGu\n",
      "도시건설국 교통과      555\n",
      "도시건설국 건설과      555\n",
      "도시건설국 건축주택과    499\n",
      "도시안전국 교통과      387\n",
      "도시안전국 건축주택과    385\n",
      "              ... \n",
      "불로봉무동            1\n",
      "경제환경국 위생과        1\n",
      "신천1.2동           1\n",
      "행정관리국 행정관리과      1\n",
      "환경청소과            1\n",
      "Name: dept, Length: 96, dtype: int64\n",
      "\n",
      "JungGu\n",
      "도시관광국 건축주택과    633\n",
      "도시안전국 건축주택과    421\n",
      "환경건설국 교통과      405\n",
      "도시관광국 건설과      134\n",
      "안전행정국 경제과      115\n",
      "              ... \n",
      "도심활성화지원단         1\n",
      "복지문화국 복지정책과      1\n",
      "동인동              1\n",
      "복지문화국 가족복지과      1\n",
      "문화공보실            1\n",
      "Name: dept, Length: 73, dtype: int64\n",
      "\n",
      "NamGu\n",
      "도시창조국 건축과      872\n",
      "도시창조국 건설과      377\n",
      "도시창조국 교통과      366\n",
      "주민행복국 녹색환경과    328\n",
      "주민생활국 생활환경과     90\n",
      "              ... \n",
      "대명10동            1\n",
      "대명5동             1\n",
      "행정관리국 정보통신과      1\n",
      "안전행정국 세무과        1\n",
      "주민생활지원국 위생과      1\n",
      "Name: dept, Length: 63, dtype: int64\n",
      "\n",
      "SeoGu\n",
      "도시국 교통과          319\n",
      "도시국 도시관리과        220\n",
      "주민생활지원국 환경관리과    217\n",
      "복지생활국 환경청소과      178\n",
      "도시안전국 건축주택과      170\n",
      "                ... \n",
      "복지생활국 생활보장과        1\n",
      "비산5동               1\n",
      "총무국 문화공보과          1\n",
      "행정관리국 지적과          1\n",
      "행정관리국 행정지원과        1\n",
      "Name: dept, Length: 69, dtype: int64\n",
      "\n",
      "Suseonggu\n",
      "도시국 건축과          2348\n",
      "도시국 교통과          1163\n",
      "도시국 건설과           903\n",
      "복지국 녹색환경과         633\n",
      "도시국 공원녹지과         590\n",
      "                 ... \n",
      "주민생활지원국 산업환경팀       1\n",
      "복지국 희망복지지원단         1\n",
      "교육문화국 관광과           1\n",
      "홍보소통실               1\n",
      "총무국 정보통신과           1\n",
      "Name: dept, Length: 80, dtype: int64\n",
      "\n"
     ]
    }
   ],
   "source": [
    "for i, v in enumerate(name_list):\n",
    "    print(v)\n",
    "    print(complain_list[i]['dept'].value_counts())\n",
    "    print()"
   ]
  },
  {
   "cell_type": "code",
   "execution_count": null,
   "id": "7e1ba8ee-2da8-4633-b098-c0929ae050d9",
   "metadata": {},
   "outputs": [],
   "source": []
  },
  {
   "cell_type": "markdown",
   "id": "251eac5b-c454-4fb9-8ad6-a8e519f34c6a",
   "metadata": {},
   "source": [
    "# 1. content = 제목 + 내용"
   ]
  },
  {
   "cell_type": "code",
   "execution_count": 14,
   "id": "26e8d6b3-b219-4f31-bead-5f17614db038",
   "metadata": {},
   "outputs": [
    {
     "data": {
      "text/html": [
       "<div>\n",
       "<style scoped>\n",
       "    .dataframe tbody tr th:only-of-type {\n",
       "        vertical-align: middle;\n",
       "    }\n",
       "\n",
       "    .dataframe tbody tr th {\n",
       "        vertical-align: top;\n",
       "    }\n",
       "\n",
       "    .dataframe thead th {\n",
       "        text-align: right;\n",
       "    }\n",
       "</style>\n",
       "<table border=\"1\" class=\"dataframe\">\n",
       "  <thead>\n",
       "    <tr style=\"text-align: right;\">\n",
       "      <th></th>\n",
       "      <th>title</th>\n",
       "      <th>content</th>\n",
       "      <th>dept</th>\n",
       "    </tr>\n",
       "  </thead>\n",
       "  <tbody>\n",
       "    <tr>\n",
       "      <th>0</th>\n",
       "      <td>매천동 청구장미아파트,삼우그린 입구 불합리</td>\n",
       "      <td>위치 : 매천동 청구장미아파트,삼우그린아파트 들어가는 입구 (매천생활용품 바로 옆 ...</td>\n",
       "      <td>도시국 건설과</td>\n",
       "    </tr>\n",
       "    <tr>\n",
       "      <th>1</th>\n",
       "      <td>처리중..언제까지</td>\n",
       "      <td>어린이보호구역 불법주차 불법적재 신고한지가 언제인데 아직 처리중...\\r\\n적재물도...</td>\n",
       "      <td>도시국 도시행정과</td>\n",
       "    </tr>\n",
       "    <tr>\n",
       "      <th>2</th>\n",
       "      <td>도로개설</td>\n",
       "      <td>본인은 대구시 북구 태전동 81-1, 74, 75번지 토지 소유자 입니다.\\r\\n현...</td>\n",
       "      <td>도시국 건설과</td>\n",
       "    </tr>\n",
       "    <tr>\n",
       "      <th>3</th>\n",
       "      <td>북구청장감사실은 뭐 하는 곳 입니까? 묻습니다. 불법에 대한 최고의 북구 전문가</td>\n",
       "      <td>북구청장\\r\\n\\r\\n감사실은 뭐 하는 곳 입니까? 묻습니다. 불법에 대한 최고의 ...</td>\n",
       "      <td>감사실</td>\n",
       "    </tr>\n",
       "    <tr>\n",
       "      <th>4</th>\n",
       "      <td>대구시장 북구청장 감사실은 뭐 하는 부서 입니까? 감사실 폐쇄하셔요? 미관지구</td>\n",
       "      <td>대구시장 북구청장\\r\\n\\r\\n감사실은 뭐 하는 부서 입니까? 감사실 폐쇄하셔요?\\...</td>\n",
       "      <td>감사실</td>\n",
       "    </tr>\n",
       "  </tbody>\n",
       "</table>\n",
       "</div>"
      ],
      "text/plain": [
       "                                          title  \\\n",
       "0                       매천동 청구장미아파트,삼우그린 입구 불합리   \n",
       "1                                     처리중..언제까지   \n",
       "2                                          도로개설   \n",
       "3  북구청장감사실은 뭐 하는 곳 입니까? 묻습니다. 불법에 대한 최고의 북구 전문가   \n",
       "4   대구시장 북구청장 감사실은 뭐 하는 부서 입니까? 감사실 폐쇄하셔요? 미관지구   \n",
       "\n",
       "                                             content       dept  \n",
       "0  위치 : 매천동 청구장미아파트,삼우그린아파트 들어가는 입구 (매천생활용품 바로 옆 ...    도시국 건설과  \n",
       "1  어린이보호구역 불법주차 불법적재 신고한지가 언제인데 아직 처리중...\\r\\n적재물도...  도시국 도시행정과  \n",
       "2  본인은 대구시 북구 태전동 81-1, 74, 75번지 토지 소유자 입니다.\\r\\n현...    도시국 건설과  \n",
       "3  북구청장\\r\\n\\r\\n감사실은 뭐 하는 곳 입니까? 묻습니다. 불법에 대한 최고의 ...        감사실  \n",
       "4  대구시장 북구청장\\r\\n\\r\\n감사실은 뭐 하는 부서 입니까? 감사실 폐쇄하셔요?\\...        감사실  "
      ]
     },
     "execution_count": 14,
     "metadata": {},
     "output_type": "execute_result"
    }
   ],
   "source": [
    "complain_list[0].head()"
   ]
  },
  {
   "cell_type": "code",
   "execution_count": 16,
   "id": "ae32421a-b629-4237-b328-5ebfa5297db4",
   "metadata": {},
   "outputs": [],
   "source": [
    "# 제목 + 내용 합치기\n",
    "for i, v in enumerate(name_list):\n",
    "    complain_list[i]['content'] = complain_list[i]['title'] + ' ' + complain_list[i]['content']\n",
    "    complain_list[i] = complain_list[i].drop(['title'], axis=1)"
   ]
  },
  {
   "cell_type": "code",
   "execution_count": 17,
   "id": "8ab35190-dd6a-4c37-9f01-805d5c8efcd3",
   "metadata": {},
   "outputs": [
    {
     "data": {
      "text/html": [
       "<div>\n",
       "<style scoped>\n",
       "    .dataframe tbody tr th:only-of-type {\n",
       "        vertical-align: middle;\n",
       "    }\n",
       "\n",
       "    .dataframe tbody tr th {\n",
       "        vertical-align: top;\n",
       "    }\n",
       "\n",
       "    .dataframe thead th {\n",
       "        text-align: right;\n",
       "    }\n",
       "</style>\n",
       "<table border=\"1\" class=\"dataframe\">\n",
       "  <thead>\n",
       "    <tr style=\"text-align: right;\">\n",
       "      <th></th>\n",
       "      <th>content</th>\n",
       "      <th>dept</th>\n",
       "    </tr>\n",
       "  </thead>\n",
       "  <tbody>\n",
       "    <tr>\n",
       "      <th>0</th>\n",
       "      <td>매천동 청구장미아파트,삼우그린 입구 불합리 위치 : 매천동 청구장미아파트,삼우그린아...</td>\n",
       "      <td>도시국 건설과</td>\n",
       "    </tr>\n",
       "    <tr>\n",
       "      <th>1</th>\n",
       "      <td>처리중..언제까지 어린이보호구역 불법주차 불법적재 신고한지가 언제인데 아직 처리중....</td>\n",
       "      <td>도시국 도시행정과</td>\n",
       "    </tr>\n",
       "    <tr>\n",
       "      <th>2</th>\n",
       "      <td>도로개설 본인은 대구시 북구 태전동 81-1, 74, 75번지 토지 소유자 입니다....</td>\n",
       "      <td>도시국 건설과</td>\n",
       "    </tr>\n",
       "    <tr>\n",
       "      <th>3</th>\n",
       "      <td>북구청장감사실은 뭐 하는 곳 입니까? 묻습니다. 불법에 대한 최고의 북구 전문가 북...</td>\n",
       "      <td>감사실</td>\n",
       "    </tr>\n",
       "    <tr>\n",
       "      <th>4</th>\n",
       "      <td>대구시장 북구청장 감사실은 뭐 하는 부서 입니까? 감사실 폐쇄하셔요? 미관지구 대구...</td>\n",
       "      <td>감사실</td>\n",
       "    </tr>\n",
       "  </tbody>\n",
       "</table>\n",
       "</div>"
      ],
      "text/plain": [
       "                                             content       dept\n",
       "0  매천동 청구장미아파트,삼우그린 입구 불합리 위치 : 매천동 청구장미아파트,삼우그린아...    도시국 건설과\n",
       "1  처리중..언제까지 어린이보호구역 불법주차 불법적재 신고한지가 언제인데 아직 처리중....  도시국 도시행정과\n",
       "2  도로개설 본인은 대구시 북구 태전동 81-1, 74, 75번지 토지 소유자 입니다....    도시국 건설과\n",
       "3  북구청장감사실은 뭐 하는 곳 입니까? 묻습니다. 불법에 대한 최고의 북구 전문가 북...        감사실\n",
       "4  대구시장 북구청장 감사실은 뭐 하는 부서 입니까? 감사실 폐쇄하셔요? 미관지구 대구...        감사실"
      ]
     },
     "execution_count": 17,
     "metadata": {},
     "output_type": "execute_result"
    }
   ],
   "source": [
    "complain_list[0].head()"
   ]
  },
  {
   "attachments": {
    "11fcef8f-c661-4587-b254-bc227212d0ca.png": {
     "image/png": "[encoded data removed]"
    }
   },
   "cell_type": "markdown",
   "id": "4ad975b9-593a-4eb4-9bdf-0a8bc9a3a35b",
   "metadata": {
    "tags": []
   },
   "source": [
    "# 2. 읍/면/동/리 -> 동사무소 통합\n",
    "- 시/군/구 -> 읍/면/동/리\n",
    "![image.png](attachment:11fcef8f-c661-4587-b254-bc227212d0ca.png)"
   ]
  },
  {
   "cell_type": "code",
   "execution_count": null,
   "id": "0295c1b0-f5aa-4f8e-b079-4480223b5e92",
   "metadata": {
    "scrolled": true,
    "tags": []
   },
   "outputs": [
    {
     "name": "stdout",
     "output_type": "stream",
     "text": [
      "BukGu\n",
      "300       복현2동\n",
      "602       침산1동\n",
      "713       태전2동\n",
      "1851      침산2동\n",
      "1933       국우동\n",
      "         ...  \n",
      "9067    노원1.2동\n",
      "9071     무태조야동\n",
      "9114       구암동\n",
      "9182       칠성동\n",
      "9192       구암동\n",
      "Name: dept, Length: 98, dtype: object\n",
      "DalseongGun\n",
      "14      화원읍\n",
      "17      옥포읍\n",
      "19      논공읍\n",
      "38      화원읍\n",
      "51      구지면\n",
      "       ... \n",
      "2636    유가면\n",
      "2638    옥포읍\n",
      "2646    유가면\n",
      "2658    논공읍\n",
      "2713    유가면\n",
      "Name: dept, Length: 163, dtype: object\n",
      "DalsuGu\n",
      "28       본리동\n",
      "113     월성1동\n",
      "115     월성1동\n",
      "137      본리동\n",
      "185     송현2동\n",
      "        ... \n",
      "5802     도원동\n",
      "5827    송현2동\n",
      "5834    월성1동\n",
      "5841     신당동\n",
      "5845    월성1동\n",
      "Name: dept, Length: 192, dtype: object\n",
      "DongGu\n",
      "281      도평동\n",
      "285      혁신동\n",
      "449      혁신동\n",
      "526      동촌동\n",
      "637      동촌동\n",
      "        ... \n",
      "4437    신천3동\n",
      "4512     방촌동\n",
      "4549    안심2동\n",
      "4725    신천3동\n",
      "4727     지저동\n",
      "Name: dept, Length: 80, dtype: object\n",
      "JungGu\n",
      "30      대봉2동\n",
      "34      남산4동\n",
      "95      남산4동\n",
      "168      대신동\n",
      "180      삼덕동\n",
      "780     대봉2동\n",
      "834     성내1동\n",
      "856     남산4동\n",
      "970     성내3동\n",
      "1013    성내3동\n",
      "1093    성내2동\n",
      "1196     동인동\n",
      "1201    성내2동\n",
      "1240    성내2동\n",
      "1311    성내2동\n",
      "1541     삼덕동\n",
      "2247    성내1동\n",
      "2277     대신동\n",
      "2281    대봉2동\n",
      "2418    남산4동\n",
      "2430    성내1동\n",
      "2436    성내2동\n",
      "2538    대봉1동\n",
      "2754    성내2동\n",
      "2779    남산4동\n",
      "2823    성내1동\n",
      "2833    남산1동\n",
      "2906    남산2동\n",
      "2921    대봉2동\n",
      "3021    성내3동\n",
      "Name: dept, dtype: object\n",
      "NamGu\n",
      "381       이천동\n",
      "658      대명3동\n",
      "724       이천동\n",
      "779      봉덕3동\n",
      "801       이천동\n",
      "832       이천동\n",
      "1080     대명1동\n",
      "1203     대명4동\n",
      "1224     대명5동\n",
      "1251     대명1동\n",
      "1264     봉덕3동\n",
      "1311     대명6동\n",
      "1436     대명3동\n",
      "1470     봉덕2동\n",
      "1522     봉덕3동\n",
      "1523     봉덕3동\n",
      "1529     대명1동\n",
      "1567     대명2동\n",
      "1589     대명3동\n",
      "1629     대명4동\n",
      "1749    대명11동\n",
      "1754    대명11동\n",
      "1760     봉덕3동\n",
      "1822    대명11동\n",
      "1897     봉덕2동\n",
      "1898     봉덕2동\n",
      "1914     봉덕3동\n",
      "1920     봉덕2동\n",
      "2061     대명2동\n",
      "2082     대명9동\n",
      "2155     대명9동\n",
      "2178     대명6동\n",
      "2180     대명1동\n",
      "2218     대명9동\n",
      "2246      이천동\n",
      "2260     대명6동\n",
      "2272     대명9동\n",
      "2293     대명6동\n",
      "2321     대명6동\n",
      "2340     봉덕1동\n",
      "2343     봉덕3동\n",
      "2346     대명1동\n",
      "2372     대명4동\n",
      "2379     봉덕1동\n",
      "2384     봉덕2동\n",
      "2400     대명1동\n",
      "2489     대명4동\n",
      "2514     봉덕2동\n",
      "2559     대명9동\n",
      "2581    대명10동\n",
      "2609     대명9동\n",
      "2708     대명3동\n",
      "Name: dept, dtype: object\n",
      "SeoGu\n",
      "0       내당2.3동\n",
      "2       내당2.3동\n",
      "16        상중이동\n",
      "66      내당2.3동\n",
      "83        상중이동\n",
      "         ...  \n",
      "2612    내당2.3동\n",
      "2617      비산4동\n",
      "2655      평리6동\n",
      "2656      평리1동\n",
      "2658      평리1동\n",
      "Name: dept, Length: 103, dtype: object\n",
      "Suseonggu\n",
      "14       고산3동\n",
      "74         파동\n",
      "82       황금1동\n",
      "104       두산동\n",
      "109      범어1동\n",
      "        ...  \n",
      "5976     만촌2동\n",
      "6162    수성1가동\n",
      "6968     고산2동\n",
      "6979     황금2동\n",
      "7490     만촌2동\n",
      "Name: dept, Length: 125, dtype: object\n"
     ]
    }
   ],
   "source": [
    "for i, v in enumerate(name_list):\n",
    "    print(v)\n",
    "    print(complain_list[i]['dept'].loc[complain_list[i]['dept'].str.endswith(('읍', '면', '동', '리', '가'))])"
   ]
  },
  {
   "cell_type": "code",
   "execution_count": null,
   "id": "5f100e82-7de4-4f23-83ce-8b8cb5e624d5",
   "metadata": {},
   "outputs": [
    {
     "name": "stdout",
     "output_type": "stream",
     "text": [
      "BukGu\n",
      "Series([], Name: dept, dtype: object)\n",
      "DalseongGun\n",
      "Series([], Name: dept, dtype: object)\n",
      "DalsuGu\n",
      "Series([], Name: dept, dtype: object)\n",
      "DongGu\n",
      "Series([], Name: dept, dtype: object)\n",
      "JungGu\n",
      "Series([], Name: dept, dtype: object)\n",
      "NamGu\n",
      "Series([], Name: dept, dtype: object)\n",
      "SeoGu\n",
      "Series([], Name: dept, dtype: object)\n",
      "Suseonggu\n",
      "Series([], Name: dept, dtype: object)\n"
     ]
    }
   ],
   "source": [
    "# 리, 가 로 끝나는 부서명은 없다\n",
    "for i, v in enumerate(name_list):\n",
    "    print(v)\n",
    "    print(complain_list[i]['dept'].loc[complain_list[i]['dept'].str.endswith(('리', '가'))])"
   ]
  },
  {
   "cell_type": "code",
   "execution_count": 31,
   "id": "c5eba354-6882-4a63-b315-5277d358f0b2",
   "metadata": {},
   "outputs": [],
   "source": [
    "for i, v in enumerate(name_list):\n",
    "    complain_list[i].loc[complain_list[i]['dept'].str.endswith(('읍', '면', '동')), 'dept'] = '읍/면/동사무소'"
   ]
  },
  {
   "cell_type": "code",
   "execution_count": 32,
   "id": "2387a476-9d64-406b-8c38-56651f6a848e",
   "metadata": {},
   "outputs": [
    {
     "name": "stdout",
     "output_type": "stream",
     "text": [
      "BukGu\n",
      "Series([], Name: dept, dtype: object)\n",
      "DalseongGun\n",
      "Series([], Name: dept, dtype: object)\n",
      "DalsuGu\n",
      "Series([], Name: dept, dtype: object)\n",
      "DongGu\n",
      "Series([], Name: dept, dtype: object)\n",
      "JungGu\n",
      "Series([], Name: dept, dtype: object)\n",
      "NamGu\n",
      "Series([], Name: dept, dtype: object)\n",
      "SeoGu\n",
      "Series([], Name: dept, dtype: object)\n",
      "Suseonggu\n",
      "Series([], Name: dept, dtype: object)\n"
     ]
    }
   ],
   "source": [
    "for i, v in enumerate(name_list):\n",
    "    print(v)\n",
    "    print(complain_list[i]['dept'].loc[complain_list[i]['dept'].str.endswith(('읍', '면', '동', '리', '가'))])"
   ]
  },
  {
   "cell_type": "markdown",
   "id": "d04efb14-0f27-41d1-aff4-a9086b9a50f5",
   "metadata": {},
   "source": [
    "# 3. 이상치 제거"
   ]
  },
  {
   "cell_type": "markdown",
   "id": "74f93a19-a456-4f2d-8b14-a0e894aef4ed",
   "metadata": {},
   "source": [
    "## 1) 부서가 '-' 인 것 제외"
   ]
  },
  {
   "cell_type": "code",
   "execution_count": 18,
   "id": "9170a737-6c72-4009-a641-770d0da3c46b",
   "metadata": {},
   "outputs": [
    {
     "data": {
      "text/html": [
       "<div>\n",
       "<style scoped>\n",
       "    .dataframe tbody tr th:only-of-type {\n",
       "        vertical-align: middle;\n",
       "    }\n",
       "\n",
       "    .dataframe tbody tr th {\n",
       "        vertical-align: top;\n",
       "    }\n",
       "\n",
       "    .dataframe thead th {\n",
       "        text-align: right;\n",
       "    }\n",
       "</style>\n",
       "<table border=\"1\" class=\"dataframe\">\n",
       "  <thead>\n",
       "    <tr style=\"text-align: right;\">\n",
       "      <th></th>\n",
       "      <th>content</th>\n",
       "      <th>dept</th>\n",
       "    </tr>\n",
       "  </thead>\n",
       "  <tbody>\n",
       "    <tr>\n",
       "      <th>7555</th>\n",
       "      <td>음식물쓰레기 수거를 안해가요~!! 제가 몇일을 기다리다 못해 이렇게 글을 올립니다....</td>\n",
       "      <td>-</td>\n",
       "    </tr>\n",
       "  </tbody>\n",
       "</table>\n",
       "</div>"
      ],
      "text/plain": [
       "                                                content dept\n",
       "7555  음식물쓰레기 수거를 안해가요~!! 제가 몇일을 기다리다 못해 이렇게 글을 올립니다....    -"
      ]
     },
     "execution_count": 18,
     "metadata": {},
     "output_type": "execute_result"
    }
   ],
   "source": [
    "complain_list[0].loc[complain_list[0]['dept'] == '-']"
   ]
  },
  {
   "cell_type": "code",
   "execution_count": 20,
   "id": "24f20b6a-2ce5-4ae4-ae17-7e64d72a2361",
   "metadata": {},
   "outputs": [],
   "source": [
    "for i, v in enumerate(name_list):\n",
    "    complain_list[i] = complain_list[i].loc[~(complain_list[i]['dept'] == '-')]"
   ]
  },
  {
   "cell_type": "code",
   "execution_count": 21,
   "id": "566eee8c-e41d-48b0-9d80-0e777d0d7349",
   "metadata": {},
   "outputs": [
    {
     "data": {
      "text/html": [
       "<div>\n",
       "<style scoped>\n",
       "    .dataframe tbody tr th:only-of-type {\n",
       "        vertical-align: middle;\n",
       "    }\n",
       "\n",
       "    .dataframe tbody tr th {\n",
       "        vertical-align: top;\n",
       "    }\n",
       "\n",
       "    .dataframe thead th {\n",
       "        text-align: right;\n",
       "    }\n",
       "</style>\n",
       "<table border=\"1\" class=\"dataframe\">\n",
       "  <thead>\n",
       "    <tr style=\"text-align: right;\">\n",
       "      <th></th>\n",
       "      <th>content</th>\n",
       "      <th>dept</th>\n",
       "    </tr>\n",
       "  </thead>\n",
       "  <tbody>\n",
       "  </tbody>\n",
       "</table>\n",
       "</div>"
      ],
      "text/plain": [
       "Empty DataFrame\n",
       "Columns: [content, dept]\n",
       "Index: []"
      ]
     },
     "execution_count": 21,
     "metadata": {},
     "output_type": "execute_result"
    }
   ],
   "source": [
    "complain_list[0].loc[complain_list[0]['dept'] == '-']"
   ]
  },
  {
   "cell_type": "markdown",
   "id": "47e79024-d394-4b2a-a8d6-e4f921a55207",
   "metadata": {},
   "source": [
    "## 2) 테스트 게시물 제외"
   ]
  },
  {
   "cell_type": "code",
   "execution_count": 30,
   "id": "384d0b53-c2f9-47bc-9de6-e7cb00d5c154",
   "metadata": {},
   "outputs": [
    {
     "data": {
      "text/html": [
       "<div>\n",
       "<style scoped>\n",
       "    .dataframe tbody tr th:only-of-type {\n",
       "        vertical-align: middle;\n",
       "    }\n",
       "\n",
       "    .dataframe tbody tr th {\n",
       "        vertical-align: top;\n",
       "    }\n",
       "\n",
       "    .dataframe thead th {\n",
       "        text-align: right;\n",
       "    }\n",
       "</style>\n",
       "<table border=\"1\" class=\"dataframe\">\n",
       "  <thead>\n",
       "    <tr style=\"text-align: right;\">\n",
       "      <th></th>\n",
       "      <th>content</th>\n",
       "      <th>dept</th>\n",
       "    </tr>\n",
       "  </thead>\n",
       "  <tbody>\n",
       "    <tr>\n",
       "      <th>3076</th>\n",
       "      <td>야간 조명(불빛)에 따른 민원 접수 합니다. 북구청 관내 위치한 복현 서한2차 11...</td>\n",
       "      <td>도시국 건축주택과</td>\n",
       "    </tr>\n",
       "    <tr>\n",
       "      <th>8103</th>\n",
       "      <td>관리자 테스트중 테스트중입니다</td>\n",
       "      <td>총무국 민원봉사과</td>\n",
       "    </tr>\n",
       "    <tr>\n",
       "      <th>8540</th>\n",
       "      <td>테스트 테스트</td>\n",
       "      <td>총무국 총무과</td>\n",
       "    </tr>\n",
       "    <tr>\n",
       "      <th>8782</th>\n",
       "      <td>밤 12시 넘어 청소차량 운행하는 이유가 뭡니까? 제발!!!! 밤 12시 넘어서 청...</td>\n",
       "      <td>주민생활지원국 환경관리과</td>\n",
       "    </tr>\n",
       "    <tr>\n",
       "      <th>9233</th>\n",
       "      <td>테스트 테스트</td>\n",
       "      <td>총무국 총무과</td>\n",
       "    </tr>\n",
       "    <tr>\n",
       "      <th>9234</th>\n",
       "      <td>[테스트]기관홈페이지신청민원_국민제안발굴_(대구광역시 북구) 테스트</td>\n",
       "      <td>총무국 총무과</td>\n",
       "    </tr>\n",
       "    <tr>\n",
       "      <th>9235</th>\n",
       "      <td>[테스트]기관홈페이지신청민원_민원처리_(대구광역시 북구) 테스트</td>\n",
       "      <td>총무국 총무과</td>\n",
       "    </tr>\n",
       "  </tbody>\n",
       "</table>\n",
       "</div>"
      ],
      "text/plain": [
       "                                                content           dept\n",
       "3076  야간 조명(불빛)에 따른 민원 접수 합니다. 북구청 관내 위치한 복현 서한2차 11...      도시국 건축주택과\n",
       "8103                                   관리자 테스트중 테스트중입니다      총무국 민원봉사과\n",
       "8540                                            테스트 테스트        총무국 총무과\n",
       "8782  밤 12시 넘어 청소차량 운행하는 이유가 뭡니까? 제발!!!! 밤 12시 넘어서 청...  주민생활지원국 환경관리과\n",
       "9233                                            테스트 테스트        총무국 총무과\n",
       "9234              [테스트]기관홈페이지신청민원_국민제안발굴_(대구광역시 북구) 테스트        총무국 총무과\n",
       "9235                [테스트]기관홈페이지신청민원_민원처리_(대구광역시 북구) 테스트        총무국 총무과"
      ]
     },
     "execution_count": 30,
     "metadata": {},
     "output_type": "execute_result"
    }
   ],
   "source": [
    "# 테스트인 게시물, 실제 민원 내용이 섞여있음. 하나씩 직접 제거\n",
    "complain_list[0].loc[complain_list[0]['content'].str.contains('테스트', na=False)]"
   ]
  },
  {
   "cell_type": "code",
   "execution_count": null,
   "id": "96bc512f-477e-4781-ae2c-4cdf0067ccec",
   "metadata": {},
   "outputs": [],
   "source": [
    "# # 테스트 게시물 제외\n",
    "# for i, v in enumerate(name_list):\n",
    "#     complain_list[i] = complain_list[i].loc[~complain_list[i]['content'].str.contains('테스트', na=False)]"
   ]
  },
  {
   "cell_type": "code",
   "execution_count": 36,
   "id": "3bc49bef-390b-43f0-95cc-ad71a7219c2c",
   "metadata": {},
   "outputs": [],
   "source": [
    "test_list = []"
   ]
  },
  {
   "cell_type": "code",
   "execution_count": 38,
   "id": "a51df17a-4392-4154-972c-fceea90b2ae9",
   "metadata": {},
   "outputs": [],
   "source": [
    "for i, v in enumerate(name_list):\n",
    "    test_list.append(complain_list[i].loc[complain_list[i]['content'].str.contains('테스트', na=False)])"
   ]
  },
  {
   "cell_type": "code",
   "execution_count": 41,
   "id": "98c13c08-996e-4dae-a745-337f6474497f",
   "metadata": {},
   "outputs": [
    {
     "name": "stdout",
     "output_type": "stream",
     "text": [
      "                                                content           dept\n",
      "3076  야간 조명(불빛)에 따른 민원 접수 합니다. 북구청 관내 위치한 복현 서한2차 11...      도시국 건축주택과\n",
      "8103                                   관리자 테스트중 테스트중입니다      총무국 민원봉사과\n",
      "8540                                            테스트 테스트        총무국 총무과\n",
      "8782  밤 12시 넘어 청소차량 운행하는 이유가 뭡니까? 제발!!!! 밤 12시 넘어서 청...  주민생활지원국 환경관리과\n",
      "9233                                            테스트 테스트        총무국 총무과\n",
      "9234              [테스트]기관홈페이지신청민원_국민제안발굴_(대구광역시 북구) 테스트        총무국 총무과\n",
      "9235                [테스트]기관홈페이지신청민원_민원처리_(대구광역시 북구) 테스트        총무국 총무과\n"
     ]
    }
   ],
   "source": [
    "print(test_list[0])\n",
    "complain_list[0] = complain_list[0].drop([8103, 8540, 9233, 9234, 9235])"
   ]
  },
  {
   "cell_type": "code",
   "execution_count": 42,
   "id": "ad1303b5-d132-45ab-b363-2b873bd92c5c",
   "metadata": {},
   "outputs": [
    {
     "data": {
      "text/html": [
       "<div>\n",
       "<style scoped>\n",
       "    .dataframe tbody tr th:only-of-type {\n",
       "        vertical-align: middle;\n",
       "    }\n",
       "\n",
       "    .dataframe tbody tr th {\n",
       "        vertical-align: top;\n",
       "    }\n",
       "\n",
       "    .dataframe thead th {\n",
       "        text-align: right;\n",
       "    }\n",
       "</style>\n",
       "<table border=\"1\" class=\"dataframe\">\n",
       "  <thead>\n",
       "    <tr style=\"text-align: right;\">\n",
       "      <th></th>\n",
       "      <th>content</th>\n",
       "      <th>dept</th>\n",
       "    </tr>\n",
       "  </thead>\n",
       "  <tbody>\n",
       "    <tr>\n",
       "      <th>3076</th>\n",
       "      <td>야간 조명(불빛)에 따른 민원 접수 합니다. 북구청 관내 위치한 복현 서한2차 11...</td>\n",
       "      <td>도시국 건축주택과</td>\n",
       "    </tr>\n",
       "    <tr>\n",
       "      <th>8782</th>\n",
       "      <td>밤 12시 넘어 청소차량 운행하는 이유가 뭡니까? 제발!!!! 밤 12시 넘어서 청...</td>\n",
       "      <td>주민생활지원국 환경관리과</td>\n",
       "    </tr>\n",
       "  </tbody>\n",
       "</table>\n",
       "</div>"
      ],
      "text/plain": [
       "                                                content           dept\n",
       "3076  야간 조명(불빛)에 따른 민원 접수 합니다. 북구청 관내 위치한 복현 서한2차 11...      도시국 건축주택과\n",
       "8782  밤 12시 넘어 청소차량 운행하는 이유가 뭡니까? 제발!!!! 밤 12시 넘어서 청...  주민생활지원국 환경관리과"
      ]
     },
     "execution_count": 42,
     "metadata": {},
     "output_type": "execute_result"
    }
   ],
   "source": [
    "complain_list[0].loc[complain_list[0]['content'].str.contains('테스트', na=False)]"
   ]
  },
  {
   "cell_type": "code",
   "execution_count": 43,
   "id": "42aab078-2ad3-47ce-addd-5d82ddf01441",
   "metadata": {},
   "outputs": [
    {
     "name": "stdout",
     "output_type": "stream",
     "text": [
      "                                                content       dept\n",
      "1389  김부성 지난달 공단직원 채용 공고를 보고 실버직에 지원하기 위해 60대 이상의 연령...      기획예산실\n",
      "1459  국가산단 반도2차 콘크리트 품질관리 위반, 공사중지명령부탁드립니다. 수고많으십니다....  건설도시국 건축과\n",
      "2728  옥포미진이지비아 106동 방음벽 설치관련 件 안녕하십니까 저는 3월에 미진이지비아 ...  건설도시국 건축과\n"
     ]
    }
   ],
   "source": [
    "print(test_list[1])"
   ]
  },
  {
   "cell_type": "code",
   "execution_count": 44,
   "id": "2e983abd-284d-4f82-92d9-0d76863e1d71",
   "metadata": {},
   "outputs": [
    {
     "name": "stdout",
     "output_type": "stream",
     "text": [
      "                                                content           dept\n",
      "1980  달구벌대로 1545 골든뷰메디타워 9층 용도변경 반대합니다 안녕하세요\\r\\n\\r\\n...      도시창조국 건축과\n",
      "3648  올림픽 기념관에서 하는 체력증진 교실 수업이 계속 진행할수 있도록 도와주세요!! 안...  복지문화국 문화체육관광과\n",
      "4887  웃는 얼굴 행복한 달서..참 웃기네요 6월23일 11시경 견인관리사업소에 견인을 당...    경제환경국 주차관리과\n",
      "5187  감삼동 월드마크웨스트엔드 준공 문제점 감삼동 대우월드마크웨스트엔드 입주자입니다.지금...      도시창조국 건축과\n"
     ]
    }
   ],
   "source": [
    "print(test_list[2])"
   ]
  },
  {
   "cell_type": "code",
   "execution_count": 45,
   "id": "289b1713-68ab-4f67-8dc6-791656115a3b",
   "metadata": {},
   "outputs": [
    {
     "name": "stdout",
     "output_type": "stream",
     "text": [
      "                                                content           dept\n",
      "1923  대구혁신도시 서한이다음 1차아파트 사전점검 하고 왔습니다. 대구혁신도시 서한이다음 ...    도시안전국 건축주택과\n",
      "4113  책임감없고 불친절고 개념없는 교통과 공무원 고발합니다 ※문제 시발점:\\r\\n오늘4/...      도시건설국 교통과\n",
      "4650  사람 테스트 합니까? 지금 장난하시는거는 아니시죠??\\r\\n서버나 홈페이지상에 문제...  주민생활지원국 환경청소과\n"
     ]
    }
   ],
   "source": [
    "print(test_list[3])"
   ]
  },
  {
   "cell_type": "code",
   "execution_count": 46,
   "id": "2c47b41d-11cc-4d22-8b1f-43ade91f68eb",
   "metadata": {},
   "outputs": [
    {
     "name": "stdout",
     "output_type": "stream",
     "text": [
      "                                               content         dept\n",
      "888  김광석 다시부르기 콘테스트 신청 사이트 접속 불가문제 김광석 다시부르기 콘테스트 안...  도시재생국 문화개발과\n"
     ]
    }
   ],
   "source": [
    "print(test_list[4])"
   ]
  },
  {
   "cell_type": "code",
   "execution_count": 48,
   "id": "ffc048fb-4e63-4acc-83c8-d21178774e86",
   "metadata": {},
   "outputs": [
    {
     "name": "stdout",
     "output_type": "stream",
     "text": [
      "                                                content         dept\n",
      "724   2000배 행복마을 축제 2000배 행복마을축제가 12월 2일 진행되었습니다. 축제...     읍/면/동사무소\n",
      "1365  대명동 1723-7번지, 향후 닥트 환풍기 문제 민원으로 찾아오지 마십시오. 안녕하...    주민행복국 위생과\n",
      "1506  기초수급자 방문조사에 관한 문의 및 요청 먼저 수고많으십니다.\\n기초수급자 방문조사...  주민행복국 생활보장과\n",
      "2009  아스팔트 방사능 가든호텔주변 아스팔트 공사하는데 방사능검출 되는건아니겠죠~?\\n작업...    도시창조국 건설과\n",
      "2217                                   테스트 입니다1 테스.....        기획조정실\n"
     ]
    }
   ],
   "source": [
    "print(test_list[5])\n",
    "complain_list[5] = complain_list[0].drop([2217])"
   ]
  },
  {
   "cell_type": "code",
   "execution_count": 50,
   "id": "5d0f5e05-dcc4-4422-bdd5-320c4c25fe5d",
   "metadata": {},
   "outputs": [
    {
     "name": "stdout",
     "output_type": "stream",
     "text": [
      "                                                content         dept\n",
      "671   상리공원 토요일 오전 행사 금지해주세요. 안녕하세요.\\n상리공원 근처 용산파크타운에...  도시안전국 도시공원과\n",
      "1087                                            테스트 테스트  자치행정국 종합민원과\n",
      "2222      [테스트]기관홈페이지신청민원-국민제안발굴(대구 서구) 테스트입니다-(국민제안발굴)  행정관리국 봉사행정과\n"
     ]
    }
   ],
   "source": [
    "print(test_list[6])\n",
    "complain_list[6] = complain_list[6].drop([1087, 2222])"
   ]
  },
  {
   "cell_type": "code",
   "execution_count": 51,
   "id": "45279de2-8b7b-4558-b139-8d8bc40f71dd",
   "metadata": {},
   "outputs": [
    {
     "name": "stdout",
     "output_type": "stream",
     "text": [
      "                                                content         dept\n",
      "33    수성 뷰웰 리버파크 소방(제연설비) 문제 안녕하세요 저는 수성 뷰웰 리버파크 예비 ...      도시국 건축과\n",
      "44    수성뷰웰리버파크 준공승인 반대(제연설비 소방법 위반, 계단 난간 미고정 등) 안녕하...      도시국 건축과\n",
      "485   고산평생학습센터 댄스동아리(야간)연계 아닌 정식 댄스스포츠 야간/중급반 개설 요청 ...  문화교육국 교육지원과\n",
      "486   파동KCC 주민의 안전을 책임져주세요 파동드림힐즈는 산을 깍아서 지어진 집입니다\\n...      도시국 건축과\n",
      "2665  75633 민원번호 75633번 소음공해에 대한 민원이 해결이 되지 않아 글 올립니...    복지국 경제환경과\n",
      "3241  만촌초등학교 옆 편 내리막 굉장히 미끄럽습니다 만촌동에 거주중인 주민입니다.\\n\\n...      도시국 교통과\n",
      "4166  수성구보건소(산전검사관련) 둘째출산을 계획하고 자가테스트후 보건소에서 산전검사를 받...    보건소 보건행정과\n",
      "5477  소방검검에 대한 추가 질문입니다 저는 유성푸르나임르노블 701호 입주예정자입니다\\n...      도시국 건축과\n",
      "5484  소방안전이 우려되어 구청장님,소방서장님,mbc,건설회사관계자님들,예비입주자들이 합동...      도시국 건축과\n",
      "6149  환경미화원 심사기준! 몇주전 수성구 환경미화원 시험이 있었다고 들었습니다.\\n1차 ...    복지국 자원순환과\n",
      "6168  재가바랍니다 존경하는 구청장님\\n이번에 이루어진 환경미화원 모집에 응시란 지원생의 ...    복지국 자원순환과\n"
     ]
    }
   ],
   "source": [
    "print(test_list[7])"
   ]
  },
  {
   "cell_type": "markdown",
   "id": "0c291327-7aba-4845-b8f7-64b35f3191e6",
   "metadata": {},
   "source": [
    "# 4. 중복 내용 제거\n",
    "- 한 사람이 여러 개의 똑같은 게시물을 작성하는 경우 drop"
   ]
  },
  {
   "cell_type": "code",
   "execution_count": 52,
   "id": "ea03f668-be89-424a-b2a3-d91ab726f50d",
   "metadata": {},
   "outputs": [
    {
     "data": {
      "text/html": [
       "<div>\n",
       "<style scoped>\n",
       "    .dataframe tbody tr th:only-of-type {\n",
       "        vertical-align: middle;\n",
       "    }\n",
       "\n",
       "    .dataframe tbody tr th {\n",
       "        vertical-align: top;\n",
       "    }\n",
       "\n",
       "    .dataframe thead th {\n",
       "        text-align: right;\n",
       "    }\n",
       "</style>\n",
       "<table border=\"1\" class=\"dataframe\">\n",
       "  <thead>\n",
       "    <tr style=\"text-align: right;\">\n",
       "      <th></th>\n",
       "      <th>content</th>\n",
       "      <th>dept</th>\n",
       "    </tr>\n",
       "  </thead>\n",
       "  <tbody>\n",
       "    <tr>\n",
       "      <th>25</th>\n",
       "      <td>북구청장감사실은 뭐 하는 곳 입니까? 묻습니다. 불법에 대한 최고의 북구 전문가 북...</td>\n",
       "      <td>감사실</td>\n",
       "    </tr>\n",
       "    <tr>\n",
       "      <th>26</th>\n",
       "      <td>대구시장 북구청장 감사실은 뭐 하는 부서 입니까? 감사실 폐쇄하셔요? 미관지구 대구...</td>\n",
       "      <td>감사실</td>\n",
       "    </tr>\n",
       "    <tr>\n",
       "      <th>27</th>\n",
       "      <td>북구청장 주거환경정비 해당주민 반대에 전화 문자 카톡 구민재산 생활 고통종식하라 본...</td>\n",
       "      <td>도시국 건축주택과</td>\n",
       "    </tr>\n",
       "    <tr>\n",
       "      <th>28</th>\n",
       "      <td>북구청장 115전 전보다 못한 행정 북구 전문가인가 상식있는 구민은 알고 한탄한다 ...</td>\n",
       "      <td>보건소 위생과</td>\n",
       "    </tr>\n",
       "    <tr>\n",
       "      <th>29</th>\n",
       "      <td>북구청장 재활용쓰레기 처리 못 하는게 경영의 최고 전문가 인가? 평가는 구민이 북구...</td>\n",
       "      <td>복지환경국 자원순환과</td>\n",
       "    </tr>\n",
       "    <tr>\n",
       "      <th>...</th>\n",
       "      <td>...</td>\n",
       "      <td>...</td>\n",
       "    </tr>\n",
       "    <tr>\n",
       "      <th>6352</th>\n",
       "      <td>안돼안돼 구청에서하신자전거무료수리센타대환영입니다 근데서구에서 유통단지을출퇴근합니다 ...</td>\n",
       "      <td>도시국 교통과</td>\n",
       "    </tr>\n",
       "    <tr>\n",
       "      <th>6415</th>\n",
       "      <td>버스 정류장 위치 변경 검토 요청의 건 구민의 복지를 위한 많은 노력에 감사를 드립...</td>\n",
       "      <td>도시국 교통과</td>\n",
       "    </tr>\n",
       "    <tr>\n",
       "      <th>6477</th>\n",
       "      <td>국내자매도시 운영계획을 보고 국내 자매도시 6곳 가운데 시 직영이나 위탁 받은 단체...</td>\n",
       "      <td>총무국 총무과</td>\n",
       "    </tr>\n",
       "    <tr>\n",
       "      <th>7489</th>\n",
       "      <td>상가에서 인도에 진열해놓은 물건좀 치워주세요! 저는 부영 7단지에 사는 주민입니다\\...</td>\n",
       "      <td>도시국 재난안전과</td>\n",
       "    </tr>\n",
       "    <tr>\n",
       "      <th>7492</th>\n",
       "      <td>서변초등학교입구 왕복2차선 도로인 스쿨죤 지역 불법주차 시정 평소 구청 교통행정에 ...</td>\n",
       "      <td>도시국 교통과</td>\n",
       "    </tr>\n",
       "  </tbody>\n",
       "</table>\n",
       "<p>1161 rows × 2 columns</p>\n",
       "</div>"
      ],
      "text/plain": [
       "                                                content         dept\n",
       "25    북구청장감사실은 뭐 하는 곳 입니까? 묻습니다. 불법에 대한 최고의 북구 전문가 북...          감사실\n",
       "26    대구시장 북구청장 감사실은 뭐 하는 부서 입니까? 감사실 폐쇄하셔요? 미관지구 대구...          감사실\n",
       "27    북구청장 주거환경정비 해당주민 반대에 전화 문자 카톡 구민재산 생활 고통종식하라 본...    도시국 건축주택과\n",
       "28    북구청장 115전 전보다 못한 행정 북구 전문가인가 상식있는 구민은 알고 한탄한다 ...      보건소 위생과\n",
       "29    북구청장 재활용쓰레기 처리 못 하는게 경영의 최고 전문가 인가? 평가는 구민이 북구...  복지환경국 자원순환과\n",
       "...                                                 ...          ...\n",
       "6352  안돼안돼 구청에서하신자전거무료수리센타대환영입니다 근데서구에서 유통단지을출퇴근합니다 ...      도시국 교통과\n",
       "6415  버스 정류장 위치 변경 검토 요청의 건 구민의 복지를 위한 많은 노력에 감사를 드립...      도시국 교통과\n",
       "6477  국내자매도시 운영계획을 보고 국내 자매도시 6곳 가운데 시 직영이나 위탁 받은 단체...      총무국 총무과\n",
       "7489  상가에서 인도에 진열해놓은 물건좀 치워주세요! 저는 부영 7단지에 사는 주민입니다\\...    도시국 재난안전과\n",
       "7492  서변초등학교입구 왕복2차선 도로인 스쿨죤 지역 불법주차 시정 평소 구청 교통행정에 ...      도시국 교통과\n",
       "\n",
       "[1161 rows x 2 columns]"
      ]
     },
     "execution_count": 52,
     "metadata": {},
     "output_type": "execute_result"
    }
   ],
   "source": [
    "complain_list[0].loc[complain_list[0].duplicated()]"
   ]
  },
  {
   "cell_type": "code",
   "execution_count": 53,
   "id": "eba78a3a-1b72-4675-b7cc-07397006bdad",
   "metadata": {},
   "outputs": [],
   "source": [
    "for i, v in enumerate(name_list):\n",
    "    complain_list[i] = complain_list[i].loc[~(complain_list[i].duplicated())]"
   ]
  },
  {
   "cell_type": "code",
   "execution_count": 54,
   "id": "3628e0c3-a66b-437f-80be-69a21d555b30",
   "metadata": {},
   "outputs": [
    {
     "data": {
      "text/html": [
       "<div>\n",
       "<style scoped>\n",
       "    .dataframe tbody tr th:only-of-type {\n",
       "        vertical-align: middle;\n",
       "    }\n",
       "\n",
       "    .dataframe tbody tr th {\n",
       "        vertical-align: top;\n",
       "    }\n",
       "\n",
       "    .dataframe thead th {\n",
       "        text-align: right;\n",
       "    }\n",
       "</style>\n",
       "<table border=\"1\" class=\"dataframe\">\n",
       "  <thead>\n",
       "    <tr style=\"text-align: right;\">\n",
       "      <th></th>\n",
       "      <th>content</th>\n",
       "      <th>dept</th>\n",
       "    </tr>\n",
       "  </thead>\n",
       "  <tbody>\n",
       "  </tbody>\n",
       "</table>\n",
       "</div>"
      ],
      "text/plain": [
       "Empty DataFrame\n",
       "Columns: [content, dept]\n",
       "Index: []"
      ]
     },
     "execution_count": 54,
     "metadata": {},
     "output_type": "execute_result"
    }
   ],
   "source": [
    "complain_list[0].loc[complain_list[0].duplicated()]"
   ]
  },
  {
   "cell_type": "markdown",
   "id": "af60a2b9-d606-475c-a31f-884ed84b01db",
   "metadata": {},
   "source": [
    "# 5. 불용어 제거"
   ]
  },
  {
   "cell_type": "markdown",
   "id": "af31745b-af4d-459e-8c85-2aa7fea1b32a",
   "metadata": {},
   "source": [
    "## 1) 첨부파일 ~ 문자열 제거"
   ]
  },
  {
   "cell_type": "code",
   "execution_count": 55,
   "id": "e8caaedb-b9b9-4470-9d00-19aff1bafbbd",
   "metadata": {},
   "outputs": [
    {
     "data": {
      "text/plain": [
       "'매천동 청구장미아파트,삼우그린 입구 불합리 위치 : 매천동 청구장미아파트,삼우그린아파트 들어가는 입구 (매천생활용품 바로 옆 진입로)\\r\\n내용: 사람들이 자주 이용하는 횡단보도가 있고 아파트로 들어가는 차량들이 많이 다님에도 불구하고 새벽에 매천생활용품점과 자동차수리점이 문을 닫는 시간이 되면 거리가 너무 어두컴컴해서 보행자를 칠 우려가 있음.(자동차 우측 사각지대 + 늦은밤 어두컴컴한 거리) 꼭! 매천생활용품점과 자동차수리점이 문을 닫는 시간 대 거리에 조명시설 확인 후 조치해야할 것입니다. 사진도 첨부합니다.\\r\\n\\r\\n※ 첨부파일 :\\r\\nIMG_2181.jpeg\\r\\nIMG_2182.jpeg'"
      ]
     },
     "execution_count": 55,
     "metadata": {},
     "output_type": "execute_result"
    }
   ],
   "source": [
    "complain_list[0].iloc[0]['content']"
   ]
  },
  {
   "cell_type": "code",
   "execution_count": 58,
   "id": "1f705f24-61ce-4db3-9f36-60aab0a276d3",
   "metadata": {},
   "outputs": [
    {
     "name": "stderr",
     "output_type": "stream",
     "text": [
      "C:\\Users\\User\\AppData\\Local\\Temp\\ipykernel_18360\\2464448555.py:3: SettingWithCopyWarning: \n",
      "A value is trying to be set on a copy of a slice from a DataFrame.\n",
      "Try using .loc[row_indexer,col_indexer] = value instead\n",
      "\n",
      "See the caveats in the documentation: https://pandas.pydata.org/pandas-docs/stable/user_guide/indexing.html#returning-a-view-versus-a-copy\n",
      "  complain_list[i]['content'] = complain_list[i]['content'].astype(str).apply(lambda x : x.split('첨부파일')[0])\n"
     ]
    }
   ],
   "source": [
    "# 첨부파일 ~ 문자열 삭제\n",
    "for i, v in enumerate(name_list):\n",
    "    complain_list[i]['content'] = complain_list[i]['content'].astype(str).apply(lambda x : x.split('첨부파일')[0])"
   ]
  },
  {
   "cell_type": "code",
   "execution_count": 59,
   "id": "203b65f4-0884-4ede-b941-c2095d1c9b03",
   "metadata": {},
   "outputs": [
    {
     "data": {
      "text/plain": [
       "'매천동 청구장미아파트,삼우그린 입구 불합리 위치 : 매천동 청구장미아파트,삼우그린아파트 들어가는 입구 (매천생활용품 바로 옆 진입로)\\r\\n내용: 사람들이 자주 이용하는 횡단보도가 있고 아파트로 들어가는 차량들이 많이 다님에도 불구하고 새벽에 매천생활용품점과 자동차수리점이 문을 닫는 시간이 되면 거리가 너무 어두컴컴해서 보행자를 칠 우려가 있음.(자동차 우측 사각지대 + 늦은밤 어두컴컴한 거리) 꼭! 매천생활용품점과 자동차수리점이 문을 닫는 시간 대 거리에 조명시설 확인 후 조치해야할 것입니다. 사진도 첨부합니다.\\r\\n\\r\\n※ '"
      ]
     },
     "execution_count": 59,
     "metadata": {},
     "output_type": "execute_result"
    }
   ],
   "source": [
    "complain_list[0].iloc[0]['content']"
   ]
  },
  {
   "cell_type": "markdown",
   "id": "e195850e-a0ac-4a4a-b626-d5fcf5cb3cd9",
   "metadata": {},
   "source": [
    "## 2) 정규표현식 사용, 불용어 제거"
   ]
  },
  {
   "cell_type": "code",
   "execution_count": 60,
   "id": "dc38e475-44a4-4a64-84ea-9b3aca7efa3b",
   "metadata": {},
   "outputs": [],
   "source": [
    "import re\n",
    "def get_only_hangul(line):\n",
    "\tparseText= ''.join(re.compile('[ |가-힣]*').findall(line))\n",
    "\treturn parseText"
   ]
  },
  {
   "cell_type": "code",
   "execution_count": 61,
   "id": "320c89ed-730f-4301-b2cf-09d43697684a",
   "metadata": {},
   "outputs": [
    {
     "data": {
      "text/plain": [
       "'매천동 청구장미아파트,삼우그린 입구 불합리 위치 : 매천동 청구장미아파트,삼우그린아파트 들어가는 입구 (매천생활용품 바로 옆 진입로)\\r\\n내용: 사람들이 자주 이용하는 횡단보도가 있고 아파트로 들어가는 차량들이 많이 다님에도 불구하고 새벽에 매천생활용품점과 자동차수리점이 문을 닫는 시간이 되면 거리가 너무 어두컴컴해서 보행자를 칠 우려가 있음.(자동차 우측 사각지대 + 늦은밤 어두컴컴한 거리) 꼭! 매천생활용품점과 자동차수리점이 문을 닫는 시간 대 거리에 조명시설 확인 후 조치해야할 것입니다. 사진도 첨부합니다.\\r\\n\\r\\n※ '"
      ]
     },
     "execution_count": 61,
     "metadata": {},
     "output_type": "execute_result"
    }
   ],
   "source": [
    "complain_list[0].iloc[0]['content']"
   ]
  },
  {
   "cell_type": "code",
   "execution_count": 62,
   "id": "9b357897-4c36-4c3c-bcc5-7f0768d59c6d",
   "metadata": {},
   "outputs": [
    {
     "name": "stderr",
     "output_type": "stream",
     "text": [
      "C:\\Users\\User\\AppData\\Local\\Temp\\ipykernel_18360\\1440008266.py:2: SettingWithCopyWarning: \n",
      "A value is trying to be set on a copy of a slice from a DataFrame.\n",
      "Try using .loc[row_indexer,col_indexer] = value instead\n",
      "\n",
      "See the caveats in the documentation: https://pandas.pydata.org/pandas-docs/stable/user_guide/indexing.html#returning-a-view-versus-a-copy\n",
      "  complain_list[i]['content'] = complain_list[i]['content'].apply(lambda x : get_only_hangul(x))\n"
     ]
    }
   ],
   "source": [
    "for i, v in enumerate(name_list):\n",
    "    complain_list[i]['content'] = complain_list[i]['content'].apply(lambda x : get_only_hangul(x))"
   ]
  },
  {
   "cell_type": "code",
   "execution_count": 63,
   "id": "792412f9-deff-4e95-84cc-4434826481ae",
   "metadata": {},
   "outputs": [
    {
     "data": {
      "text/plain": [
       "'매천동 청구장미아파트삼우그린 입구 불합리 위치  매천동 청구장미아파트삼우그린아파트 들어가는 입구 매천생활용품 바로 옆 진입로내용 사람들이 자주 이용하는 횡단보도가 있고 아파트로 들어가는 차량들이 많이 다님에도 불구하고 새벽에 매천생활용품점과 자동차수리점이 문을 닫는 시간이 되면 거리가 너무 어두컴컴해서 보행자를 칠 우려가 있음자동차 우측 사각지대  늦은밤 어두컴컴한 거리 꼭 매천생활용품점과 자동차수리점이 문을 닫는 시간 대 거리에 조명시설 확인 후 조치해야할 것입니다 사진도 첨부합니다 '"
      ]
     },
     "execution_count": 63,
     "metadata": {},
     "output_type": "execute_result"
    }
   ],
   "source": [
    "complain_list[0].iloc[0]['content']"
   ]
  },
  {
   "cell_type": "markdown",
   "id": "9b83552d",
   "metadata": {},
   "source": [
    "### 6. 각 클래스에서 그 수가 1%이하인 클래스 제거"
   ]
  },
  {
   "cell_type": "code",
   "execution_count": 34,
   "id": "cd73eb91",
   "metadata": {},
   "outputs": [],
   "source": [
    "load()"
   ]
  },
  {
   "cell_type": "code",
   "execution_count": 35,
   "id": "fda86707-9722-4369-be3a-a4a681491b18",
   "metadata": {},
   "outputs": [],
   "source": [
    "def drop_rare_class(data):\n",
    "    # 각 클래스의 개수 \n",
    "    class_counts = data['dept'].value_counts()\n",
    "    \n",
    "    # 전체 데이터 대비 각 클래스의 비율\n",
    "    class_ratios = class_counts / len(data)\n",
    "    \n",
    "    rare_classes = class_ratios[class_ratios <= 0.01].index.tolist()\n",
    "    return data.loc[~ data['dept'].isin(rare_classes)]"
   ]
  },
  {
   "cell_type": "code",
   "execution_count": 36,
   "id": "bad60147",
   "metadata": {},
   "outputs": [
    {
     "data": {
      "text/plain": [
       "[                                                content           dept\n",
       " 0     매천동 청구장미아파트삼우그린 입구 불합리 위치  매천동 청구장미아파트삼우그린아파트 ...        도시국 건설과\n",
       " 1     처리중언제까지 어린이보호구역 불법주차 불법적재 신고한지가 언제인데 아직 처리중적재물...      도시국 도시행정과\n",
       " 2     도로개설 본인은 대구시 북구 태전동   번지 토지 소유자 입니다현재 상기 토지에서 ...        도시국 건설과\n",
       " 3     북구청장감사실은 뭐 하는 곳 입니까 묻습니다 불법에 대한 최고의 북구 전문가 북구청...            감사실\n",
       " 4     대구시장 북구청장 감사실은 뭐 하는 부서 입니까 감사실 폐쇄하셔요 미관지구 대구시장...            감사실\n",
       " ...                                                 ...            ...\n",
       " 8065  같은 건물 같은 층에 있는 헬스클럽 소음 규제 방법은요 산격동  번지 층 입니다 대...  주민생활지원국 환경관리과\n",
       " 8066    가로등수리 검단동 가로등 수리 좀 해주세요 곰 레미콘에서 민들레 아파트까지 수고하세요        도시국 건설과\n",
       " 8067  견인하는 곳에서는 카드결제가 안되나요 안녕하세요우선 견인되어진 장소에서 차를 찾으로...        도시국 교통과\n",
       " 8068  재건축 시행사의 불법 복현주공 단지 아파트에 살고있는 주민입니다 재건축을 한다고 졶...      도시국 건축주택과\n",
       " 8069  분양승인후 청약접수 일정 연기에 관한 문의 기존 주택법상 공동주택의 경우 모집공고 ...      도시국 건축주택과\n",
       " \n",
       " [8070 rows x 2 columns],\n",
       "                                                 content         dept\n",
       " 0     다사 금호 어울림 옥외등 다사 금호어울림 아파트 옥외등 불빛이 너무 많이 밝습니다맞...    건설도시국 건축과\n",
       " 1     미진이지비아 옆 옹벽 데크경사로 오토바이진입금지 팻말설치요청 안녕하세요미진이지비아 ...  건설도시국 안전총괄과\n",
       " 2                                      이정표 전도 이정표 전도부목   문화관광국 공원녹지과\n",
       " 3     인도블럭에 무성한 잡초 및 땅으로 뻗어있는 가로수 가지등을 정비해 주실것을 요청 위...    건설도시국 건설과\n",
       " 4     구지 국가산단 길 주차장소 교통장애 국지국가 산단 길 길 교차로 부근 인도 통행로 ...    경제환경국 교통과\n",
       " ...                                                 ...          ...\n",
       " 2710  북죽곡삼정그린코아더베스트 통합관리요청 안녕하십니까 추운날씨에 수고가 많으십니다저는 ...    건설도시국 건축과\n",
       " 2711  북죽곡 삼정 그린코아 단지통합 요청합니다 안녕하세요 추운날씨에 고생이 많으십니다저는...    건설도시국 건축과\n",
       " 2712  북죽곡 삼정 그린코아 단지 통합 관련건 안녕하세요 추운데 고생이 많으십니다월에 입주...    건설도시국 건축과\n",
       " 2713  북죽곡 삼정 그린코아 입주자 입니다  저는 월에 북죽곡 삼정그린코아 입주로 대구시 ...    건설도시국 건축과\n",
       " 2714  북죽곡 삼정그린코아 통합관련요청 안녕하세요추운날씨에 수고가 많으십니다저는 월에 북죽...    건설도시국 건축과\n",
       " \n",
       " [2715 rows x 2 columns],\n",
       "                                                 content         dept\n",
       " 0     달서구청 세무과 대응 안녕하세요시분 경 유선으로 달서구청 세무과에홈택스 취득세 신고...    자치행정국 세무과\n",
       " 1     한마음 공원아이파크 차 아파트 남편 평행봉 예산 내년 반영요청 장미공원 평행봉 설치...  도시창조국 공원녹지과\n",
       " 2     어르신건강관리 오늘건강 오늘건강관리 사업으로 건강관리 서비스를 받고 있는데장소가 매...    보건소 건강증진과\n",
       " 3     다른 사람 종량제봉투 사용해서 쓰레기 버리는 사람 있는 것 같은데 단속 좀 제가 쓰...    경제환경국 청소과\n",
       " 4     어린이 보호구역 불법주차 금지 현수막 부착요망 목록번호  자에 차로 민원제기를 했습...  경제환경국 주차관리과\n",
       " ...                                                 ...          ...\n",
       " 5813  월성주공  단지내 방치차량 해결좀 해주세요 안녕하세요한번씩 창 밖을 내다보면 구청 ...  경제환경국 주차관리과\n",
       " 5814  주택가 노상 불법적치물 정비수거 건의 주택가 노상 불법적치물의 정비및 수거를 건의 ...  도시건설국 도시관리과\n",
       " 5815  불법광고전단지고발 어떻게 해야하나요 현관 앞에 광고전단지때문에 골머리를 알네요해당업...  도시건설국 도시관리과\n",
       " 5816  도로변 불법주차로 인한 통행불편 및 주행불편 안녕하십니까달서구에 살고 있는 구민입니...  경제환경국 주차관리과\n",
       " 5817  감삼 우방드림시티 북편도로 불편문의 감삼우방드림시티 아파트 입주민입니다만아파트 북편...  경제환경국 주차관리과\n",
       " \n",
       " [5818 rows x 2 columns],\n",
       "                                                 content         dept\n",
       " 0     안심역 번출구 및 인근 버스정류장 흡연 벌금 요청 지하철과 버스는 시민들이 가장 많...    보건소 건강증진과\n",
       " 1     포트홀 많은 구간 도로 복구 부탁드립니다 안녕하세요 동구 둔산로 쪽으로 매일 출퇴근...    도시안전국 건설과\n",
       " 2     신암동 꿈꽃 어린이집에서 건영캐스빌 철길 사이 어린이보호구역 불법 주정차 단속 신암...    도시안전국 교통과\n",
       " 3     불법증축건물영 업신고합니다 허가된 건축물외에 불법으로 건축물을 확대하여 증축된 불법...  도시안전국 건축주택과\n",
       " 4     동대구차 비스타동원 주변 도로 공사 진행 및 임시 사용 승인 후 진행 안되고 있 동...  도시안전국 건축주택과\n",
       " ...                                                 ...          ...\n",
       " 4873  택시밤샘불법주차 효목동 한전로 골목입니다 저번에도 글을 올렸는데 단속을 나와보니 불...    도시건설국 교통과\n",
       " 4874  동네 마트 너무 해요 반야월 내거리에서 반야월 우체국방면으로 보면 오른쪽에   라고...    도시건설국 건설과\n",
       " 4875          진상확인을 요청합니다 업무에 수고가 많으십니다글쓰기 후 저장이 되지 않고     도시건설국 건설과\n",
       " 4876  신암공원이 참 좋아요 신암동에 사는 주민으로써 신암공원이 산책과 운동을 하기에 참 ...  도시건설국 도시공원과\n",
       " 4877  보도블럭이 깨지고 있답니다 동구 효목동 에 번지에서 동일 아파트 들어가는 입구에 보...    도시건설국 건설과\n",
       " \n",
       " [4878 rows x 2 columns],\n",
       "                                                 content         dept\n",
       " 0     달성공원 새벽시장근처 환경개선이 시급합니다 달성파크푸르지오힐스테이트 입주예정자입니다...    도시안전국 건설과\n",
       " 1     신축건물공사로 인한 안전보호 지난 월일 남산정 마음이음공간 설명회에서모든 설명 질문...  도시안전국 도시재생과\n",
       " 2     아파트건설현장 주변아파트 피해민원 아파트 건설현장에서 발생하는 소음 먼지 불법주차 ...  도시안전국 건축주택과\n",
       " 3     건들바위역 번 출구 인근 교차로 볼록렌즈 교체 요청 대구광역시 중구 명덕로길  인근...    도시안전국 교통과\n",
       " 4     경북대학교병원 응급실 앞 노상주차장 이용 년 월 일 까지 경북대학교병원 응급실 앞 ...    도시안전국 교통과\n",
       " ...                                                 ...          ...\n",
       " 2980  전화신청 장애인용 일반전화 신청을 한 달 전에 대구 중구 달성 동사무소에서 했습니다...     읍/면/동사무소\n",
       " 2981  주민등록 번호를 알고 싶습니다 안녕하십니까 수고가 많으십니다저희 할아버지 주민등록 ...      총무국 총무과\n",
       " 2982  견인에 관해서 년 월 일 낮 시분시분경 대구역앞 대우빌딩 앞에 잠시 정차를 하고 있...      총무국 총무과\n",
       " 2983  견인으로 인한 불이익 년 대우빌딩 앞 노상에서 주차위반으로 견인조치된 차량으로 견인...      총무국 총무과\n",
       " 2984  호적초본 전산발급됩니까 지방거주자입니다 호적초본 전산발급이 가능합니까가능하다면 어디...      총무국 총무과\n",
       " \n",
       " [2985 rows x 2 columns],\n",
       "                                                 content           dept\n",
       " 0     매천동 청구장미아파트삼우그린 입구 불합리 위치  매천동 청구장미아파트삼우그린아파트 ...        도시국 건설과\n",
       " 1     처리중언제까지 어린이보호구역 불법주차 불법적재 신고한지가 언제인데 아직 처리중적재물...      도시국 도시행정과\n",
       " 2     도로개설 본인은 대구시 북구 태전동   번지 토지 소유자 입니다현재 상기 토지에서 ...        도시국 건설과\n",
       " 3     북구청장감사실은 뭐 하는 곳 입니까 묻습니다 불법에 대한 최고의 북구 전문가 북구청...            감사실\n",
       " 4     대구시장 북구청장 감사실은 뭐 하는 부서 입니까 감사실 폐쇄하셔요 미관지구 대구시장...            감사실\n",
       " ...                                                 ...            ...\n",
       " 8064  같은 건물 같은 층에 있는 헬스클럽 소음 규제 방법은요 산격동  번지 층 입니다 대...  주민생활지원국 환경관리과\n",
       " 8065    가로등수리 검단동 가로등 수리 좀 해주세요 곰 레미콘에서 민들레 아파트까지 수고하세요        도시국 건설과\n",
       " 8066  견인하는 곳에서는 카드결제가 안되나요 안녕하세요우선 견인되어진 장소에서 차를 찾으로...        도시국 교통과\n",
       " 8067  재건축 시행사의 불법 복현주공 단지 아파트에 살고있는 주민입니다 재건축을 한다고 졶...      도시국 건축주택과\n",
       " 8068  분양승인후 청약접수 일정 연기에 관한 문의 기존 주택법상 공동주택의 경우 모집공고 ...      도시국 건축주택과\n",
       " \n",
       " [8069 rows x 2 columns],\n",
       "                                                 content          dept\n",
       " 0     매번 수거 하시는 분들만 수고하시네요 동일고충민원여부동일고충민원여부  선행민원번호 ...      읍/면/동사무소\n",
       " 1     비대면 처방전 거부한 약국 있습니다 아이가 콧물 감기로 아프기시작해서비대면 처방을받...     보건소 보건행정과\n",
       " 2     전봇대 우째 좀 안됩니까  가 설치 되어도 무단 투기가 개선 되지 않는 건 전봇대가...      읍/면/동사무소\n",
       " 3     평리구역서대구 영무예다음 부실 시공 등 시공사 소극적 조치에 대한 민원 우리 서구의...   도시안전국 건축주택과\n",
       " 4     한글교육 저희 아빠가 어릴때 가난해서 학교를 다니지 못해 한글을 아예 모르시는데 혹...  자치행정국 교육청소년과\n",
       " ...                                                 ...           ...\n",
       " 2651  뭐좀 물어볼려구요 저기요집으로 다른사람이름으로 음식물쓰레기 수수료 국민 건강보험 독...      읍/면/동사무소\n",
       " 2652  소음 및 분진 피해삼육비철 구정에 고생이 많으십니다저는 서구 원대가 번지에 처와 개...   사회산업국 환경관리과\n",
       " 2653  서구청 귀청의 전력 에너지 사용량 자료 요청 귀청의 무한한 발전을 기원합니다안녕하십...     도시국 건축주택과\n",
       " 2654  토지대장과건물대장이 같은것인가요 건강보험공단에서 건물대장을 떼오라는데 토지대장과 같...     도시국 건축주택과\n",
       " 2655  저소득층 생계형 대출에 관하여 구청이나 동사무소에서 생계형대출을하는것으로 알고 있습...   사회산업국 사회복지과\n",
       " \n",
       " [2656 rows x 2 columns],\n",
       "                                                 content       dept\n",
       " 0     범어 우방  차 공사장 도로 시설물 점검 요청 청구푸른마을에 거주하는 시민입니다어제...    도시국 건설과\n",
       " 1     쓰레기 불법 투기자를 신고합니다 만촌동주택가 맞은편 앞집에서 주기적으로 쓰레기 배출...  복지국 자원순환과\n",
       " 2     우방 차 재건축공사 관련 도로 점유 및 주민 통행 방해에 대한 진정 구정에 노고가 ...    도시국 건설과\n",
       " 3     파동 건설현장앞 이중주차 파동건설현장 앞 이중주차로 인한불편사항 접수합니다민원을 몇...    도시국 교통과\n",
       " 4     지범로 길  더트루웰수성아파트 주변 주정차 단속 저는 해당 주소 층에 거주하고 있는...    도시국 교통과\n",
       " ...                                                 ...        ...\n",
       " 7221  빠른 답변 오늘 동사무소에서 전화를 받았습니다저는 고등 년때 기분 마다 동사무소에서...    복지국 복지과\n",
       " 7222  본명을 으려고 합니다 안녕하세요저의 외할머니의 본명을 아 드리고 싶어서 이렇게 글을...  행정국 민원여권과\n",
       " 7223  생보자에 관하여꼭 답 부탁드려요 안녕하세요저는 신중훈입니다지금 저희 집은 생보자 상...    복지국 복지과\n",
       " 7224  허가가 나나요 수성구 황금동 번지에 카센터를 하려고 하는데급 허가가 나나요궁금합니다...    도시국 교통과\n",
       " 7225  농지 분할 등기 가능 여부 수고하십니다 지번  대구시 수성구 이천동  번지 답  평...  도시국 토지정보과\n",
       " \n",
       " [7226 rows x 2 columns],\n",
       "                                                 content           dept\n",
       " 0     매천동 청구장미아파트삼우그린 입구 불합리 위치  매천동 청구장미아파트삼우그린아파트 ...        도시국 건설과\n",
       " 1     처리중언제까지 어린이보호구역 불법주차 불법적재 신고한지가 언제인데 아직 처리중적재물...      도시국 도시행정과\n",
       " 2     도로개설 본인은 대구시 북구 태전동   번지 토지 소유자 입니다현재 상기 토지에서 ...        도시국 건설과\n",
       " 3     북구청장감사실은 뭐 하는 곳 입니까 묻습니다 불법에 대한 최고의 북구 전문가 북구청...            감사실\n",
       " 4     대구시장 북구청장 감사실은 뭐 하는 부서 입니까 감사실 폐쇄하셔요 미관지구 대구시장...            감사실\n",
       " ...                                                 ...            ...\n",
       " 8065  같은 건물 같은 층에 있는 헬스클럽 소음 규제 방법은요 산격동  번지 층 입니다 대...  주민생활지원국 환경관리과\n",
       " 8066    가로등수리 검단동 가로등 수리 좀 해주세요 곰 레미콘에서 민들레 아파트까지 수고하세요        도시국 건설과\n",
       " 8067  견인하는 곳에서는 카드결제가 안되나요 안녕하세요우선 견인되어진 장소에서 차를 찾으로...        도시국 교통과\n",
       " 8068  재건축 시행사의 불법 복현주공 단지 아파트에 살고있는 주민입니다 재건축을 한다고 졶...      도시국 건축주택과\n",
       " 8069  분양승인후 청약접수 일정 연기에 관한 문의 기존 주택법상 공동주택의 경우 모집공고 ...      도시국 건축주택과\n",
       " \n",
       " [8070 rows x 2 columns],\n",
       "                                                 content         dept\n",
       " 0     다사 금호 어울림 옥외등 다사 금호어울림 아파트 옥외등 불빛이 너무 많이 밝습니다맞...    건설도시국 건축과\n",
       " 1     미진이지비아 옆 옹벽 데크경사로 오토바이진입금지 팻말설치요청 안녕하세요미진이지비아 ...  건설도시국 안전총괄과\n",
       " 2                                      이정표 전도 이정표 전도부목   문화관광국 공원녹지과\n",
       " 3     인도블럭에 무성한 잡초 및 땅으로 뻗어있는 가로수 가지등을 정비해 주실것을 요청 위...    건설도시국 건설과\n",
       " 4     구지 국가산단 길 주차장소 교통장애 국지국가 산단 길 길 교차로 부근 인도 통행로 ...    경제환경국 교통과\n",
       " ...                                                 ...          ...\n",
       " 2710  북죽곡삼정그린코아더베스트 통합관리요청 안녕하십니까 추운날씨에 수고가 많으십니다저는 ...    건설도시국 건축과\n",
       " 2711  북죽곡 삼정 그린코아 단지통합 요청합니다 안녕하세요 추운날씨에 고생이 많으십니다저는...    건설도시국 건축과\n",
       " 2712  북죽곡 삼정 그린코아 단지 통합 관련건 안녕하세요 추운데 고생이 많으십니다월에 입주...    건설도시국 건축과\n",
       " 2713  북죽곡 삼정 그린코아 입주자 입니다  저는 월에 북죽곡 삼정그린코아 입주로 대구시 ...    건설도시국 건축과\n",
       " 2714  북죽곡 삼정그린코아 통합관련요청 안녕하세요추운날씨에 수고가 많으십니다저는 월에 북죽...    건설도시국 건축과\n",
       " \n",
       " [2715 rows x 2 columns],\n",
       "                                                 content         dept\n",
       " 0     달서구청 세무과 대응 안녕하세요시분 경 유선으로 달서구청 세무과에홈택스 취득세 신고...    자치행정국 세무과\n",
       " 1     한마음 공원아이파크 차 아파트 남편 평행봉 예산 내년 반영요청 장미공원 평행봉 설치...  도시창조국 공원녹지과\n",
       " 2     어르신건강관리 오늘건강 오늘건강관리 사업으로 건강관리 서비스를 받고 있는데장소가 매...    보건소 건강증진과\n",
       " 3     다른 사람 종량제봉투 사용해서 쓰레기 버리는 사람 있는 것 같은데 단속 좀 제가 쓰...    경제환경국 청소과\n",
       " 4     어린이 보호구역 불법주차 금지 현수막 부착요망 목록번호  자에 차로 민원제기를 했습...  경제환경국 주차관리과\n",
       " ...                                                 ...          ...\n",
       " 5813  월성주공  단지내 방치차량 해결좀 해주세요 안녕하세요한번씩 창 밖을 내다보면 구청 ...  경제환경국 주차관리과\n",
       " 5814  주택가 노상 불법적치물 정비수거 건의 주택가 노상 불법적치물의 정비및 수거를 건의 ...  도시건설국 도시관리과\n",
       " 5815  불법광고전단지고발 어떻게 해야하나요 현관 앞에 광고전단지때문에 골머리를 알네요해당업...  도시건설국 도시관리과\n",
       " 5816  도로변 불법주차로 인한 통행불편 및 주행불편 안녕하십니까달서구에 살고 있는 구민입니...  경제환경국 주차관리과\n",
       " 5817  감삼 우방드림시티 북편도로 불편문의 감삼우방드림시티 아파트 입주민입니다만아파트 북편...  경제환경국 주차관리과\n",
       " \n",
       " [5818 rows x 2 columns],\n",
       "                                                 content         dept\n",
       " 0     안심역 번출구 및 인근 버스정류장 흡연 벌금 요청 지하철과 버스는 시민들이 가장 많...    보건소 건강증진과\n",
       " 1     포트홀 많은 구간 도로 복구 부탁드립니다 안녕하세요 동구 둔산로 쪽으로 매일 출퇴근...    도시안전국 건설과\n",
       " 2     신암동 꿈꽃 어린이집에서 건영캐스빌 철길 사이 어린이보호구역 불법 주정차 단속 신암...    도시안전국 교통과\n",
       " 3     불법증축건물영 업신고합니다 허가된 건축물외에 불법으로 건축물을 확대하여 증축된 불법...  도시안전국 건축주택과\n",
       " 4     동대구차 비스타동원 주변 도로 공사 진행 및 임시 사용 승인 후 진행 안되고 있 동...  도시안전국 건축주택과\n",
       " ...                                                 ...          ...\n",
       " 4873  택시밤샘불법주차 효목동 한전로 골목입니다 저번에도 글을 올렸는데 단속을 나와보니 불...    도시건설국 교통과\n",
       " 4874  동네 마트 너무 해요 반야월 내거리에서 반야월 우체국방면으로 보면 오른쪽에   라고...    도시건설국 건설과\n",
       " 4875          진상확인을 요청합니다 업무에 수고가 많으십니다글쓰기 후 저장이 되지 않고     도시건설국 건설과\n",
       " 4876  신암공원이 참 좋아요 신암동에 사는 주민으로써 신암공원이 산책과 운동을 하기에 참 ...  도시건설국 도시공원과\n",
       " 4877  보도블럭이 깨지고 있답니다 동구 효목동 에 번지에서 동일 아파트 들어가는 입구에 보...    도시건설국 건설과\n",
       " \n",
       " [4878 rows x 2 columns],\n",
       "                                                 content         dept\n",
       " 0     달성공원 새벽시장근처 환경개선이 시급합니다 달성파크푸르지오힐스테이트 입주예정자입니다...    도시안전국 건설과\n",
       " 1     신축건물공사로 인한 안전보호 지난 월일 남산정 마음이음공간 설명회에서모든 설명 질문...  도시안전국 도시재생과\n",
       " 2     아파트건설현장 주변아파트 피해민원 아파트 건설현장에서 발생하는 소음 먼지 불법주차 ...  도시안전국 건축주택과\n",
       " 3     건들바위역 번 출구 인근 교차로 볼록렌즈 교체 요청 대구광역시 중구 명덕로길  인근...    도시안전국 교통과\n",
       " 4     경북대학교병원 응급실 앞 노상주차장 이용 년 월 일 까지 경북대학교병원 응급실 앞 ...    도시안전국 교통과\n",
       " ...                                                 ...          ...\n",
       " 2980  전화신청 장애인용 일반전화 신청을 한 달 전에 대구 중구 달성 동사무소에서 했습니다...     읍/면/동사무소\n",
       " 2981  주민등록 번호를 알고 싶습니다 안녕하십니까 수고가 많으십니다저희 할아버지 주민등록 ...      총무국 총무과\n",
       " 2982  견인에 관해서 년 월 일 낮 시분시분경 대구역앞 대우빌딩 앞에 잠시 정차를 하고 있...      총무국 총무과\n",
       " 2983  견인으로 인한 불이익 년 대우빌딩 앞 노상에서 주차위반으로 견인조치된 차량으로 견인...      총무국 총무과\n",
       " 2984  호적초본 전산발급됩니까 지방거주자입니다 호적초본 전산발급이 가능합니까가능하다면 어디...      총무국 총무과\n",
       " \n",
       " [2985 rows x 2 columns],\n",
       "                                                 content           dept\n",
       " 0     매천동 청구장미아파트삼우그린 입구 불합리 위치  매천동 청구장미아파트삼우그린아파트 ...        도시국 건설과\n",
       " 1     처리중언제까지 어린이보호구역 불법주차 불법적재 신고한지가 언제인데 아직 처리중적재물...      도시국 도시행정과\n",
       " 2     도로개설 본인은 대구시 북구 태전동   번지 토지 소유자 입니다현재 상기 토지에서 ...        도시국 건설과\n",
       " 3     북구청장감사실은 뭐 하는 곳 입니까 묻습니다 불법에 대한 최고의 북구 전문가 북구청...            감사실\n",
       " 4     대구시장 북구청장 감사실은 뭐 하는 부서 입니까 감사실 폐쇄하셔요 미관지구 대구시장...            감사실\n",
       " ...                                                 ...            ...\n",
       " 8064  같은 건물 같은 층에 있는 헬스클럽 소음 규제 방법은요 산격동  번지 층 입니다 대...  주민생활지원국 환경관리과\n",
       " 8065    가로등수리 검단동 가로등 수리 좀 해주세요 곰 레미콘에서 민들레 아파트까지 수고하세요        도시국 건설과\n",
       " 8066  견인하는 곳에서는 카드결제가 안되나요 안녕하세요우선 견인되어진 장소에서 차를 찾으로...        도시국 교통과\n",
       " 8067  재건축 시행사의 불법 복현주공 단지 아파트에 살고있는 주민입니다 재건축을 한다고 졶...      도시국 건축주택과\n",
       " 8068  분양승인후 청약접수 일정 연기에 관한 문의 기존 주택법상 공동주택의 경우 모집공고 ...      도시국 건축주택과\n",
       " \n",
       " [8069 rows x 2 columns],\n",
       "                                                 content          dept\n",
       " 0     매번 수거 하시는 분들만 수고하시네요 동일고충민원여부동일고충민원여부  선행민원번호 ...      읍/면/동사무소\n",
       " 1     비대면 처방전 거부한 약국 있습니다 아이가 콧물 감기로 아프기시작해서비대면 처방을받...     보건소 보건행정과\n",
       " 2     전봇대 우째 좀 안됩니까  가 설치 되어도 무단 투기가 개선 되지 않는 건 전봇대가...      읍/면/동사무소\n",
       " 3     평리구역서대구 영무예다음 부실 시공 등 시공사 소극적 조치에 대한 민원 우리 서구의...   도시안전국 건축주택과\n",
       " 4     한글교육 저희 아빠가 어릴때 가난해서 학교를 다니지 못해 한글을 아예 모르시는데 혹...  자치행정국 교육청소년과\n",
       " ...                                                 ...           ...\n",
       " 2651  뭐좀 물어볼려구요 저기요집으로 다른사람이름으로 음식물쓰레기 수수료 국민 건강보험 독...      읍/면/동사무소\n",
       " 2652  소음 및 분진 피해삼육비철 구정에 고생이 많으십니다저는 서구 원대가 번지에 처와 개...   사회산업국 환경관리과\n",
       " 2653  서구청 귀청의 전력 에너지 사용량 자료 요청 귀청의 무한한 발전을 기원합니다안녕하십...     도시국 건축주택과\n",
       " 2654  토지대장과건물대장이 같은것인가요 건강보험공단에서 건물대장을 떼오라는데 토지대장과 같...     도시국 건축주택과\n",
       " 2655  저소득층 생계형 대출에 관하여 구청이나 동사무소에서 생계형대출을하는것으로 알고 있습...   사회산업국 사회복지과\n",
       " \n",
       " [2656 rows x 2 columns],\n",
       "                                                 content       dept\n",
       " 0     범어 우방  차 공사장 도로 시설물 점검 요청 청구푸른마을에 거주하는 시민입니다어제...    도시국 건설과\n",
       " 1     쓰레기 불법 투기자를 신고합니다 만촌동주택가 맞은편 앞집에서 주기적으로 쓰레기 배출...  복지국 자원순환과\n",
       " 2     우방 차 재건축공사 관련 도로 점유 및 주민 통행 방해에 대한 진정 구정에 노고가 ...    도시국 건설과\n",
       " 3     파동 건설현장앞 이중주차 파동건설현장 앞 이중주차로 인한불편사항 접수합니다민원을 몇...    도시국 교통과\n",
       " 4     지범로 길  더트루웰수성아파트 주변 주정차 단속 저는 해당 주소 층에 거주하고 있는...    도시국 교통과\n",
       " ...                                                 ...        ...\n",
       " 7221  빠른 답변 오늘 동사무소에서 전화를 받았습니다저는 고등 년때 기분 마다 동사무소에서...    복지국 복지과\n",
       " 7222  본명을 으려고 합니다 안녕하세요저의 외할머니의 본명을 아 드리고 싶어서 이렇게 글을...  행정국 민원여권과\n",
       " 7223  생보자에 관하여꼭 답 부탁드려요 안녕하세요저는 신중훈입니다지금 저희 집은 생보자 상...    복지국 복지과\n",
       " 7224  허가가 나나요 수성구 황금동 번지에 카센터를 하려고 하는데급 허가가 나나요궁금합니다...    도시국 교통과\n",
       " 7225  농지 분할 등기 가능 여부 수고하십니다 지번  대구시 수성구 이천동  번지 답  평...  도시국 토지정보과\n",
       " \n",
       " [7226 rows x 2 columns]]"
      ]
     },
     "execution_count": 36,
     "metadata": {},
     "output_type": "execute_result"
    }
   ],
   "source": [
    "complain_list"
   ]
  },
  {
   "cell_type": "code",
   "execution_count": 37,
   "id": "c8e627e4",
   "metadata": {},
   "outputs": [
    {
     "name": "stdout",
     "output_type": "stream",
     "text": [
      "8070\n",
      "2715\n",
      "5818\n",
      "4878\n",
      "2985\n",
      "8069\n",
      "2656\n",
      "7226\n",
      "8070\n",
      "2715\n",
      "5818\n",
      "4878\n",
      "2985\n",
      "8069\n",
      "2656\n",
      "7226\n"
     ]
    }
   ],
   "source": [
    "# rare 클래스 제거 전\n",
    "for df in complain_list:\n",
    "    print(len(df))"
   ]
  },
  {
   "cell_type": "code",
   "execution_count": 38,
   "id": "6b5fe9f0-e999-4ef4-96b5-566f066df00d",
   "metadata": {},
   "outputs": [],
   "source": [
    "new_complain_list = []\n",
    "\n",
    "for df in complain_list:\n",
    "    res = drop_rare_class(df)\n",
    "    new_complain_list.append(res)"
   ]
  },
  {
   "cell_type": "code",
   "execution_count": 39,
   "id": "2178f985",
   "metadata": {},
   "outputs": [
    {
     "data": {
      "text/plain": [
       "[                                                content           dept\n",
       " 0     매천동 청구장미아파트삼우그린 입구 불합리 위치  매천동 청구장미아파트삼우그린아파트 ...        도시국 건설과\n",
       " 1     처리중언제까지 어린이보호구역 불법주차 불법적재 신고한지가 언제인데 아직 처리중적재물...      도시국 도시행정과\n",
       " 2     도로개설 본인은 대구시 북구 태전동   번지 토지 소유자 입니다현재 상기 토지에서 ...        도시국 건설과\n",
       " 3     북구청장감사실은 뭐 하는 곳 입니까 묻습니다 불법에 대한 최고의 북구 전문가 북구청...            감사실\n",
       " 4     대구시장 북구청장 감사실은 뭐 하는 부서 입니까 감사실 폐쇄하셔요 미관지구 대구시장...            감사실\n",
       " ...                                                 ...            ...\n",
       " 8065  같은 건물 같은 층에 있는 헬스클럽 소음 규제 방법은요 산격동  번지 층 입니다 대...  주민생활지원국 환경관리과\n",
       " 8066    가로등수리 검단동 가로등 수리 좀 해주세요 곰 레미콘에서 민들레 아파트까지 수고하세요        도시국 건설과\n",
       " 8067  견인하는 곳에서는 카드결제가 안되나요 안녕하세요우선 견인되어진 장소에서 차를 찾으로...        도시국 교통과\n",
       " 8068  재건축 시행사의 불법 복현주공 단지 아파트에 살고있는 주민입니다 재건축을 한다고 졶...      도시국 건축주택과\n",
       " 8069  분양승인후 청약접수 일정 연기에 관한 문의 기존 주택법상 공동주택의 경우 모집공고 ...      도시국 건축주택과\n",
       " \n",
       " [6836 rows x 2 columns],\n",
       "                                                 content         dept\n",
       " 0     다사 금호 어울림 옥외등 다사 금호어울림 아파트 옥외등 불빛이 너무 많이 밝습니다맞...    건설도시국 건축과\n",
       " 1     미진이지비아 옆 옹벽 데크경사로 오토바이진입금지 팻말설치요청 안녕하세요미진이지비아 ...  건설도시국 안전총괄과\n",
       " 2                                      이정표 전도 이정표 전도부목   문화관광국 공원녹지과\n",
       " 3     인도블럭에 무성한 잡초 및 땅으로 뻗어있는 가로수 가지등을 정비해 주실것을 요청 위...    건설도시국 건설과\n",
       " 4     구지 국가산단 길 주차장소 교통장애 국지국가 산단 길 길 교차로 부근 인도 통행로 ...    경제환경국 교통과\n",
       " ...                                                 ...          ...\n",
       " 2710  북죽곡삼정그린코아더베스트 통합관리요청 안녕하십니까 추운날씨에 수고가 많으십니다저는 ...    건설도시국 건축과\n",
       " 2711  북죽곡 삼정 그린코아 단지통합 요청합니다 안녕하세요 추운날씨에 고생이 많으십니다저는...    건설도시국 건축과\n",
       " 2712  북죽곡 삼정 그린코아 단지 통합 관련건 안녕하세요 추운데 고생이 많으십니다월에 입주...    건설도시국 건축과\n",
       " 2713  북죽곡 삼정 그린코아 입주자 입니다  저는 월에 북죽곡 삼정그린코아 입주로 대구시 ...    건설도시국 건축과\n",
       " 2714  북죽곡 삼정그린코아 통합관련요청 안녕하세요추운날씨에 수고가 많으십니다저는 월에 북죽...    건설도시국 건축과\n",
       " \n",
       " [2558 rows x 2 columns],\n",
       "                                                 content         dept\n",
       " 1     한마음 공원아이파크 차 아파트 남편 평행봉 예산 내년 반영요청 장미공원 평행봉 설치...  도시창조국 공원녹지과\n",
       " 3     다른 사람 종량제봉투 사용해서 쓰레기 버리는 사람 있는 것 같은데 단속 좀 제가 쓰...    경제환경국 청소과\n",
       " 4     어린이 보호구역 불법주차 금지 현수막 부착요망 목록번호  자에 차로 민원제기를 했습...  경제환경국 주차관리과\n",
       " 5     월배이마트 맞은편 애플상가앞 보행환경을 개선해주세요 평소 구정발전에 노력하여 주심에...  경제환경국 교통행정과\n",
       " 7     성서무지개타운아파트 동 옆 신원로 대로변 화물차 불법주차 근 일년동안 출근하면서 지...  경제환경국 주차관리과\n",
       " ...                                                 ...          ...\n",
       " 5813  월성주공  단지내 방치차량 해결좀 해주세요 안녕하세요한번씩 창 밖을 내다보면 구청 ...  경제환경국 주차관리과\n",
       " 5814  주택가 노상 불법적치물 정비수거 건의 주택가 노상 불법적치물의 정비및 수거를 건의 ...  도시건설국 도시관리과\n",
       " 5815  불법광고전단지고발 어떻게 해야하나요 현관 앞에 광고전단지때문에 골머리를 알네요해당업...  도시건설국 도시관리과\n",
       " 5816  도로변 불법주차로 인한 통행불편 및 주행불편 안녕하십니까달서구에 살고 있는 구민입니...  경제환경국 주차관리과\n",
       " 5817  감삼 우방드림시티 북편도로 불편문의 감삼우방드림시티 아파트 입주민입니다만아파트 북편...  경제환경국 주차관리과\n",
       " \n",
       " [5256 rows x 2 columns],\n",
       "                                                 content         dept\n",
       " 1     포트홀 많은 구간 도로 복구 부탁드립니다 안녕하세요 동구 둔산로 쪽으로 매일 출퇴근...    도시안전국 건설과\n",
       " 2     신암동 꿈꽃 어린이집에서 건영캐스빌 철길 사이 어린이보호구역 불법 주정차 단속 신암...    도시안전국 교통과\n",
       " 3     불법증축건물영 업신고합니다 허가된 건축물외에 불법으로 건축물을 확대하여 증축된 불법...  도시안전국 건축주택과\n",
       " 4     동대구차 비스타동원 주변 도로 공사 진행 및 임시 사용 승인 후 진행 안되고 있 동...  도시안전국 건축주택과\n",
       " 5     인도 확장 주정차 불편 파리바게트쪽 라인과 율하동 김밥 쪽라인에 인도 확장 공사로 ...    도시안전국 도시과\n",
       " ...                                                 ...          ...\n",
       " 4873  택시밤샘불법주차 효목동 한전로 골목입니다 저번에도 글을 올렸는데 단속을 나와보니 불...    도시건설국 교통과\n",
       " 4874  동네 마트 너무 해요 반야월 내거리에서 반야월 우체국방면으로 보면 오른쪽에   라고...    도시건설국 건설과\n",
       " 4875          진상확인을 요청합니다 업무에 수고가 많으십니다글쓰기 후 저장이 되지 않고     도시건설국 건설과\n",
       " 4876  신암공원이 참 좋아요 신암동에 사는 주민으로써 신암공원이 산책과 운동을 하기에 참 ...  도시건설국 도시공원과\n",
       " 4877  보도블럭이 깨지고 있답니다 동구 효목동 에 번지에서 동일 아파트 들어가는 입구에 보...    도시건설국 건설과\n",
       " \n",
       " [4320 rows x 2 columns],\n",
       "                                                 content         dept\n",
       " 0     달성공원 새벽시장근처 환경개선이 시급합니다 달성파크푸르지오힐스테이트 입주예정자입니다...    도시안전국 건설과\n",
       " 2     아파트건설현장 주변아파트 피해민원 아파트 건설현장에서 발생하는 소음 먼지 불법주차 ...  도시안전국 건축주택과\n",
       " 3     건들바위역 번 출구 인근 교차로 볼록렌즈 교체 요청 대구광역시 중구 명덕로길  인근...    도시안전국 교통과\n",
       " 4     경북대학교병원 응급실 앞 노상주차장 이용 년 월 일 까지 경북대학교병원 응급실 앞 ...    도시안전국 교통과\n",
       " 5     봉산문화길 인도 공사 첨부한 동영상 보시면 아시겠지만 저희 가게 문 앞을 다 막아서...    도시안전국 건설과\n",
       " ...                                                 ...          ...\n",
       " 2980  전화신청 장애인용 일반전화 신청을 한 달 전에 대구 중구 달성 동사무소에서 했습니다...     읍/면/동사무소\n",
       " 2981  주민등록 번호를 알고 싶습니다 안녕하십니까 수고가 많으십니다저희 할아버지 주민등록 ...      총무국 총무과\n",
       " 2982  견인에 관해서 년 월 일 낮 시분시분경 대구역앞 대우빌딩 앞에 잠시 정차를 하고 있...      총무국 총무과\n",
       " 2983  견인으로 인한 불이익 년 대우빌딩 앞 노상에서 주차위반으로 견인조치된 차량으로 견인...      총무국 총무과\n",
       " 2984  호적초본 전산발급됩니까 지방거주자입니다 호적초본 전산발급이 가능합니까가능하다면 어디...      총무국 총무과\n",
       " \n",
       " [2632 rows x 2 columns],\n",
       "                                                 content           dept\n",
       " 0     매천동 청구장미아파트삼우그린 입구 불합리 위치  매천동 청구장미아파트삼우그린아파트 ...        도시국 건설과\n",
       " 1     처리중언제까지 어린이보호구역 불법주차 불법적재 신고한지가 언제인데 아직 처리중적재물...      도시국 도시행정과\n",
       " 2     도로개설 본인은 대구시 북구 태전동   번지 토지 소유자 입니다현재 상기 토지에서 ...        도시국 건설과\n",
       " 3     북구청장감사실은 뭐 하는 곳 입니까 묻습니다 불법에 대한 최고의 북구 전문가 북구청...            감사실\n",
       " 4     대구시장 북구청장 감사실은 뭐 하는 부서 입니까 감사실 폐쇄하셔요 미관지구 대구시장...            감사실\n",
       " ...                                                 ...            ...\n",
       " 8064  같은 건물 같은 층에 있는 헬스클럽 소음 규제 방법은요 산격동  번지 층 입니다 대...  주민생활지원국 환경관리과\n",
       " 8065    가로등수리 검단동 가로등 수리 좀 해주세요 곰 레미콘에서 민들레 아파트까지 수고하세요        도시국 건설과\n",
       " 8066  견인하는 곳에서는 카드결제가 안되나요 안녕하세요우선 견인되어진 장소에서 차를 찾으로...        도시국 교통과\n",
       " 8067  재건축 시행사의 불법 복현주공 단지 아파트에 살고있는 주민입니다 재건축을 한다고 졶...      도시국 건축주택과\n",
       " 8068  분양승인후 청약접수 일정 연기에 관한 문의 기존 주택법상 공동주택의 경우 모집공고 ...      도시국 건축주택과\n",
       " \n",
       " [6835 rows x 2 columns],\n",
       "                                                 content         dept\n",
       " 0     매번 수거 하시는 분들만 수고하시네요 동일고충민원여부동일고충민원여부  선행민원번호 ...     읍/면/동사무소\n",
       " 1     비대면 처방전 거부한 약국 있습니다 아이가 콧물 감기로 아프기시작해서비대면 처방을받...    보건소 보건행정과\n",
       " 2     전봇대 우째 좀 안됩니까  가 설치 되어도 무단 투기가 개선 되지 않는 건 전봇대가...     읍/면/동사무소\n",
       " 3     평리구역서대구 영무예다음 부실 시공 등 시공사 소극적 조치에 대한 민원 우리 서구의...  도시안전국 건축주택과\n",
       " 5     여름철대비 비산동에 사는 주민입니다 공무에 힘쓰시느라 수고가 많으십니다 비산동이 주...    보건소 보건행정과\n",
       " ...                                                 ...          ...\n",
       " 2649  저 저번에 질문한 사람인데요 죄송하지만 우편물이 또 그사람 이름으로 날라왔거든요그일...     읍/면/동사무소\n",
       " 2651  뭐좀 물어볼려구요 저기요집으로 다른사람이름으로 음식물쓰레기 수수료 국민 건강보험 독...     읍/면/동사무소\n",
       " 2652  소음 및 분진 피해삼육비철 구정에 고생이 많으십니다저는 서구 원대가 번지에 처와 개...  사회산업국 환경관리과\n",
       " 2653  서구청 귀청의 전력 에너지 사용량 자료 요청 귀청의 무한한 발전을 기원합니다안녕하십...    도시국 건축주택과\n",
       " 2654  토지대장과건물대장이 같은것인가요 건강보험공단에서 건물대장을 떼오라는데 토지대장과 같...    도시국 건축주택과\n",
       " \n",
       " [2375 rows x 2 columns],\n",
       "                                                 content       dept\n",
       " 0     범어 우방  차 공사장 도로 시설물 점검 요청 청구푸른마을에 거주하는 시민입니다어제...    도시국 건설과\n",
       " 1     쓰레기 불법 투기자를 신고합니다 만촌동주택가 맞은편 앞집에서 주기적으로 쓰레기 배출...  복지국 자원순환과\n",
       " 2     우방 차 재건축공사 관련 도로 점유 및 주민 통행 방해에 대한 진정 구정에 노고가 ...    도시국 건설과\n",
       " 3     파동 건설현장앞 이중주차 파동건설현장 앞 이중주차로 인한불편사항 접수합니다민원을 몇...    도시국 교통과\n",
       " 4     지범로 길  더트루웰수성아파트 주변 주정차 단속 저는 해당 주소 층에 거주하고 있는...    도시국 교통과\n",
       " ...                                                 ...        ...\n",
       " 7218  조건부 수급자에 대하여 저희는 조건부 수급자 입니다미취업 미진학시 의무적으로 교육을...    복지국 복지과\n",
       " 7220  궁금한 점이 수성구 제기 취미교실 공고를 보고 궁금한 점이 몇가지 있어서요우선 홈페...    복지국 복지과\n",
       " 7221  빠른 답변 오늘 동사무소에서 전화를 받았습니다저는 고등 년때 기분 마다 동사무소에서...    복지국 복지과\n",
       " 7223  생보자에 관하여꼭 답 부탁드려요 안녕하세요저는 신중훈입니다지금 저희 집은 생보자 상...    복지국 복지과\n",
       " 7224  허가가 나나요 수성구 황금동 번지에 카센터를 하려고 하는데급 허가가 나나요궁금합니다...    도시국 교통과\n",
       " \n",
       " [6627 rows x 2 columns],\n",
       "                                                 content           dept\n",
       " 0     매천동 청구장미아파트삼우그린 입구 불합리 위치  매천동 청구장미아파트삼우그린아파트 ...        도시국 건설과\n",
       " 1     처리중언제까지 어린이보호구역 불법주차 불법적재 신고한지가 언제인데 아직 처리중적재물...      도시국 도시행정과\n",
       " 2     도로개설 본인은 대구시 북구 태전동   번지 토지 소유자 입니다현재 상기 토지에서 ...        도시국 건설과\n",
       " 3     북구청장감사실은 뭐 하는 곳 입니까 묻습니다 불법에 대한 최고의 북구 전문가 북구청...            감사실\n",
       " 4     대구시장 북구청장 감사실은 뭐 하는 부서 입니까 감사실 폐쇄하셔요 미관지구 대구시장...            감사실\n",
       " ...                                                 ...            ...\n",
       " 8065  같은 건물 같은 층에 있는 헬스클럽 소음 규제 방법은요 산격동  번지 층 입니다 대...  주민생활지원국 환경관리과\n",
       " 8066    가로등수리 검단동 가로등 수리 좀 해주세요 곰 레미콘에서 민들레 아파트까지 수고하세요        도시국 건설과\n",
       " 8067  견인하는 곳에서는 카드결제가 안되나요 안녕하세요우선 견인되어진 장소에서 차를 찾으로...        도시국 교통과\n",
       " 8068  재건축 시행사의 불법 복현주공 단지 아파트에 살고있는 주민입니다 재건축을 한다고 졶...      도시국 건축주택과\n",
       " 8069  분양승인후 청약접수 일정 연기에 관한 문의 기존 주택법상 공동주택의 경우 모집공고 ...      도시국 건축주택과\n",
       " \n",
       " [6836 rows x 2 columns],\n",
       "                                                 content         dept\n",
       " 0     다사 금호 어울림 옥외등 다사 금호어울림 아파트 옥외등 불빛이 너무 많이 밝습니다맞...    건설도시국 건축과\n",
       " 1     미진이지비아 옆 옹벽 데크경사로 오토바이진입금지 팻말설치요청 안녕하세요미진이지비아 ...  건설도시국 안전총괄과\n",
       " 2                                      이정표 전도 이정표 전도부목   문화관광국 공원녹지과\n",
       " 3     인도블럭에 무성한 잡초 및 땅으로 뻗어있는 가로수 가지등을 정비해 주실것을 요청 위...    건설도시국 건설과\n",
       " 4     구지 국가산단 길 주차장소 교통장애 국지국가 산단 길 길 교차로 부근 인도 통행로 ...    경제환경국 교통과\n",
       " ...                                                 ...          ...\n",
       " 2710  북죽곡삼정그린코아더베스트 통합관리요청 안녕하십니까 추운날씨에 수고가 많으십니다저는 ...    건설도시국 건축과\n",
       " 2711  북죽곡 삼정 그린코아 단지통합 요청합니다 안녕하세요 추운날씨에 고생이 많으십니다저는...    건설도시국 건축과\n",
       " 2712  북죽곡 삼정 그린코아 단지 통합 관련건 안녕하세요 추운데 고생이 많으십니다월에 입주...    건설도시국 건축과\n",
       " 2713  북죽곡 삼정 그린코아 입주자 입니다  저는 월에 북죽곡 삼정그린코아 입주로 대구시 ...    건설도시국 건축과\n",
       " 2714  북죽곡 삼정그린코아 통합관련요청 안녕하세요추운날씨에 수고가 많으십니다저는 월에 북죽...    건설도시국 건축과\n",
       " \n",
       " [2558 rows x 2 columns],\n",
       "                                                 content         dept\n",
       " 1     한마음 공원아이파크 차 아파트 남편 평행봉 예산 내년 반영요청 장미공원 평행봉 설치...  도시창조국 공원녹지과\n",
       " 3     다른 사람 종량제봉투 사용해서 쓰레기 버리는 사람 있는 것 같은데 단속 좀 제가 쓰...    경제환경국 청소과\n",
       " 4     어린이 보호구역 불법주차 금지 현수막 부착요망 목록번호  자에 차로 민원제기를 했습...  경제환경국 주차관리과\n",
       " 5     월배이마트 맞은편 애플상가앞 보행환경을 개선해주세요 평소 구정발전에 노력하여 주심에...  경제환경국 교통행정과\n",
       " 7     성서무지개타운아파트 동 옆 신원로 대로변 화물차 불법주차 근 일년동안 출근하면서 지...  경제환경국 주차관리과\n",
       " ...                                                 ...          ...\n",
       " 5813  월성주공  단지내 방치차량 해결좀 해주세요 안녕하세요한번씩 창 밖을 내다보면 구청 ...  경제환경국 주차관리과\n",
       " 5814  주택가 노상 불법적치물 정비수거 건의 주택가 노상 불법적치물의 정비및 수거를 건의 ...  도시건설국 도시관리과\n",
       " 5815  불법광고전단지고발 어떻게 해야하나요 현관 앞에 광고전단지때문에 골머리를 알네요해당업...  도시건설국 도시관리과\n",
       " 5816  도로변 불법주차로 인한 통행불편 및 주행불편 안녕하십니까달서구에 살고 있는 구민입니...  경제환경국 주차관리과\n",
       " 5817  감삼 우방드림시티 북편도로 불편문의 감삼우방드림시티 아파트 입주민입니다만아파트 북편...  경제환경국 주차관리과\n",
       " \n",
       " [5256 rows x 2 columns],\n",
       "                                                 content         dept\n",
       " 1     포트홀 많은 구간 도로 복구 부탁드립니다 안녕하세요 동구 둔산로 쪽으로 매일 출퇴근...    도시안전국 건설과\n",
       " 2     신암동 꿈꽃 어린이집에서 건영캐스빌 철길 사이 어린이보호구역 불법 주정차 단속 신암...    도시안전국 교통과\n",
       " 3     불법증축건물영 업신고합니다 허가된 건축물외에 불법으로 건축물을 확대하여 증축된 불법...  도시안전국 건축주택과\n",
       " 4     동대구차 비스타동원 주변 도로 공사 진행 및 임시 사용 승인 후 진행 안되고 있 동...  도시안전국 건축주택과\n",
       " 5     인도 확장 주정차 불편 파리바게트쪽 라인과 율하동 김밥 쪽라인에 인도 확장 공사로 ...    도시안전국 도시과\n",
       " ...                                                 ...          ...\n",
       " 4873  택시밤샘불법주차 효목동 한전로 골목입니다 저번에도 글을 올렸는데 단속을 나와보니 불...    도시건설국 교통과\n",
       " 4874  동네 마트 너무 해요 반야월 내거리에서 반야월 우체국방면으로 보면 오른쪽에   라고...    도시건설국 건설과\n",
       " 4875          진상확인을 요청합니다 업무에 수고가 많으십니다글쓰기 후 저장이 되지 않고     도시건설국 건설과\n",
       " 4876  신암공원이 참 좋아요 신암동에 사는 주민으로써 신암공원이 산책과 운동을 하기에 참 ...  도시건설국 도시공원과\n",
       " 4877  보도블럭이 깨지고 있답니다 동구 효목동 에 번지에서 동일 아파트 들어가는 입구에 보...    도시건설국 건설과\n",
       " \n",
       " [4320 rows x 2 columns],\n",
       "                                                 content         dept\n",
       " 0     달성공원 새벽시장근처 환경개선이 시급합니다 달성파크푸르지오힐스테이트 입주예정자입니다...    도시안전국 건설과\n",
       " 2     아파트건설현장 주변아파트 피해민원 아파트 건설현장에서 발생하는 소음 먼지 불법주차 ...  도시안전국 건축주택과\n",
       " 3     건들바위역 번 출구 인근 교차로 볼록렌즈 교체 요청 대구광역시 중구 명덕로길  인근...    도시안전국 교통과\n",
       " 4     경북대학교병원 응급실 앞 노상주차장 이용 년 월 일 까지 경북대학교병원 응급실 앞 ...    도시안전국 교통과\n",
       " 5     봉산문화길 인도 공사 첨부한 동영상 보시면 아시겠지만 저희 가게 문 앞을 다 막아서...    도시안전국 건설과\n",
       " ...                                                 ...          ...\n",
       " 2980  전화신청 장애인용 일반전화 신청을 한 달 전에 대구 중구 달성 동사무소에서 했습니다...     읍/면/동사무소\n",
       " 2981  주민등록 번호를 알고 싶습니다 안녕하십니까 수고가 많으십니다저희 할아버지 주민등록 ...      총무국 총무과\n",
       " 2982  견인에 관해서 년 월 일 낮 시분시분경 대구역앞 대우빌딩 앞에 잠시 정차를 하고 있...      총무국 총무과\n",
       " 2983  견인으로 인한 불이익 년 대우빌딩 앞 노상에서 주차위반으로 견인조치된 차량으로 견인...      총무국 총무과\n",
       " 2984  호적초본 전산발급됩니까 지방거주자입니다 호적초본 전산발급이 가능합니까가능하다면 어디...      총무국 총무과\n",
       " \n",
       " [2632 rows x 2 columns],\n",
       "                                                 content           dept\n",
       " 0     매천동 청구장미아파트삼우그린 입구 불합리 위치  매천동 청구장미아파트삼우그린아파트 ...        도시국 건설과\n",
       " 1     처리중언제까지 어린이보호구역 불법주차 불법적재 신고한지가 언제인데 아직 처리중적재물...      도시국 도시행정과\n",
       " 2     도로개설 본인은 대구시 북구 태전동   번지 토지 소유자 입니다현재 상기 토지에서 ...        도시국 건설과\n",
       " 3     북구청장감사실은 뭐 하는 곳 입니까 묻습니다 불법에 대한 최고의 북구 전문가 북구청...            감사실\n",
       " 4     대구시장 북구청장 감사실은 뭐 하는 부서 입니까 감사실 폐쇄하셔요 미관지구 대구시장...            감사실\n",
       " ...                                                 ...            ...\n",
       " 8064  같은 건물 같은 층에 있는 헬스클럽 소음 규제 방법은요 산격동  번지 층 입니다 대...  주민생활지원국 환경관리과\n",
       " 8065    가로등수리 검단동 가로등 수리 좀 해주세요 곰 레미콘에서 민들레 아파트까지 수고하세요        도시국 건설과\n",
       " 8066  견인하는 곳에서는 카드결제가 안되나요 안녕하세요우선 견인되어진 장소에서 차를 찾으로...        도시국 교통과\n",
       " 8067  재건축 시행사의 불법 복현주공 단지 아파트에 살고있는 주민입니다 재건축을 한다고 졶...      도시국 건축주택과\n",
       " 8068  분양승인후 청약접수 일정 연기에 관한 문의 기존 주택법상 공동주택의 경우 모집공고 ...      도시국 건축주택과\n",
       " \n",
       " [6835 rows x 2 columns],\n",
       "                                                 content         dept\n",
       " 0     매번 수거 하시는 분들만 수고하시네요 동일고충민원여부동일고충민원여부  선행민원번호 ...     읍/면/동사무소\n",
       " 1     비대면 처방전 거부한 약국 있습니다 아이가 콧물 감기로 아프기시작해서비대면 처방을받...    보건소 보건행정과\n",
       " 2     전봇대 우째 좀 안됩니까  가 설치 되어도 무단 투기가 개선 되지 않는 건 전봇대가...     읍/면/동사무소\n",
       " 3     평리구역서대구 영무예다음 부실 시공 등 시공사 소극적 조치에 대한 민원 우리 서구의...  도시안전국 건축주택과\n",
       " 5     여름철대비 비산동에 사는 주민입니다 공무에 힘쓰시느라 수고가 많으십니다 비산동이 주...    보건소 보건행정과\n",
       " ...                                                 ...          ...\n",
       " 2649  저 저번에 질문한 사람인데요 죄송하지만 우편물이 또 그사람 이름으로 날라왔거든요그일...     읍/면/동사무소\n",
       " 2651  뭐좀 물어볼려구요 저기요집으로 다른사람이름으로 음식물쓰레기 수수료 국민 건강보험 독...     읍/면/동사무소\n",
       " 2652  소음 및 분진 피해삼육비철 구정에 고생이 많으십니다저는 서구 원대가 번지에 처와 개...  사회산업국 환경관리과\n",
       " 2653  서구청 귀청의 전력 에너지 사용량 자료 요청 귀청의 무한한 발전을 기원합니다안녕하십...    도시국 건축주택과\n",
       " 2654  토지대장과건물대장이 같은것인가요 건강보험공단에서 건물대장을 떼오라는데 토지대장과 같...    도시국 건축주택과\n",
       " \n",
       " [2375 rows x 2 columns],\n",
       "                                                 content       dept\n",
       " 0     범어 우방  차 공사장 도로 시설물 점검 요청 청구푸른마을에 거주하는 시민입니다어제...    도시국 건설과\n",
       " 1     쓰레기 불법 투기자를 신고합니다 만촌동주택가 맞은편 앞집에서 주기적으로 쓰레기 배출...  복지국 자원순환과\n",
       " 2     우방 차 재건축공사 관련 도로 점유 및 주민 통행 방해에 대한 진정 구정에 노고가 ...    도시국 건설과\n",
       " 3     파동 건설현장앞 이중주차 파동건설현장 앞 이중주차로 인한불편사항 접수합니다민원을 몇...    도시국 교통과\n",
       " 4     지범로 길  더트루웰수성아파트 주변 주정차 단속 저는 해당 주소 층에 거주하고 있는...    도시국 교통과\n",
       " ...                                                 ...        ...\n",
       " 7218  조건부 수급자에 대하여 저희는 조건부 수급자 입니다미취업 미진학시 의무적으로 교육을...    복지국 복지과\n",
       " 7220  궁금한 점이 수성구 제기 취미교실 공고를 보고 궁금한 점이 몇가지 있어서요우선 홈페...    복지국 복지과\n",
       " 7221  빠른 답변 오늘 동사무소에서 전화를 받았습니다저는 고등 년때 기분 마다 동사무소에서...    복지국 복지과\n",
       " 7223  생보자에 관하여꼭 답 부탁드려요 안녕하세요저는 신중훈입니다지금 저희 집은 생보자 상...    복지국 복지과\n",
       " 7224  허가가 나나요 수성구 황금동 번지에 카센터를 하려고 하는데급 허가가 나나요궁금합니다...    도시국 교통과\n",
       " \n",
       " [6627 rows x 2 columns]]"
      ]
     },
     "execution_count": 39,
     "metadata": {},
     "output_type": "execute_result"
    }
   ],
   "source": [
    "new_complain_list"
   ]
  },
  {
   "cell_type": "code",
   "execution_count": 40,
   "id": "eb20deae-4c69-4cd3-83f2-12c6564893d7",
   "metadata": {},
   "outputs": [
    {
     "name": "stdout",
     "output_type": "stream",
     "text": [
      "6836\n",
      "2558\n",
      "5256\n",
      "4320\n",
      "2632\n",
      "6835\n",
      "2375\n",
      "6627\n",
      "6836\n",
      "2558\n",
      "5256\n",
      "4320\n",
      "2632\n",
      "6835\n",
      "2375\n",
      "6627\n"
     ]
    }
   ],
   "source": [
    "# rare 클래스 제거 후\n",
    "for df in new_complain_list:\n",
    "    print(len(df))"
   ]
  },
  {
   "cell_type": "code",
   "execution_count": 26,
   "id": "4223e4e7-db00-4c90-a418-6a4237d60c84",
   "metadata": {},
   "outputs": [],
   "source": [
    "complain_list = new_complain_list"
   ]
  },
  {
   "cell_type": "code",
   "execution_count": null,
   "id": "094e636b-fc00-4352-9ff7-9f0c0816f6b5",
   "metadata": {},
   "outputs": [],
   "source": []
  },
  {
   "cell_type": "code",
   "execution_count": null,
   "id": "30ca059d-9ab0-46fd-8dca-5b87bf4f1c88",
   "metadata": {},
   "outputs": [],
   "source": []
  },
  {
   "cell_type": "code",
   "execution_count": null,
   "id": "1932c96f-7156-47ea-b315-f5f18c895aef",
   "metadata": {},
   "outputs": [],
   "source": []
  },
  {
   "cell_type": "code",
   "execution_count": 27,
   "id": "8765f408-b727-4e65-a863-03ba84a262e0",
   "metadata": {},
   "outputs": [],
   "source": [
    "save()"
   ]
  },
  {
   "cell_type": "code",
   "execution_count": null,
   "id": "ad7a63c5",
   "metadata": {},
   "outputs": [],
   "source": []
  }
 ],
 "metadata": {
  "kernelspec": {
   "display_name": "Python 3 (ipykernel)",
   "language": "python",
   "name": "python3"
  },
  "language_info": {
   "codemirror_mode": {
    "name": "ipython",
    "version": 3
   },
   "file_extension": ".py",
   "mimetype": "text/x-python",
   "name": "python",
   "nbconvert_exporter": "python",
   "pygments_lexer": "ipython3",
   "version": "3.9.13"
  }
 },
 "nbformat": 4,
 "nbformat_minor": 5
}
